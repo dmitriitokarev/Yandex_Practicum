{
 "cells": [
  {
   "cell_type": "markdown",
   "id": "4234a7df",
   "metadata": {
    "deletable": false,
    "editable": false,
    "id": "c81daeeb"
   },
   "source": [
    "# Исследование надежности заемщиков\n"
   ]
  },
  {
   "cell_type": "markdown",
   "id": "a4a1c5cc",
   "metadata": {
    "deletable": false,
    "editable": false,
    "id": "827c20bf"
   },
   "source": [
    "Во второй части проекта вы выполните шаги 3 и 4. Их вручную проверит ревьюер.\n",
    "Чтобы вам не пришлось писать код заново для шагов 1 и 2, мы добавили авторские решения в ячейки с кодом. \n",
    "\n"
   ]
  },
  {
   "cell_type": "markdown",
   "id": "6a047d37",
   "metadata": {
    "deletable": false,
    "editable": false,
    "id": "744d7639"
   },
   "source": [
    "## Откройте таблицу и изучите общую информацию о данных"
   ]
  },
  {
   "cell_type": "markdown",
   "id": "87533f80",
   "metadata": {
    "deletable": false,
    "editable": false,
    "id": "e7a14c31"
   },
   "source": [
    "**Задание 1. Импортируйте библиотеку pandas. Считайте данные из csv-файла в датафрейм и сохраните в переменную `data`. Путь к файлу:**\n",
    "\n",
    "`/datasets/data.csv`"
   ]
  },
  {
   "cell_type": "code",
   "execution_count": 1,
   "id": "64e30652",
   "metadata": {
    "deletable": false,
    "id": "7bcf75c9"
   },
   "outputs": [],
   "source": [
    "import pandas as pd\n",
    "\n",
    "try:\n",
    "    data = pd.read_csv('/datasets/data.csv')\n",
    "except:\n",
    "    data = pd.read_csv('https://code.s3.yandex.net/datasets/data.csv')"
   ]
  },
  {
   "cell_type": "markdown",
   "id": "76dc3257",
   "metadata": {
    "deletable": false,
    "editable": false,
    "id": "b8038fe3"
   },
   "source": [
    "**Задание 2. Выведите первые 20 строчек датафрейма `data` на экран.**"
   ]
  },
  {
   "cell_type": "code",
   "execution_count": 32,
   "id": "acf49e04",
   "metadata": {
    "deletable": false,
    "id": "2a7cab99",
    "outputId": "1a8f3ef2-d323-4ec2-ddf7-89670b5944c4",
    "scrolled": true
   },
   "outputs": [
    {
     "data": {
      "text/html": [
       "<div>\n",
       "<style scoped>\n",
       "    .dataframe tbody tr th:only-of-type {\n",
       "        vertical-align: middle;\n",
       "    }\n",
       "\n",
       "    .dataframe tbody tr th {\n",
       "        vertical-align: top;\n",
       "    }\n",
       "\n",
       "    .dataframe thead th {\n",
       "        text-align: right;\n",
       "    }\n",
       "</style>\n",
       "<table border=\"1\" class=\"dataframe\">\n",
       "  <thead>\n",
       "    <tr style=\"text-align: right;\">\n",
       "      <th></th>\n",
       "      <th>children</th>\n",
       "      <th>days_employed</th>\n",
       "      <th>dob_years</th>\n",
       "      <th>education</th>\n",
       "      <th>education_id</th>\n",
       "      <th>family_status</th>\n",
       "      <th>family_status_id</th>\n",
       "      <th>gender</th>\n",
       "      <th>income_type</th>\n",
       "      <th>debt</th>\n",
       "      <th>total_income</th>\n",
       "      <th>purpose</th>\n",
       "      <th>total_income_category</th>\n",
       "      <th>purpose_category</th>\n",
       "    </tr>\n",
       "  </thead>\n",
       "  <tbody>\n",
       "    <tr>\n",
       "      <th>0</th>\n",
       "      <td>1</td>\n",
       "      <td>8437.673028</td>\n",
       "      <td>42</td>\n",
       "      <td>высшее</td>\n",
       "      <td>0</td>\n",
       "      <td>женат / замужем</td>\n",
       "      <td>0</td>\n",
       "      <td>F</td>\n",
       "      <td>сотрудник</td>\n",
       "      <td>0</td>\n",
       "      <td>253875</td>\n",
       "      <td>покупка жилья</td>\n",
       "      <td>B</td>\n",
       "      <td>операции с недвижимостью</td>\n",
       "    </tr>\n",
       "    <tr>\n",
       "      <th>1</th>\n",
       "      <td>1</td>\n",
       "      <td>4024.803754</td>\n",
       "      <td>36</td>\n",
       "      <td>среднее</td>\n",
       "      <td>1</td>\n",
       "      <td>женат / замужем</td>\n",
       "      <td>0</td>\n",
       "      <td>F</td>\n",
       "      <td>сотрудник</td>\n",
       "      <td>0</td>\n",
       "      <td>112080</td>\n",
       "      <td>приобретение автомобиля</td>\n",
       "      <td>C</td>\n",
       "      <td>операции с автомобилем</td>\n",
       "    </tr>\n",
       "    <tr>\n",
       "      <th>2</th>\n",
       "      <td>0</td>\n",
       "      <td>5623.422610</td>\n",
       "      <td>33</td>\n",
       "      <td>среднее</td>\n",
       "      <td>1</td>\n",
       "      <td>женат / замужем</td>\n",
       "      <td>0</td>\n",
       "      <td>M</td>\n",
       "      <td>сотрудник</td>\n",
       "      <td>0</td>\n",
       "      <td>145885</td>\n",
       "      <td>покупка жилья</td>\n",
       "      <td>C</td>\n",
       "      <td>операции с недвижимостью</td>\n",
       "    </tr>\n",
       "    <tr>\n",
       "      <th>3</th>\n",
       "      <td>3</td>\n",
       "      <td>4124.747207</td>\n",
       "      <td>32</td>\n",
       "      <td>среднее</td>\n",
       "      <td>1</td>\n",
       "      <td>женат / замужем</td>\n",
       "      <td>0</td>\n",
       "      <td>M</td>\n",
       "      <td>сотрудник</td>\n",
       "      <td>0</td>\n",
       "      <td>267628</td>\n",
       "      <td>дополнительное образование</td>\n",
       "      <td>B</td>\n",
       "      <td>получение образования</td>\n",
       "    </tr>\n",
       "    <tr>\n",
       "      <th>4</th>\n",
       "      <td>0</td>\n",
       "      <td>340266.072047</td>\n",
       "      <td>53</td>\n",
       "      <td>среднее</td>\n",
       "      <td>1</td>\n",
       "      <td>гражданский брак</td>\n",
       "      <td>1</td>\n",
       "      <td>F</td>\n",
       "      <td>пенсионер</td>\n",
       "      <td>0</td>\n",
       "      <td>158616</td>\n",
       "      <td>сыграть свадьбу</td>\n",
       "      <td>C</td>\n",
       "      <td>проведение свадьбы</td>\n",
       "    </tr>\n",
       "    <tr>\n",
       "      <th>5</th>\n",
       "      <td>0</td>\n",
       "      <td>926.185831</td>\n",
       "      <td>27</td>\n",
       "      <td>высшее</td>\n",
       "      <td>0</td>\n",
       "      <td>гражданский брак</td>\n",
       "      <td>1</td>\n",
       "      <td>M</td>\n",
       "      <td>компаньон</td>\n",
       "      <td>0</td>\n",
       "      <td>255763</td>\n",
       "      <td>покупка жилья</td>\n",
       "      <td>B</td>\n",
       "      <td>операции с недвижимостью</td>\n",
       "    </tr>\n",
       "    <tr>\n",
       "      <th>6</th>\n",
       "      <td>0</td>\n",
       "      <td>2879.202052</td>\n",
       "      <td>43</td>\n",
       "      <td>высшее</td>\n",
       "      <td>0</td>\n",
       "      <td>женат / замужем</td>\n",
       "      <td>0</td>\n",
       "      <td>F</td>\n",
       "      <td>компаньон</td>\n",
       "      <td>0</td>\n",
       "      <td>240525</td>\n",
       "      <td>операции с жильем</td>\n",
       "      <td>B</td>\n",
       "      <td>операции с недвижимостью</td>\n",
       "    </tr>\n",
       "    <tr>\n",
       "      <th>7</th>\n",
       "      <td>0</td>\n",
       "      <td>152.779569</td>\n",
       "      <td>50</td>\n",
       "      <td>среднее</td>\n",
       "      <td>1</td>\n",
       "      <td>женат / замужем</td>\n",
       "      <td>0</td>\n",
       "      <td>M</td>\n",
       "      <td>сотрудник</td>\n",
       "      <td>0</td>\n",
       "      <td>135823</td>\n",
       "      <td>образование</td>\n",
       "      <td>C</td>\n",
       "      <td>получение образования</td>\n",
       "    </tr>\n",
       "    <tr>\n",
       "      <th>8</th>\n",
       "      <td>2</td>\n",
       "      <td>6929.865299</td>\n",
       "      <td>35</td>\n",
       "      <td>высшее</td>\n",
       "      <td>0</td>\n",
       "      <td>гражданский брак</td>\n",
       "      <td>1</td>\n",
       "      <td>F</td>\n",
       "      <td>сотрудник</td>\n",
       "      <td>0</td>\n",
       "      <td>95856</td>\n",
       "      <td>на проведение свадьбы</td>\n",
       "      <td>C</td>\n",
       "      <td>проведение свадьбы</td>\n",
       "    </tr>\n",
       "    <tr>\n",
       "      <th>9</th>\n",
       "      <td>0</td>\n",
       "      <td>2188.756445</td>\n",
       "      <td>41</td>\n",
       "      <td>среднее</td>\n",
       "      <td>1</td>\n",
       "      <td>женат / замужем</td>\n",
       "      <td>0</td>\n",
       "      <td>M</td>\n",
       "      <td>сотрудник</td>\n",
       "      <td>0</td>\n",
       "      <td>144425</td>\n",
       "      <td>покупка жилья для семьи</td>\n",
       "      <td>C</td>\n",
       "      <td>операции с недвижимостью</td>\n",
       "    </tr>\n",
       "  </tbody>\n",
       "</table>\n",
       "</div>"
      ],
      "text/plain": [
       "   children  days_employed  dob_years education  education_id  \\\n",
       "0         1    8437.673028         42    высшее             0   \n",
       "1         1    4024.803754         36   среднее             1   \n",
       "2         0    5623.422610         33   среднее             1   \n",
       "3         3    4124.747207         32   среднее             1   \n",
       "4         0  340266.072047         53   среднее             1   \n",
       "5         0     926.185831         27    высшее             0   \n",
       "6         0    2879.202052         43    высшее             0   \n",
       "7         0     152.779569         50   среднее             1   \n",
       "8         2    6929.865299         35    высшее             0   \n",
       "9         0    2188.756445         41   среднее             1   \n",
       "\n",
       "      family_status  family_status_id gender income_type  debt  total_income  \\\n",
       "0   женат / замужем                 0      F   сотрудник     0        253875   \n",
       "1   женат / замужем                 0      F   сотрудник     0        112080   \n",
       "2   женат / замужем                 0      M   сотрудник     0        145885   \n",
       "3   женат / замужем                 0      M   сотрудник     0        267628   \n",
       "4  гражданский брак                 1      F   пенсионер     0        158616   \n",
       "5  гражданский брак                 1      M   компаньон     0        255763   \n",
       "6   женат / замужем                 0      F   компаньон     0        240525   \n",
       "7   женат / замужем                 0      M   сотрудник     0        135823   \n",
       "8  гражданский брак                 1      F   сотрудник     0         95856   \n",
       "9   женат / замужем                 0      M   сотрудник     0        144425   \n",
       "\n",
       "                      purpose total_income_category          purpose_category  \n",
       "0               покупка жилья                     B  операции с недвижимостью  \n",
       "1     приобретение автомобиля                     C    операции с автомобилем  \n",
       "2               покупка жилья                     C  операции с недвижимостью  \n",
       "3  дополнительное образование                     B     получение образования  \n",
       "4             сыграть свадьбу                     C        проведение свадьбы  \n",
       "5               покупка жилья                     B  операции с недвижимостью  \n",
       "6           операции с жильем                     B  операции с недвижимостью  \n",
       "7                 образование                     C     получение образования  \n",
       "8       на проведение свадьбы                     C        проведение свадьбы  \n",
       "9     покупка жилья для семьи                     C  операции с недвижимостью  "
      ]
     },
     "execution_count": 32,
     "metadata": {},
     "output_type": "execute_result"
    }
   ],
   "source": [
    "data.head(10)"
   ]
  },
  {
   "cell_type": "raw",
   "id": "faf3d596",
   "metadata": {},
   "source": [
    "Попробовал отфильтровать сколько пропусков, в каких целях\n",
    "Для того чтобы понять при каких целях допускаются большинство пропусков данных\n",
    "Данная информация нужна из-за отсутствия столбца с возрастом \n",
    "Цель: понять почему допускаются пропуски и где, возможно цель кредита -то есть сам кредит(сумма) слишком незначителен и на него просто не берутся  данные по зарплате.\n",
    "#data[data['total_income'] == 'NaN'].groupby['purpose']"
   ]
  },
  {
   "cell_type": "markdown",
   "id": "b1940e11",
   "metadata": {
    "deletable": false,
    "editable": false,
    "id": "1c12e233"
   },
   "source": [
    "**Задание 3. Выведите основную информацию о датафрейме с помощью метода `info()`.**"
   ]
  },
  {
   "cell_type": "code",
   "execution_count": 3,
   "id": "70d3f346",
   "metadata": {
    "deletable": false,
    "id": "2b757bca",
    "outputId": "15376089-8dad-46c9-b520-c05248d43158",
    "scrolled": true
   },
   "outputs": [
    {
     "name": "stdout",
     "output_type": "stream",
     "text": [
      "<class 'pandas.core.frame.DataFrame'>\n",
      "RangeIndex: 21525 entries, 0 to 21524\n",
      "Data columns (total 12 columns):\n",
      " #   Column            Non-Null Count  Dtype  \n",
      "---  ------            --------------  -----  \n",
      " 0   children          21525 non-null  int64  \n",
      " 1   days_employed     19351 non-null  float64\n",
      " 2   dob_years         21525 non-null  int64  \n",
      " 3   education         21525 non-null  object \n",
      " 4   education_id      21525 non-null  int64  \n",
      " 5   family_status     21525 non-null  object \n",
      " 6   family_status_id  21525 non-null  int64  \n",
      " 7   gender            21525 non-null  object \n",
      " 8   income_type       21525 non-null  object \n",
      " 9   debt              21525 non-null  int64  \n",
      " 10  total_income      19351 non-null  float64\n",
      " 11  purpose           21525 non-null  object \n",
      "dtypes: float64(2), int64(5), object(5)\n",
      "memory usage: 2.0+ MB\n"
     ]
    }
   ],
   "source": [
    "data.info()"
   ]
  },
  {
   "cell_type": "markdown",
   "id": "c4c067ce",
   "metadata": {
    "deletable": false,
    "editable": false,
    "id": "333ec665"
   },
   "source": [
    "## Предобработка данных"
   ]
  },
  {
   "cell_type": "markdown",
   "id": "1e9d603e",
   "metadata": {
    "deletable": false,
    "editable": false,
    "id": "02d92d53"
   },
   "source": [
    "### Удаление пропусков"
   ]
  },
  {
   "cell_type": "markdown",
   "id": "16b8ba92",
   "metadata": {
    "deletable": false,
    "editable": false,
    "id": "cd84967c"
   },
   "source": [
    "**Задание 4. Выведите количество пропущенных значений для каждого столбца. Используйте комбинацию двух методов.**"
   ]
  },
  {
   "cell_type": "code",
   "execution_count": 4,
   "id": "d2f64791",
   "metadata": {
    "scrolled": true
   },
   "outputs": [
    {
     "data": {
      "text/plain": [
       "purpose\n",
       "на проведение свадьбы                     92\n",
       "сыграть свадьбу                           81\n",
       "свадьба                                   76\n",
       "строительство собственной недвижимости    75\n",
       "операции с жильем                         74\n",
       "покупка недвижимости                      72\n",
       "покупка жилья для семьи                   71\n",
       "операции со своей недвижимостью           71\n",
       "ремонт жилью                              70\n",
       "операции с коммерческой недвижимостью     70\n",
       "покупка коммерческой недвижимости         67\n",
       "покупка жилья для сдачи                   65\n",
       "недвижимость                              62\n",
       "операции с недвижимостью                  61\n",
       "покупка жилой недвижимости                61\n",
       "жилье                                     60\n",
       "строительство недвижимости                59\n",
       "автомобили                                57\n",
       "заняться высшим образованием              56\n",
       "заняться образованием                     55\n",
       "сделка с подержанным автомобилем          54\n",
       "на покупку своего автомобиля              53\n",
       "покупка жилья                             52\n",
       "свой автомобиль                           52\n",
       "получение дополнительного образования     51\n",
       "получение образования                     50\n",
       "дополнительное образование                48\n",
       "профильное образование                    47\n",
       "покупка своего жилья                      46\n",
       "сделка с автомобилем                      46\n",
       "строительство жилой недвижимости          46\n",
       "приобретение автомобиля                   43\n",
       "на покупку подержанного автомобиля        42\n",
       "образование                               42\n",
       "автомобиль                                41\n",
       "высшее образование                        40\n",
       "получение высшего образования             36\n",
       "на покупку автомобиля                     30\n",
       "Name: children, dtype: int64"
      ]
     },
     "execution_count": 4,
     "metadata": {},
     "output_type": "execute_result"
    }
   ],
   "source": [
    "#цель: посмотреть сколько пропусков по каждой категории взятия кредитов\n",
    "na_income = data.loc[data['total_income'].isna() == True]\n",
    "nan_total = na_income.groupby('purpose')['children'].count()\n",
    "nan_total = nan_total.sort_values(ascending = False)\n",
    "nan_total\n",
    "\n",
    "\n",
    "#данный код запускается до выполнения скрипта по очистке данный от пропусков, но после выполнения функции по  разделениям на категории\n",
    "#nan_total.groupby('purpose_category')['children'].count()\n"
   ]
  },
  {
   "cell_type": "code",
   "execution_count": 5,
   "id": "ede0cbd6",
   "metadata": {
    "scrolled": true
   },
   "outputs": [
    {
     "data": {
      "text/plain": [
       "income_type\n",
       "сотрудник          1105\n",
       "компаньон           508\n",
       "пенсионер           413\n",
       "госслужащий         147\n",
       "предприниматель       1\n",
       "Name: children, dtype: int64"
      ]
     },
     "execution_count": 5,
     "metadata": {},
     "output_type": "execute_result"
    }
   ],
   "source": [
    "nan_family_status = data.loc[data['total_income'].isna() == True]\n",
    "nan_family_status_total = nan_family_status.groupby('income_type')['children'].count()\n",
    "nan_family_status_total = nan_family_status_total.sort_values(ascending = False)\n",
    "nan_family_status_total"
   ]
  },
  {
   "cell_type": "code",
   "execution_count": null,
   "id": "c99ee2eb",
   "metadata": {},
   "outputs": [],
   "source": [
    "nan_family_status_total = nan_family_status_total."
   ]
  },
  {
   "cell_type": "code",
   "execution_count": 6,
   "id": "eeace74c",
   "metadata": {
    "deletable": false,
    "id": "7f9b2309",
    "outputId": "81f4d817-781c-465c-ed15-91ce4446810d"
   },
   "outputs": [
    {
     "data": {
      "text/plain": [
       "children               0\n",
       "days_employed       2174\n",
       "dob_years              0\n",
       "education              0\n",
       "education_id           0\n",
       "family_status          0\n",
       "family_status_id       0\n",
       "gender                 0\n",
       "income_type            0\n",
       "debt                   0\n",
       "total_income        2174\n",
       "purpose                0\n",
       "dtype: int64"
      ]
     },
     "execution_count": 6,
     "metadata": {},
     "output_type": "execute_result"
    }
   ],
   "source": [
    "data.isna().sum()"
   ]
  },
  {
   "cell_type": "markdown",
   "id": "f937de6a",
   "metadata": {
    "deletable": false,
    "editable": false,
    "id": "db86e27b"
   },
   "source": [
    "**Задание 5. В двух столбцах есть пропущенные значения. Один из них — `days_employed`. Пропуски в этом столбце вы обработаете на следующем этапе. Другой столбец с пропущенными значениями — `total_income` — хранит данные о доходах. На сумму дохода сильнее всего влияет тип занятости, поэтому заполнить пропуски в этом столбце нужно медианным значением по каждому типу из столбца `income_type`. Например, у человека с типом занятости `сотрудник` пропуск в столбце `total_income` должен быть заполнен медианным доходом среди всех записей с тем же типом.**"
   ]
  },
  {
   "cell_type": "code",
   "execution_count": 7,
   "id": "dea640fc",
   "metadata": {
    "deletable": false,
    "id": "42006a93"
   },
   "outputs": [],
   "source": [
    "for t in data['income_type'].unique():\n",
    "    data.loc[(data['income_type'] == t) & (data['total_income'].isna()), 'total_income'] = \\\n",
    "    data.loc[(data['income_type'] == t), 'total_income'].median()"
   ]
  },
  {
   "cell_type": "markdown",
   "id": "ef47c57c",
   "metadata": {
    "deletable": false,
    "editable": false,
    "id": "89da5ece"
   },
   "source": [
    "### Обработка аномальных значений"
   ]
  },
  {
   "cell_type": "markdown",
   "id": "8a0f511c",
   "metadata": {
    "deletable": false,
    "editable": false,
    "id": "57964554"
   },
   "source": [
    "**Задание 6. В данных могут встречаться артефакты (аномалии) — значения, которые не отражают действительность и появились по какой-то ошибке. таким артефактом будет отрицательное количество дней трудового стажа в столбце `days_employed`. Для реальных данных это нормально. Обработайте значения в этом столбце: замените все отрицательные значения положительными с помощью метода `abs()`.**"
   ]
  },
  {
   "cell_type": "code",
   "execution_count": 8,
   "id": "dec67e6f",
   "metadata": {
    "deletable": false,
    "id": "f6f055bf"
   },
   "outputs": [],
   "source": [
    "data['days_employed'] = data['days_employed'].abs()"
   ]
  },
  {
   "cell_type": "markdown",
   "id": "0ce11824",
   "metadata": {
    "deletable": false,
    "editable": false,
    "id": "6107dd2f"
   },
   "source": [
    "**Задание 7. Для каждого типа занятости выведите медианное значение трудового стажа `days_employed` в днях.**"
   ]
  },
  {
   "cell_type": "code",
   "execution_count": 9,
   "id": "696ceb90",
   "metadata": {
    "deletable": false,
    "id": "85a5faf6",
    "outputId": "801ef80e-522b-4668-f34e-565af7432bcf"
   },
   "outputs": [
    {
     "data": {
      "text/plain": [
       "income_type\n",
       "безработный        366413.652744\n",
       "в декрете            3296.759962\n",
       "госслужащий          2689.368353\n",
       "компаньон            1547.382223\n",
       "пенсионер          365213.306266\n",
       "предприниматель       520.848083\n",
       "сотрудник            1574.202821\n",
       "студент               578.751554\n",
       "Name: days_employed, dtype: float64"
      ]
     },
     "execution_count": 9,
     "metadata": {},
     "output_type": "execute_result"
    }
   ],
   "source": [
    "data.groupby('income_type')['days_employed'].agg('median')"
   ]
  },
  {
   "cell_type": "markdown",
   "id": "55309b31",
   "metadata": {
    "deletable": false,
    "editable": false,
    "id": "38d1a030"
   },
   "source": [
    "У двух типов (безработные и пенсионеры) получатся аномально большие значения. Исправить такие значения сложно, поэтому оставьте их как есть. Тем более этот столбец не понадобится вам для исследования."
   ]
  },
  {
   "cell_type": "markdown",
   "id": "7e3bd46e",
   "metadata": {
    "deletable": false,
    "editable": false,
    "id": "d8a9f147"
   },
   "source": [
    "**Задание 8. Выведите перечень уникальных значений столбца `children`.**"
   ]
  },
  {
   "cell_type": "code",
   "execution_count": 10,
   "id": "89cb0e53",
   "metadata": {
    "deletable": false,
    "id": "ef5056eb",
    "outputId": "6975b15c-7f95-4697-d16d-a0c79b657b03"
   },
   "outputs": [
    {
     "data": {
      "text/plain": [
       "array([ 1,  0,  3,  2, -1,  4, 20,  5])"
      ]
     },
     "execution_count": 10,
     "metadata": {},
     "output_type": "execute_result"
    }
   ],
   "source": [
    "data['children'].unique()"
   ]
  },
  {
   "cell_type": "markdown",
   "id": "3c2c2883",
   "metadata": {
    "deletable": false,
    "editable": false,
    "id": "40b9ebf2"
   },
   "source": [
    "**Задание 9. В столбце `children` есть два аномальных значения. Удалите строки, в которых встречаются такие аномальные значения из датафрейма `data`.**"
   ]
  },
  {
   "cell_type": "code",
   "execution_count": 11,
   "id": "3ee1265a",
   "metadata": {
    "deletable": false,
    "id": "3ff9801d"
   },
   "outputs": [],
   "source": [
    "data = data[(data['children'] != -1) & (data['children'] != 20)]"
   ]
  },
  {
   "cell_type": "markdown",
   "id": "82a0aaf0",
   "metadata": {
    "deletable": false,
    "editable": false,
    "id": "bbc4d0ce"
   },
   "source": [
    "**Задание 10. Ещё раз выведите перечень уникальных значений столбца `children`, чтобы убедиться, что артефакты удалены.**"
   ]
  },
  {
   "cell_type": "code",
   "execution_count": 12,
   "id": "7000676b",
   "metadata": {
    "deletable": false,
    "id": "ad4fa8b7",
    "outputId": "b2097101-d49d-44d9-901b-32a65c9463d1"
   },
   "outputs": [
    {
     "data": {
      "text/plain": [
       "array([1, 0, 3, 2, 4, 5])"
      ]
     },
     "execution_count": 12,
     "metadata": {},
     "output_type": "execute_result"
    }
   ],
   "source": [
    "data['children'].unique()"
   ]
  },
  {
   "cell_type": "markdown",
   "id": "8ab4250e",
   "metadata": {
    "deletable": false,
    "editable": false,
    "id": "75440b63"
   },
   "source": [
    "### Удаление пропусков (продолжение)"
   ]
  },
  {
   "cell_type": "markdown",
   "id": "5dba26e9",
   "metadata": {
    "deletable": false,
    "editable": false,
    "id": "f4ea573f"
   },
   "source": [
    "**Задание 11. Заполните пропуски в столбце `days_employed` медианными значениями по каждого типа занятости `income_type`.**"
   ]
  },
  {
   "cell_type": "code",
   "execution_count": 13,
   "id": "4269f582",
   "metadata": {
    "deletable": false,
    "id": "af6b1a7e"
   },
   "outputs": [],
   "source": [
    "for t in data['income_type'].unique():\n",
    "    data.loc[(data['income_type'] == t) & (data['days_employed'].isna()), 'days_employed'] = \\\n",
    "    data.loc[(data['income_type'] == t), 'days_employed'].median()"
   ]
  },
  {
   "cell_type": "markdown",
   "id": "93fe775b",
   "metadata": {
    "deletable": false,
    "editable": false,
    "id": "2753f40d"
   },
   "source": [
    "**Задание 12. Убедитесь, что все пропуски заполнены. Проверьте себя и ещё раз выведите количество пропущенных значений для каждого столбца с помощью двух методов.**"
   ]
  },
  {
   "cell_type": "code",
   "execution_count": 14,
   "id": "84977a29",
   "metadata": {
    "deletable": false,
    "id": "55f78bc2",
    "outputId": "8da1e4e1-358e-4e87-98c9-f261bce0a7b2"
   },
   "outputs": [
    {
     "data": {
      "text/plain": [
       "children            0\n",
       "days_employed       0\n",
       "dob_years           0\n",
       "education           0\n",
       "education_id        0\n",
       "family_status       0\n",
       "family_status_id    0\n",
       "gender              0\n",
       "income_type         0\n",
       "debt                0\n",
       "total_income        0\n",
       "purpose             0\n",
       "dtype: int64"
      ]
     },
     "execution_count": 14,
     "metadata": {},
     "output_type": "execute_result"
    }
   ],
   "source": [
    "data.isna().sum()"
   ]
  },
  {
   "cell_type": "markdown",
   "id": "10c6e9de",
   "metadata": {
    "deletable": false,
    "editable": false,
    "id": "ddc81e43"
   },
   "source": [
    "### Изменение типов данных"
   ]
  },
  {
   "cell_type": "markdown",
   "id": "244d9279",
   "metadata": {
    "deletable": false,
    "editable": false,
    "id": "42d19d24"
   },
   "source": [
    "**Задание 13. Замените вещественный тип данных в столбце `total_income` на целочисленный с помощью метода `astype()`.**"
   ]
  },
  {
   "cell_type": "code",
   "execution_count": 15,
   "id": "ed11fc60",
   "metadata": {
    "deletable": false,
    "id": "920b65ad"
   },
   "outputs": [],
   "source": [
    "data['total_income'] = data['total_income'].astype(int)"
   ]
  },
  {
   "cell_type": "markdown",
   "id": "e27b42b5",
   "metadata": {
    "deletable": false,
    "editable": false,
    "id": "80c420ba"
   },
   "source": [
    "### Обработка дубликатов"
   ]
  },
  {
   "cell_type": "markdown",
   "id": "7cf8e3b4",
   "metadata": {
    "deletable": false,
    "editable": false
   },
   "source": [
    "**Задание 14. Обработайте неявные дубликаты в столбце `education`. В этом столбце есть одни и те же значения, но записанные по-разному: с использованием заглавных и строчных букв. Приведите их к нижнему регистру. Проверьте остальные столбцы.**"
   ]
  },
  {
   "cell_type": "code",
   "execution_count": 16,
   "id": "686004e5",
   "metadata": {
    "deletable": false
   },
   "outputs": [],
   "source": [
    "data['education'] = data['education'].str.lower()"
   ]
  },
  {
   "cell_type": "markdown",
   "id": "931094f5",
   "metadata": {
    "deletable": false,
    "editable": false,
    "id": "dc587695"
   },
   "source": [
    "**Задание 15. Выведите на экран количество строк-дубликатов в данных. Если такие строки присутствуют, удалите их.**"
   ]
  },
  {
   "cell_type": "code",
   "execution_count": 17,
   "id": "e551f80e",
   "metadata": {
    "deletable": false,
    "id": "3ee445e4",
    "outputId": "9684deba-1934-42d1-99e1-cda61740f822"
   },
   "outputs": [
    {
     "data": {
      "text/plain": [
       "71"
      ]
     },
     "execution_count": 17,
     "metadata": {},
     "output_type": "execute_result"
    }
   ],
   "source": [
    "data.duplicated().sum()"
   ]
  },
  {
   "cell_type": "code",
   "execution_count": 18,
   "id": "668e4987",
   "metadata": {
    "deletable": false,
    "id": "8575fe05"
   },
   "outputs": [],
   "source": [
    "data = data.drop_duplicates()"
   ]
  },
  {
   "cell_type": "markdown",
   "id": "762da2ab",
   "metadata": {
    "deletable": false,
    "editable": false,
    "id": "9904cf55"
   },
   "source": [
    "### Категоризация данных"
   ]
  },
  {
   "cell_type": "markdown",
   "id": "785ccbed",
   "metadata": {
    "deletable": false,
    "editable": false,
    "id": "72fcc8a2"
   },
   "source": [
    "**Задание 16. На основании диапазонов, указанных ниже, создайте в датафрейме `data` столбец `total_income_category` с категориями:**\n",
    "\n",
    "- 0–30000 — `'E'`;\n",
    "- 30001–50000 — `'D'`;\n",
    "- 50001–200000 — `'C'`;\n",
    "- 200001–1000000 — `'B'`;\n",
    "- 1000001 и выше — `'A'`.\n",
    "\n",
    "\n",
    "**Например, кредитополучателю с доходом 25000 нужно назначить категорию `'E'`, а клиенту, получающему 235000, — `'B'`. Используйте собственную функцию с именем `categorize_income()` и метод `apply()`.**"
   ]
  },
  {
   "cell_type": "code",
   "execution_count": 19,
   "id": "459176eb",
   "metadata": {
    "deletable": false,
    "id": "e1771346"
   },
   "outputs": [],
   "source": [
    "def categorize_income(income):\n",
    "    try:\n",
    "        if 0 <= income <= 30000:\n",
    "            return 'E'\n",
    "        elif 30001 <= income <= 50000:\n",
    "            return 'D'\n",
    "        elif 50001 <= income <= 200000:\n",
    "            return 'C'\n",
    "        elif 200001 <= income <= 1000000:\n",
    "            return 'B'\n",
    "        elif income >= 1000001:\n",
    "            return 'A'\n",
    "    except:\n",
    "        pass"
   ]
  },
  {
   "cell_type": "code",
   "execution_count": 20,
   "id": "4ef39f51",
   "metadata": {
    "deletable": false,
    "id": "d5f3586d"
   },
   "outputs": [],
   "source": [
    "data['total_income_category'] = data['total_income'].apply(categorize_income)\n"
   ]
  },
  {
   "cell_type": "markdown",
   "id": "84f08c4f",
   "metadata": {
    "deletable": false,
    "editable": false,
    "id": "dde49b5c"
   },
   "source": [
    "**Задание 17. Выведите на экран перечень уникальных целей взятия кредита из столбца `purpose`.**"
   ]
  },
  {
   "cell_type": "code",
   "execution_count": 21,
   "id": "f9f4e191",
   "metadata": {
    "deletable": false,
    "id": "f67ce9b3",
    "outputId": "673c12d9-7d7e-4ae0-9812-c622c89dd244"
   },
   "outputs": [
    {
     "data": {
      "text/plain": [
       "array(['покупка жилья', 'приобретение автомобиля',\n",
       "       'дополнительное образование', 'сыграть свадьбу',\n",
       "       'операции с жильем', 'образование', 'на проведение свадьбы',\n",
       "       'покупка жилья для семьи', 'покупка недвижимости',\n",
       "       'покупка коммерческой недвижимости', 'покупка жилой недвижимости',\n",
       "       'строительство собственной недвижимости', 'недвижимость',\n",
       "       'строительство недвижимости', 'на покупку подержанного автомобиля',\n",
       "       'на покупку своего автомобиля',\n",
       "       'операции с коммерческой недвижимостью',\n",
       "       'строительство жилой недвижимости', 'жилье',\n",
       "       'операции со своей недвижимостью', 'автомобили',\n",
       "       'заняться образованием', 'сделка с подержанным автомобилем',\n",
       "       'получение образования', 'автомобиль', 'свадьба',\n",
       "       'получение дополнительного образования', 'покупка своего жилья',\n",
       "       'операции с недвижимостью', 'получение высшего образования',\n",
       "       'свой автомобиль', 'сделка с автомобилем',\n",
       "       'профильное образование', 'высшее образование',\n",
       "       'покупка жилья для сдачи', 'на покупку автомобиля', 'ремонт жилью',\n",
       "       'заняться высшим образованием'], dtype=object)"
      ]
     },
     "execution_count": 21,
     "metadata": {},
     "output_type": "execute_result"
    }
   ],
   "source": [
    "data['purpose'].unique()"
   ]
  },
  {
   "cell_type": "markdown",
   "id": "a2ded1c6",
   "metadata": {
    "deletable": false,
    "editable": false,
    "id": "85d0aef0"
   },
   "source": [
    "**Задание 18. Создайте функцию, которая на основании данных из столбца `purpose` сформирует новый столбец `purpose_category`, в который войдут следующие категории:**\n",
    "\n",
    "- `'операции с автомобилем'`,\n",
    "- `'операции с недвижимостью'`,\n",
    "- `'проведение свадьбы'`,\n",
    "- `'получение образования'`.\n",
    "\n",
    "**Например, если в столбце `purpose` находится подстрока `'на покупку автомобиля'`, то в столбце `purpose_category` должна появиться строка `'операции с автомобилем'`.**\n",
    "\n",
    "**Используйте собственную функцию с именем `categorize_purpose()` и метод `apply()`. Изучите данные в столбце `purpose` и определите, какие подстроки помогут вам правильно определить категорию.**"
   ]
  },
  {
   "cell_type": "code",
   "execution_count": 22,
   "id": "9ba570ff",
   "metadata": {
    "deletable": false,
    "id": "e149fab4"
   },
   "outputs": [],
   "source": [
    "def categorize_purpose(row):\n",
    "    try:\n",
    "        if 'автом' in row:\n",
    "            return 'операции с автомобилем'\n",
    "        elif 'жил' in row or 'недвиж' in row:\n",
    "            return 'операции с недвижимостью'\n",
    "        elif 'свад' in row:\n",
    "            return 'проведение свадьбы'\n",
    "        elif 'образов' in row:\n",
    "            return 'получение образования'\n",
    "    except:\n",
    "        return 'нет категории'"
   ]
  },
  {
   "cell_type": "code",
   "execution_count": 23,
   "id": "d53b881c",
   "metadata": {
    "deletable": false,
    "id": "bf36e69b",
    "scrolled": true
   },
   "outputs": [
    {
     "name": "stdout",
     "output_type": "stream",
     "text": [
      "\n"
     ]
    }
   ],
   "source": [
    "data['purpose_category'] = data['purpose'].apply(categorize_purpose)\n",
    "print()"
   ]
  },
  {
   "cell_type": "markdown",
   "id": "5624612c",
   "metadata": {
    "deletable": false,
    "editable": false,
    "id": "09b242bf"
   },
   "source": [
    "### Шаг 3. Исследуйте данные и ответьте на вопросы"
   ]
  },
  {
   "cell_type": "markdown",
   "id": "f63a71d2",
   "metadata": {
    "deletable": false,
    "editable": false,
    "id": "c5d66278"
   },
   "source": [
    "#### 3.1 Есть ли зависимость между количеством детей и возвратом кредита в срок?"
   ]
  },
  {
   "cell_type": "code",
   "execution_count": 24,
   "id": "63ae3fa4",
   "metadata": {
    "deletable": false,
    "id": "2cacfc4a",
    "scrolled": false
   },
   "outputs": [
    {
     "name": "stdout",
     "output_type": "stream",
     "text": [
      "              debt\n",
      "children          \n",
      "0         0.075438\n",
      "1         0.092346\n",
      "2         0.094542\n",
      "3         0.081818\n",
      "4         0.097561\n",
      "5         0.000000\n"
     ]
    },
    {
     "data": {
      "image/png": "[encoded data removed]",
      "text/plain": [
       "<Figure size 432x288 with 2 Axes>"
      ]
     },
     "metadata": {
      "needs_background": "light"
     },
     "output_type": "display_data"
    }
   ],
   "source": [
    "# Ваш код будет здесь. Вы можете создавать новые ячейки.\n",
    "# Дети столбец 'children'\n",
    "# Просрочки столбец 'debt' \n",
    "# Описание столбца 'debt' -\"0\" нет просрочек; \"1\"просрочки \n",
    "# Чем показатель ближе к 1 тем ненадежнее клиент\n",
    "\n",
    "import seaborn\n",
    "\n",
    "children_index = data.pivot_table(index =['children'], values='debt')\n",
    "\n",
    "seaborn.heatmap(data = children_index,cmap='PuBuGn')\n",
    "\n",
    "print(children_index)\n",
    "\n",
    "        "
   ]
  },
  {
   "cell_type": "markdown",
   "id": "cfbebf98",
   "metadata": {
    "deletable": false,
    "id": "3a6b99ec"
   },
   "source": [
    "**Вывод:** \n",
    "Описание столбца 'debt' -\"0\" нет просрочек; \"1\"просрочки \n",
    "Чем показатель ближе к 1 тем ненадежнее клиент\n",
    "\n",
    "Вывод:\n",
    "\n",
    "'+' Клиенты без детей показывают лучший возврат кредитов \n",
    "\n",
    "'-' Клиенты с 4 детьми худший возврат кредитов \n",
    "\n",
    "Визуализация, представленная выше показывает клиенты с 3 детьми и вовсе без детей возвращают кредиты в схожие сроки\n",
    "\n",
    "\n",
    "Примечание: обратить внимание на столбец 'children' по категории 5 детей, по ним просрочки не найдены, что вероятно ошибка в данных"
   ]
  },
  {
   "cell_type": "markdown",
   "id": "303f3ed3",
   "metadata": {
    "deletable": false,
    "editable": false,
    "id": "97be82ca"
   },
   "source": [
    "#### 3.2 Есть ли зависимость между семейным положением и возвратом кредита в срок?"
   ]
  },
  {
   "cell_type": "code",
   "execution_count": 25,
   "id": "fd77ecc3",
   "metadata": {
    "deletable": false,
    "id": "dc3f7ee8"
   },
   "outputs": [
    {
     "name": "stdout",
     "output_type": "stream",
     "text": [
      "                           debt\n",
      "family_status                  \n",
      "Не женат / не замужем  0.097639\n",
      "в разводе              0.070648\n",
      "вдовец / вдова         0.066246\n",
      "гражданский брак       0.093130\n",
      "женат / замужем        0.075606\n"
     ]
    }
   ],
   "source": [
    "# Ваш код будет здесь. Вы можете создавать новые ячейки.\n",
    "\n",
    "data_family_index = data.pivot_table(index =['family_status'], values='debt')\n",
    "print(data_family_index)"
   ]
  },
  {
   "cell_type": "code",
   "execution_count": 26,
   "id": "46a9a0e5",
   "metadata": {},
   "outputs": [
    {
     "data": {
      "text/plain": [
       "покупка коммерческой недвижимости         43\n",
       "покупка жилья                             39\n",
       "строительство жилой недвижимости          36\n",
       "операции с жильем                         36\n",
       "покупка жилья для семьи                   35\n",
       "операции со своей недвижимостью           34\n",
       "операции с коммерческой недвижимостью     33\n",
       "ремонт жилью                              32\n",
       "сделка с подержанным автомобилем          32\n",
       "строительство недвижимости                30\n",
       "жилье                                     30\n",
       "автомобиль                                30\n",
       "операции с недвижимостью                  29\n",
       "покупка недвижимости                      29\n",
       "недвижимость                              29\n",
       "покупка жилья для сдачи                   28\n",
       "высшее образование                        28\n",
       "строительство собственной недвижимости    27\n",
       "получение дополнительного образования     26\n",
       "образование                               26\n",
       "на покупку автомобиля                     24\n",
       "дополнительное образование                24\n",
       "приобретение автомобиля                   24\n",
       "на покупку подержанного автомобиля        24\n",
       "сделка с автомобилем                      23\n",
       "покупка своего жилья                      23\n",
       "покупка жилой недвижимости                22\n",
       "на покупку своего автомобиля              22\n",
       "заняться образованием                     22\n",
       "заняться высшим образованием              21\n",
       "свой автомобиль                           20\n",
       "профильное образование                    20\n",
       "автомобили                                19\n",
       "получение высшего образования             18\n",
       "получение образования                     13\n",
       "Name: purpose, dtype: int64"
      ]
     },
     "execution_count": 26,
     "metadata": {},
     "output_type": "execute_result"
    }
   ],
   "source": [
    "#Цель: узнать основную цель кредита по категории 'вдовец / вдова'\n",
    "\n",
    "data[data['family_status'] == 'вдовец / вдова']['purpose'].value_counts()\n"
   ]
  },
  {
   "cell_type": "code",
   "execution_count": 27,
   "id": "b60197c8",
   "metadata": {
    "scrolled": false
   },
   "outputs": [
    {
     "data": {
      "text/plain": [
       "операции с недвижимостью                  108\n",
       "жилье                                     104\n",
       "операции с жильем                         103\n",
       "строительство жилой недвижимости          100\n",
       "покупка коммерческой недвижимости          99\n",
       "покупка жилой недвижимости                 97\n",
       "строительство собственной недвижимости     96\n",
       "недвижимость                               95\n",
       "операции со своей недвижимостью            94\n",
       "покупка жилья для семьи                    92\n",
       "ремонт жилью                               92\n",
       "покупка жилья                              90\n",
       "покупка своего жилья                       87\n",
       "покупка жилья для сдачи                    86\n",
       "строительство недвижимости                 85\n",
       "операции с коммерческой недвижимостью      84\n",
       "сделка с автомобилем                       78\n",
       "на покупку подержанного автомобиля         77\n",
       "автомобили                                 77\n",
       "дополнительное образование                 76\n",
       "приобретение автомобиля                    76\n",
       "покупка недвижимости                       74\n",
       "на покупку своего автомобиля               72\n",
       "на покупку автомобиля                      69\n",
       "образование                                68\n",
       "получение высшего образования              67\n",
       "сделка с подержанным автомобилем           66\n",
       "получение образования                      63\n",
       "профильное образование                     63\n",
       "заняться высшим образованием               62\n",
       "свой автомобиль                            62\n",
       "получение дополнительного образования      61\n",
       "высшее образование                         60\n",
       "автомобиль                                 58\n",
       "заняться образованием                      55\n",
       "Name: purpose, dtype: int64"
      ]
     },
     "execution_count": 27,
     "metadata": {},
     "output_type": "execute_result"
    }
   ],
   "source": [
    "#Цель: узнать основную цель кредита по категории 'Не женат / не замужем'\n",
    "data[data['family_status'] == 'Не женат / не замужем']['purpose'].value_counts()"
   ]
  },
  {
   "cell_type": "markdown",
   "id": "d5dfec76",
   "metadata": {
    "deletable": false,
    "id": "1cef7837"
   },
   "source": [
    "**Вывод:** \n",
    "Вывод проистекает из предыдущего задания:-\"0\" нет просрочек; \"1\"просрочки\n",
    "\n",
    "'+' Лучшие плательщики клиенты в категории \"вдовец / вдова\", основной статей на что берется кредит в случае \"вдовец / вдова\" является сделки с недвижимостью, возможно решение взять кредит более взвешенное или есть конкретная цель, либо план действий по возврату кредита\n",
    "\n",
    "'-' Худшие плательщики клиенты в категории \"не женат / не замужем\", основной статей на что берется кредит в случае \"не женат / не замужем\" ТОЖЕ является сделки с недвижимостью \n",
    "\n",
    "Возможно нужно включать в таблицу такие переменные как возраст заёмщика/цы и срок работы, гендерный признак для более верного вывода.\n"
   ]
  },
  {
   "cell_type": "markdown",
   "id": "5b53bd8d",
   "metadata": {
    "deletable": false,
    "editable": false,
    "id": "1e8b2fca"
   },
   "source": [
    "#### 3.3 Есть ли зависимость между уровнем дохода и возвратом кредита в срок?"
   ]
  },
  {
   "cell_type": "code",
   "execution_count": 28,
   "id": "16bc62c9",
   "metadata": {
    "deletable": false,
    "id": "cd7e3720",
    "scrolled": true
   },
   "outputs": [
    {
     "name": "stdout",
     "output_type": "stream",
     "text": [
      "                           debt\n",
      "total_income_category          \n",
      "A                      0.080000\n",
      "B                      0.070602\n",
      "C                      0.084982\n",
      "D                      0.060172\n",
      "E                      0.090909\n"
     ]
    },
    {
     "data": {
      "image/png": "[encoded data removed]",
      "text/plain": [
       "<Figure size 432x288 with 2 Axes>"
      ]
     },
     "metadata": {
      "needs_background": "light"
     },
     "output_type": "display_data"
    }
   ],
   "source": [
    "# Ваш код будет здесь. Вы можете создавать новые ячейки.\n",
    "\n",
    "income_index = data.pivot_table(index =['total_income_category'], values='debt')\n",
    "seaborn.heatmap(data = income_index,cmap='summer')\n",
    "\n",
    "print(income_index)"
   ]
  },
  {
   "cell_type": "markdown",
   "id": "edba3b9d",
   "metadata": {
    "deletable": false,
    "id": "e8593def"
   },
   "source": [
    "''**Вывод:** \n",
    "\n",
    "Все заемщики поделены на 5 категорий\n",
    "\n",
    "'A' 1000001 и \n",
    "'B' 200001–1000000 \n",
    "'C' 50001–200000\n",
    "'D' 30001–50000\n",
    "'E' 0–30000\n",
    "\n",
    "'+'Заемщики со средним доходом от 30001 до 50000 руб самые надежные \n",
    "\n",
    "'-'На заемщиков со средним доходом от 0 до 30000 руб, следует обратить особое внимание при выдачи кредитов, так как клиенты с данным уровнем дохода самые неблагонадежные\n"
   ]
  },
  {
   "cell_type": "markdown",
   "id": "c0945f2f",
   "metadata": {
    "deletable": false,
    "editable": false,
    "id": "99ecbd1f"
   },
   "source": [
    "#### 3.4 Как разные цели кредита влияют на его возврат в срок?"
   ]
  },
  {
   "cell_type": "code",
   "execution_count": 29,
   "id": "02f031f3",
   "metadata": {
    "deletable": false,
    "id": "2b687290",
    "scrolled": true
   },
   "outputs": [
    {
     "name": "stdout",
     "output_type": "stream",
     "text": [
      "                              debt\n",
      "purpose_category                  \n",
      "операции с автомобилем    0.093480\n",
      "операции с недвижимостью  0.072551\n",
      "получение образования     0.092528\n",
      "проведение свадьбы        0.079118\n"
     ]
    }
   ],
   "source": [
    "# Ваш код будет здесь. Вы можете создавать новые ячейки.\n",
    "#purpose_index = data.pivot_table(index =['purpose'], values='debt')\n",
    "#print(purpose_index.sort_values(by = 'debt'))\n",
    "\n",
    "purpose_index_category = data.pivot_table(index =['purpose_category'], values='debt')\n",
    "print(purpose_index_category)\n"
   ]
  },
  {
   "cell_type": "markdown",
   "id": "beb8010a",
   "metadata": {
    "deletable": false,
    "id": "b4bb2ce6"
   },
   "source": [
    "**Вывод:** \n",
    "\n",
    "'+' Заемщики взявшие кредит на категорию  \"операции с недвижимостью\" самые надежные\n",
    "\n",
    "'-' Заемщики взявшие кредит на категорию  \"операции с автомобилем\" либо \"получение образования\"  самые НЕнадежные\n"
   ]
  },
  {
   "cell_type": "markdown",
   "id": "46a00c61",
   "metadata": {
    "deletable": false,
    "editable": false,
    "id": "09c3ac4c"
   },
   "source": [
    "#### 3.5 Приведите возможные причины появления пропусков в исходных данных."
   ]
  },
  {
   "cell_type": "markdown",
   "id": "10cd7450",
   "metadata": {
    "deletable": false,
    "id": "9da2ceda"
   },
   "source": [
    "*Ответ:* \n",
    "\n",
    "Пропуски данных встречаются в столбцах время работы и заработок.\n",
    "\n",
    "Скорее всего данные не запрашивались из-за суммы кредита, позволяющей не собирать данные о работе и заработке,\n",
    "на незначительные суммы данные с работы не запрашивают.\n",
    "\n",
    "(Также на данный вопрос я попытался ответить после вывода «сырого» датасета Задание 2, возможно вы поможете!?!)\n",
    "\n",
    "\n",
    "Либо это некорректное заполнение данных по выдаче кредитов.\n",
    "\n"
   ]
  },
  {
   "cell_type": "markdown",
   "id": "f2934113",
   "metadata": {
    "deletable": false,
    "editable": false,
    "id": "7b0487d6"
   },
   "source": [
    "#### 3.6 Объясните, почему заполнить пропуски медианным значением — лучшее решение для количественных переменных."
   ]
  },
  {
   "cell_type": "markdown",
   "id": "ec9249c7",
   "metadata": {
    "deletable": false,
    "id": "7ecf2b8e"
   },
   "source": [
    "*Ответ:* \n",
    "В данном случае(количественных переменных) заполнение пропусков медианными данными лучше так как разница в зарплатах очень велика и если брать среднюю зарплату это может повлиять на общий вывод, и все пропуски будут заполнены данными с болшей зарплатой чем в реальности.\n",
    "Пропусков 2174 из 21525, что является серьезным показателем в 10% \n",
    "\n",
    "медиана лучше)"
   ]
  },
  {
   "cell_type": "code",
   "execution_count": 30,
   "id": "d28510cb",
   "metadata": {},
   "outputs": [
    {
     "name": "stdout",
     "output_type": "stream",
     "text": [
      "10.099883855981417\n"
     ]
    }
   ],
   "source": [
    "per = 2174/21525\n",
    "percent = per*100\n",
    "print(percent)"
   ]
  },
  {
   "cell_type": "markdown",
   "id": "b84a254e",
   "metadata": {
    "deletable": false,
    "editable": false,
    "id": "6db5255a"
   },
   "source": [
    "### Шаг 4: общий вывод."
   ]
  },
  {
   "cell_type": "markdown",
   "id": "862364a5",
   "metadata": {
    "deletable": false,
    "id": "bad65432"
   },
   "source": [
    "Напишите ваш общий вывод.\n",
    "\n",
    "После проведённого анализа данных я могу сделать несколько рекомендаций.\n",
    "\n",
    "Категория клиентов попадающих под портрет самых благонадежных заемщиков это:\n",
    "\n",
    "Клиенты без детей или уже со взрослыми детьми больше 18 лет, со среднем доходом от 30001 до 50000 рублей, вдовцы / вдовы,(звучит не очень красиво по отношению к клиентам банка и вообще \"чёрство\", если у вас есть более подходящий вариант, могли бы написать? Спасибо.). Также целью кредита  должны быть \"операции с недвижимостью\".\n",
    "Это идеальный вариант, который по проведенному анализу, с высокой долей вероятности, не доставить банку проблем.\n",
    "\n",
    "Категория неблагонадёжных клиентов, на которых следует обратить особое внимание при выдаче займов это: \n",
    "\n",
    "Клиенты с 4 детьми худший возврат кредитов \n",
    "Худшие показатель возврата кредита показывают клиенты с доходом от 0 до 30000 руб, берущие кредит на категорию \"операции с автомобилем\" либо \"получение образования\", не женатые или не замужем.\n",
    "\n",
    "\n",
    "\n",
    "\n"
   ]
  },
  {
   "cell_type": "markdown",
   "id": "d4cf58f1",
   "metadata": {},
   "source": [
    "<div class=\"alert alert-info\">\n",
    "ОБЩИЙ ВЫВОД\n",
    "\n",
    "Был проведен анализ данных с целю выявить влияние некоторых факторов на возможность клиентов выплачивать взятый кредит в срок. Данные для анализа - это предоставленная банком ПАО \"Александр\" сводная статистическая таблица платёжеспособностей клиентов. Результаты исследования будут применены при выдаче кредитов в 2023 году. \n",
    "    \n",
    "Перед проведением исследования были поставлена задача выявить:\n",
    "\n",
    "1)зависимость между количеством детей и возвратом кредита в срок?\n",
    "2)зависимость между семейным положением и возвратом кредита в срок?\n",
    "3)зависимость между уровнем дохода и возвратом кредита в срок?\n",
    "4)как разные цели кредита влияют на его возврат в срок?\n",
    "\n",
    "\n",
    "\n",
    "Задача 1 выявила:\n",
    "\n",
    "'+' Клиенты без детей показывают лучший возврат кредитов\n",
    "'-' Клиенты с 4 детьми худший возврат кредитов \n",
    "\n",
    "Рекомендация: дополнить данные и провести повторный анализ с полным перечнем статистических данных\n",
    "    \n",
    "\n",
    "Задача 2 выявила:\n",
    "\n",
    "'+' Лучшие плательщики клиенты в категории \"вдовец / вдова\", основной статей на что берется кредит в случае \"вдовец / вдова\" является сделки с недвижимостью, возможно решение взять кредит более взвешенное или есть конкретная цель, либо план действий по возврату кредита\n",
    "\n",
    "'-' Худшие плательщики клиенты в категории \"не женат / не замужем\", основной статей на что берется кредит в случае \"не женат / не замужем\" ТОЖЕ является сделки с недвижимостью \n",
    "\n",
    "Рекомендация: включать в таблицу такие переменные как возраст заёмщика/цы и срок работы, гендерный признак для более верного вывода.\n",
    "\n",
    "\n",
    "Задача 3 выявила\n",
    "\n",
    "\n",
    "'+'Заемщики со средним доходом от 30001 до 50000 руб самые надежные\n",
    "\n",
    "'-'На заемщиков со средним доходом от 0 до 30000 руб, следует обратить особое внимание при выдачи кредитов, так как клиенты с данным уровнем дохода самые неблагонадежные\n",
    "\n",
    "Рекомендация: принять в работу\n",
    "    \n",
    "    \n",
    "Задача 4 выявила\n",
    "\n",
    "'+' Заемщики взявшие кредит на категорию \"операции с недвижимостью\" самые надежные\n",
    "\n",
    "'-' Заемщики взявшие кредит на категорию \"операции с автомобилем\" либо \"получение образования\" самые НЕ надежные\n",
    "    \n",
    "Рекомендация: принять в работу\n",
    "*****************************************************\n",
    "    \n",
    "После проведённого анализа данных, я могу обозначить портрет благонадёжного клиента, подходящий по всем параметрам.\n",
    "    И клиентов требующих дополнительных проверок\n",
    "    \n",
    "Категория клиентов попадающих под портрет самых благонадежных заемщиков это:\n",
    "\n",
    "Клиенты без детей или уже со взрослыми детьми больше 18 лет, со средним доходом от 30001 до 50000 рублей, вдовцы / вдовы, (звучит не очень красиво по отношению к клиентам банка и вообще \"чёрство\", если у вас есть более подходящий вариант, могли бы написать? Спасибо.). Также целью кредита должны быть \"операции с недвижимостью\".\n",
    "Это идеальный вариант, который по проведенному анализу, с высокой долей вероятности, не доставить банку проблем.\n",
    "\n",
    "Категория неблагонадёжных клиентов, на которых следует обратить особое внимание при выдаче займов это: \n",
    "\n",
    "Клиенты с 4 детьми худший возврат кредитов \n",
    "Худшие показатель возврата кредита показывают клиенты с доходом от 0 до 30000 руб, берущие кредит на категорию \"операции с автомобилем\" либо \"получение образования\", не женатые или не замужем.\n",
    "    \n",
    "Сотрудникам банка можно использовать 3 и 4 выводы для принятия решений об одобрении кредитов, а также\n",
    "дополнить данными задачи 1 и 2\n",
    "\n",
    "    \n",
    "</div>"
   ]
  }
 ],
 "metadata": {
  "ExecuteTimeLog": [
   {
    "duration": 50,
    "start_time": "2022-09-28T12:39:49.725Z"
   },
   {
    "duration": 519,
    "start_time": "2022-09-28T12:40:06.508Z"
   },
   {
    "duration": 24,
    "start_time": "2022-09-28T12:40:07.029Z"
   },
   {
    "duration": 17,
    "start_time": "2022-09-28T12:40:07.056Z"
   },
   {
    "duration": 11,
    "start_time": "2022-09-28T12:40:07.076Z"
   },
   {
    "duration": 69,
    "start_time": "2022-09-28T12:40:07.089Z"
   },
   {
    "duration": 4,
    "start_time": "2022-09-28T12:40:07.160Z"
   },
   {
    "duration": 13,
    "start_time": "2022-09-28T12:40:07.166Z"
   },
   {
    "duration": 4,
    "start_time": "2022-09-28T12:40:07.181Z"
   },
   {
    "duration": 12,
    "start_time": "2022-09-28T12:40:07.187Z"
   },
   {
    "duration": 5,
    "start_time": "2022-09-28T12:40:07.202Z"
   },
   {
    "duration": 74,
    "start_time": "2022-09-28T12:40:07.209Z"
   },
   {
    "duration": 16,
    "start_time": "2022-09-28T12:40:07.286Z"
   },
   {
    "duration": 8,
    "start_time": "2022-09-28T12:40:07.305Z"
   },
   {
    "duration": 47,
    "start_time": "2022-09-28T12:40:07.315Z"
   },
   {
    "duration": 38,
    "start_time": "2022-09-28T12:40:07.364Z"
   },
   {
    "duration": 22,
    "start_time": "2022-09-28T12:40:07.404Z"
   },
   {
    "duration": 8,
    "start_time": "2022-09-28T12:40:07.428Z"
   },
   {
    "duration": 27,
    "start_time": "2022-09-28T12:40:07.438Z"
   },
   {
    "duration": 17,
    "start_time": "2022-09-28T12:40:07.467Z"
   },
   {
    "duration": 10,
    "start_time": "2022-09-28T12:40:07.487Z"
   },
   {
    "duration": 15,
    "start_time": "2022-09-28T12:40:07.499Z"
   },
   {
    "duration": 24,
    "start_time": "2022-09-28T12:40:07.515Z"
   },
   {
    "duration": 10,
    "start_time": "2022-09-28T12:40:07.541Z"
   },
   {
    "duration": 10,
    "start_time": "2022-09-28T12:40:07.553Z"
   },
   {
    "duration": 5,
    "start_time": "2022-09-28T12:40:07.565Z"
   },
   {
    "duration": 5,
    "start_time": "2022-09-28T12:40:27.453Z"
   },
   {
    "duration": 15,
    "start_time": "2022-09-28T12:40:49.240Z"
   },
   {
    "duration": 23,
    "start_time": "2022-09-28T12:40:57.393Z"
   },
   {
    "duration": 69,
    "start_time": "2022-09-28T12:41:21.899Z"
   },
   {
    "duration": 60,
    "start_time": "2022-09-28T12:41:25.240Z"
   },
   {
    "duration": 5,
    "start_time": "2022-09-28T12:41:29.328Z"
   },
   {
    "duration": 4,
    "start_time": "2022-09-28T12:41:36.633Z"
   },
   {
    "duration": 511,
    "start_time": "2022-09-28T13:16:00.432Z"
   },
   {
    "duration": 25,
    "start_time": "2022-09-28T13:16:00.945Z"
   },
   {
    "duration": 17,
    "start_time": "2022-09-28T13:16:00.971Z"
   },
   {
    "duration": 11,
    "start_time": "2022-09-28T13:16:00.989Z"
   },
   {
    "duration": 64,
    "start_time": "2022-09-28T13:16:01.003Z"
   },
   {
    "duration": 4,
    "start_time": "2022-09-28T13:16:01.068Z"
   },
   {
    "duration": 27,
    "start_time": "2022-09-28T13:16:01.073Z"
   },
   {
    "duration": 20,
    "start_time": "2022-09-28T13:16:01.102Z"
   },
   {
    "duration": 15,
    "start_time": "2022-09-28T13:16:01.125Z"
   },
   {
    "duration": 12,
    "start_time": "2022-09-28T13:16:01.142Z"
   },
   {
    "duration": 52,
    "start_time": "2022-09-28T13:16:01.156Z"
   },
   {
    "duration": 13,
    "start_time": "2022-09-28T13:16:01.210Z"
   },
   {
    "duration": 13,
    "start_time": "2022-09-28T13:16:01.225Z"
   },
   {
    "duration": 17,
    "start_time": "2022-09-28T13:16:01.241Z"
   },
   {
    "duration": 27,
    "start_time": "2022-09-28T13:16:01.260Z"
   },
   {
    "duration": 19,
    "start_time": "2022-09-28T13:16:01.289Z"
   },
   {
    "duration": 4,
    "start_time": "2022-09-28T13:16:01.310Z"
   },
   {
    "duration": 32,
    "start_time": "2022-09-28T13:16:01.316Z"
   },
   {
    "duration": 13,
    "start_time": "2022-09-28T13:16:01.350Z"
   },
   {
    "duration": 9,
    "start_time": "2022-09-28T13:16:01.365Z"
   },
   {
    "duration": 21,
    "start_time": "2022-09-28T13:16:01.376Z"
   },
   {
    "duration": 8,
    "start_time": "2022-09-28T13:16:01.399Z"
   },
   {
    "duration": 7,
    "start_time": "2022-09-28T13:16:01.409Z"
   },
   {
    "duration": 15,
    "start_time": "2022-09-28T13:16:01.418Z"
   },
   {
    "duration": 16,
    "start_time": "2022-09-28T13:16:01.435Z"
   },
   {
    "duration": 23,
    "start_time": "2022-09-28T13:18:18.641Z"
   },
   {
    "duration": 19,
    "start_time": "2022-09-28T13:18:32.733Z"
   },
   {
    "duration": 78,
    "start_time": "2022-09-28T15:13:47.159Z"
   },
   {
    "duration": 19,
    "start_time": "2022-09-28T15:13:58.873Z"
   },
   {
    "duration": 4,
    "start_time": "2022-09-28T15:17:22.887Z"
   },
   {
    "duration": 11,
    "start_time": "2022-09-28T15:17:26.092Z"
   },
   {
    "duration": 15,
    "start_time": "2022-09-28T15:23:56.311Z"
   },
   {
    "duration": 16,
    "start_time": "2022-09-28T15:24:22.539Z"
   },
   {
    "duration": 11,
    "start_time": "2022-09-28T15:24:31.135Z"
   },
   {
    "duration": 13,
    "start_time": "2022-09-28T15:25:17.519Z"
   },
   {
    "duration": 15,
    "start_time": "2022-09-28T15:57:04.506Z"
   },
   {
    "duration": 14,
    "start_time": "2022-09-28T15:57:24.028Z"
   },
   {
    "duration": 10,
    "start_time": "2022-09-28T15:58:31.484Z"
   },
   {
    "duration": 72,
    "start_time": "2022-09-28T15:58:59.300Z"
   },
   {
    "duration": 8,
    "start_time": "2022-09-28T15:59:02.364Z"
   },
   {
    "duration": 7,
    "start_time": "2022-09-28T16:00:01.904Z"
   },
   {
    "duration": 9,
    "start_time": "2022-09-28T16:00:17.382Z"
   },
   {
    "duration": 8,
    "start_time": "2022-09-28T16:00:30.283Z"
   },
   {
    "duration": 10,
    "start_time": "2022-09-28T16:12:21.274Z"
   },
   {
    "duration": 13,
    "start_time": "2022-09-28T16:12:31.842Z"
   },
   {
    "duration": 16,
    "start_time": "2022-09-28T16:18:30.255Z"
   },
   {
    "duration": 13,
    "start_time": "2022-09-28T16:18:51.266Z"
   },
   {
    "duration": 15,
    "start_time": "2022-09-28T16:18:58.266Z"
   },
   {
    "duration": 12,
    "start_time": "2022-09-28T16:20:52.037Z"
   },
   {
    "duration": 491,
    "start_time": "2022-09-28T16:24:59.332Z"
   },
   {
    "duration": 22,
    "start_time": "2022-09-28T16:24:59.825Z"
   },
   {
    "duration": 14,
    "start_time": "2022-09-28T16:24:59.849Z"
   },
   {
    "duration": 10,
    "start_time": "2022-09-28T16:24:59.865Z"
   },
   {
    "duration": 35,
    "start_time": "2022-09-28T16:24:59.877Z"
   },
   {
    "duration": 27,
    "start_time": "2022-09-28T16:24:59.913Z"
   },
   {
    "duration": 18,
    "start_time": "2022-09-28T16:24:59.941Z"
   },
   {
    "duration": 16,
    "start_time": "2022-09-28T16:24:59.961Z"
   },
   {
    "duration": 15,
    "start_time": "2022-09-28T16:24:59.978Z"
   },
   {
    "duration": 9,
    "start_time": "2022-09-28T16:24:59.997Z"
   },
   {
    "duration": 53,
    "start_time": "2022-09-28T16:25:00.007Z"
   },
   {
    "duration": 10,
    "start_time": "2022-09-28T16:25:00.061Z"
   },
   {
    "duration": 9,
    "start_time": "2022-09-28T16:25:00.072Z"
   },
   {
    "duration": 23,
    "start_time": "2022-09-28T16:25:00.082Z"
   },
   {
    "duration": 24,
    "start_time": "2022-09-28T16:25:00.108Z"
   },
   {
    "duration": 18,
    "start_time": "2022-09-28T16:25:00.134Z"
   },
   {
    "duration": 9,
    "start_time": "2022-09-28T16:25:00.154Z"
   },
   {
    "duration": 19,
    "start_time": "2022-09-28T16:25:00.164Z"
   },
   {
    "duration": 10,
    "start_time": "2022-09-28T16:25:00.185Z"
   },
   {
    "duration": 10,
    "start_time": "2022-09-28T16:25:00.197Z"
   },
   {
    "duration": 12,
    "start_time": "2022-09-28T16:25:00.208Z"
   },
   {
    "duration": 24,
    "start_time": "2022-09-28T16:25:00.221Z"
   },
   {
    "duration": 14,
    "start_time": "2022-09-28T16:25:00.247Z"
   },
   {
    "duration": 12,
    "start_time": "2022-09-28T16:25:00.262Z"
   },
   {
    "duration": 10,
    "start_time": "2022-09-28T16:25:00.276Z"
   },
   {
    "duration": 13,
    "start_time": "2022-09-28T16:27:33.062Z"
   },
   {
    "duration": 1123,
    "start_time": "2022-09-28T16:35:36.601Z"
   },
   {
    "duration": 19,
    "start_time": "2022-09-28T16:36:08.481Z"
   },
   {
    "duration": 329,
    "start_time": "2022-09-28T16:40:35.836Z"
   },
   {
    "duration": 9,
    "start_time": "2022-09-28T16:42:32.980Z"
   },
   {
    "duration": 524,
    "start_time": "2022-09-28T16:42:42.460Z"
   },
   {
    "duration": 24,
    "start_time": "2022-09-28T16:42:42.987Z"
   },
   {
    "duration": 29,
    "start_time": "2022-09-28T16:42:43.013Z"
   },
   {
    "duration": 10,
    "start_time": "2022-09-28T16:42:43.045Z"
   },
   {
    "duration": 35,
    "start_time": "2022-09-28T16:42:43.057Z"
   },
   {
    "duration": 4,
    "start_time": "2022-09-28T16:42:43.094Z"
   },
   {
    "duration": 39,
    "start_time": "2022-09-28T16:42:43.100Z"
   },
   {
    "duration": 4,
    "start_time": "2022-09-28T16:42:43.141Z"
   },
   {
    "duration": 12,
    "start_time": "2022-09-28T16:42:43.147Z"
   },
   {
    "duration": 4,
    "start_time": "2022-09-28T16:42:43.162Z"
   },
   {
    "duration": 44,
    "start_time": "2022-09-28T16:42:43.168Z"
   },
   {
    "duration": 25,
    "start_time": "2022-09-28T16:42:43.213Z"
   },
   {
    "duration": 4,
    "start_time": "2022-09-28T16:42:43.240Z"
   },
   {
    "duration": 15,
    "start_time": "2022-09-28T16:42:43.245Z"
   },
   {
    "duration": 27,
    "start_time": "2022-09-28T16:42:43.261Z"
   },
   {
    "duration": 18,
    "start_time": "2022-09-28T16:42:43.290Z"
   },
   {
    "duration": 3,
    "start_time": "2022-09-28T16:42:43.310Z"
   },
   {
    "duration": 29,
    "start_time": "2022-09-28T16:42:43.315Z"
   },
   {
    "duration": 10,
    "start_time": "2022-09-28T16:42:43.346Z"
   },
   {
    "duration": 5,
    "start_time": "2022-09-28T16:42:43.358Z"
   },
   {
    "duration": 19,
    "start_time": "2022-09-28T16:42:43.364Z"
   },
   {
    "duration": 17,
    "start_time": "2022-09-28T16:42:43.384Z"
   },
   {
    "duration": 1053,
    "start_time": "2022-09-28T16:42:43.402Z"
   },
   {
    "duration": 13,
    "start_time": "2022-09-28T16:42:44.457Z"
   },
   {
    "duration": 2,
    "start_time": "2022-09-28T16:42:44.472Z"
   },
   {
    "duration": 5,
    "start_time": "2022-09-28T16:42:44.476Z"
   },
   {
    "duration": 228,
    "start_time": "2022-09-28T16:45:54.164Z"
   },
   {
    "duration": 222,
    "start_time": "2022-09-28T16:49:26.772Z"
   },
   {
    "duration": 9,
    "start_time": "2022-09-28T16:52:15.052Z"
   },
   {
    "duration": 231,
    "start_time": "2022-09-28T16:53:35.768Z"
   },
   {
    "duration": 112,
    "start_time": "2022-09-28T16:54:03.487Z"
   },
   {
    "duration": 131,
    "start_time": "2022-09-28T16:54:34.343Z"
   },
   {
    "duration": 120,
    "start_time": "2022-09-28T16:54:39.476Z"
   },
   {
    "duration": 133,
    "start_time": "2022-09-28T16:54:41.720Z"
   },
   {
    "duration": 292,
    "start_time": "2022-09-28T16:54:46.436Z"
   },
   {
    "duration": 187,
    "start_time": "2022-09-28T16:55:35.527Z"
   },
   {
    "duration": 9,
    "start_time": "2022-09-28T16:57:11.955Z"
   },
   {
    "duration": 10,
    "start_time": "2022-09-28T16:57:14.020Z"
   },
   {
    "duration": 9,
    "start_time": "2022-09-28T16:57:23.488Z"
   },
   {
    "duration": 20,
    "start_time": "2022-09-28T16:57:31.228Z"
   },
   {
    "duration": 51,
    "start_time": "2022-09-28T16:58:15.748Z"
   },
   {
    "duration": 54,
    "start_time": "2022-09-28T16:58:21.408Z"
   },
   {
    "duration": 19,
    "start_time": "2022-09-28T16:58:26.376Z"
   },
   {
    "duration": 258,
    "start_time": "2022-09-28T16:58:50.821Z"
   },
   {
    "duration": 493,
    "start_time": "2022-09-28T16:59:05.798Z"
   },
   {
    "duration": 25,
    "start_time": "2022-09-28T16:59:06.293Z"
   },
   {
    "duration": 28,
    "start_time": "2022-09-28T16:59:06.320Z"
   },
   {
    "duration": 14,
    "start_time": "2022-09-28T16:59:06.350Z"
   },
   {
    "duration": 37,
    "start_time": "2022-09-28T16:59:06.366Z"
   },
   {
    "duration": 35,
    "start_time": "2022-09-28T16:59:06.405Z"
   },
   {
    "duration": 12,
    "start_time": "2022-09-28T16:59:06.442Z"
   },
   {
    "duration": 5,
    "start_time": "2022-09-28T16:59:06.456Z"
   },
   {
    "duration": 12,
    "start_time": "2022-09-28T16:59:06.463Z"
   },
   {
    "duration": 4,
    "start_time": "2022-09-28T16:59:06.478Z"
   },
   {
    "duration": 59,
    "start_time": "2022-09-28T16:59:06.484Z"
   },
   {
    "duration": 11,
    "start_time": "2022-09-28T16:59:06.545Z"
   },
   {
    "duration": 4,
    "start_time": "2022-09-28T16:59:06.558Z"
   },
   {
    "duration": 16,
    "start_time": "2022-09-28T16:59:06.563Z"
   },
   {
    "duration": 23,
    "start_time": "2022-09-28T16:59:06.581Z"
   },
   {
    "duration": 43,
    "start_time": "2022-09-28T16:59:06.605Z"
   },
   {
    "duration": 3,
    "start_time": "2022-09-28T16:59:06.650Z"
   },
   {
    "duration": 15,
    "start_time": "2022-09-28T16:59:06.655Z"
   },
   {
    "duration": 21,
    "start_time": "2022-09-28T16:59:06.671Z"
   },
   {
    "duration": 3,
    "start_time": "2022-09-28T16:59:06.694Z"
   },
   {
    "duration": 13,
    "start_time": "2022-09-28T16:59:06.699Z"
   },
   {
    "duration": 35,
    "start_time": "2022-09-28T16:59:06.713Z"
   },
   {
    "duration": 1108,
    "start_time": "2022-09-28T16:59:06.751Z"
   },
   {
    "duration": 111,
    "start_time": "2022-09-28T16:59:07.860Z"
   },
   {
    "duration": 0,
    "start_time": "2022-09-28T16:59:07.972Z"
   },
   {
    "duration": 0,
    "start_time": "2022-09-28T16:59:07.973Z"
   },
   {
    "duration": 69,
    "start_time": "2022-09-29T16:19:17.407Z"
   },
   {
    "duration": 750,
    "start_time": "2022-09-29T16:19:23.268Z"
   },
   {
    "duration": 29,
    "start_time": "2022-09-29T16:19:24.022Z"
   },
   {
    "duration": 17,
    "start_time": "2022-09-29T16:19:24.054Z"
   },
   {
    "duration": 14,
    "start_time": "2022-09-29T16:19:24.074Z"
   },
   {
    "duration": 61,
    "start_time": "2022-09-29T16:19:24.090Z"
   },
   {
    "duration": 4,
    "start_time": "2022-09-29T16:19:24.153Z"
   },
   {
    "duration": 20,
    "start_time": "2022-09-29T16:19:24.159Z"
   },
   {
    "duration": 5,
    "start_time": "2022-09-29T16:19:24.181Z"
   },
   {
    "duration": 17,
    "start_time": "2022-09-29T16:19:24.187Z"
   },
   {
    "duration": 31,
    "start_time": "2022-09-29T16:19:24.209Z"
   },
   {
    "duration": 48,
    "start_time": "2022-09-29T16:19:24.242Z"
   },
   {
    "duration": 12,
    "start_time": "2022-09-29T16:19:24.292Z"
   },
   {
    "duration": 18,
    "start_time": "2022-09-29T16:19:24.306Z"
   },
   {
    "duration": 28,
    "start_time": "2022-09-29T16:19:24.325Z"
   },
   {
    "duration": 25,
    "start_time": "2022-09-29T16:19:24.355Z"
   },
   {
    "duration": 18,
    "start_time": "2022-09-29T16:19:24.382Z"
   },
   {
    "duration": 4,
    "start_time": "2022-09-29T16:19:24.402Z"
   },
   {
    "duration": 30,
    "start_time": "2022-09-29T16:19:24.407Z"
   },
   {
    "duration": 9,
    "start_time": "2022-09-29T16:19:24.440Z"
   },
   {
    "duration": 12,
    "start_time": "2022-09-29T16:19:24.451Z"
   },
   {
    "duration": 11,
    "start_time": "2022-09-29T16:19:24.465Z"
   },
   {
    "duration": 79,
    "start_time": "2022-09-29T16:19:24.478Z"
   },
   {
    "duration": 0,
    "start_time": "2022-09-29T16:19:24.558Z"
   },
   {
    "duration": 0,
    "start_time": "2022-09-29T16:19:24.560Z"
   },
   {
    "duration": 0,
    "start_time": "2022-09-29T16:19:24.561Z"
   },
   {
    "duration": 0,
    "start_time": "2022-09-29T16:19:24.562Z"
   },
   {
    "duration": 26,
    "start_time": "2022-09-29T16:19:48.059Z"
   },
   {
    "duration": 16,
    "start_time": "2022-09-29T16:20:25.079Z"
   },
   {
    "duration": 1376,
    "start_time": "2022-09-29T16:20:29.559Z"
   },
   {
    "duration": 26,
    "start_time": "2022-09-29T16:20:38.187Z"
   },
   {
    "duration": 320,
    "start_time": "2022-09-29T16:20:41.923Z"
   },
   {
    "duration": 17,
    "start_time": "2022-09-29T16:20:51.663Z"
   },
   {
    "duration": 306,
    "start_time": "2022-09-29T16:20:54.776Z"
   },
   {
    "duration": 69,
    "start_time": "2022-09-29T16:21:02.217Z"
   },
   {
    "duration": 26,
    "start_time": "2022-09-29T16:21:08.861Z"
   },
   {
    "duration": 519,
    "start_time": "2022-09-29T16:21:19.688Z"
   },
   {
    "duration": 37,
    "start_time": "2022-09-29T16:21:20.209Z"
   },
   {
    "duration": 28,
    "start_time": "2022-09-29T16:21:20.248Z"
   },
   {
    "duration": 14,
    "start_time": "2022-09-29T16:21:20.280Z"
   },
   {
    "duration": 67,
    "start_time": "2022-09-29T16:21:20.296Z"
   },
   {
    "duration": 4,
    "start_time": "2022-09-29T16:21:20.365Z"
   },
   {
    "duration": 18,
    "start_time": "2022-09-29T16:21:20.371Z"
   },
   {
    "duration": 20,
    "start_time": "2022-09-29T16:21:20.391Z"
   },
   {
    "duration": 33,
    "start_time": "2022-09-29T16:21:20.413Z"
   },
   {
    "duration": 9,
    "start_time": "2022-09-29T16:21:20.450Z"
   },
   {
    "duration": 43,
    "start_time": "2022-09-29T16:21:20.460Z"
   },
   {
    "duration": 10,
    "start_time": "2022-09-29T16:21:20.506Z"
   },
   {
    "duration": 33,
    "start_time": "2022-09-29T16:21:20.518Z"
   },
   {
    "duration": 14,
    "start_time": "2022-09-29T16:21:20.553Z"
   },
   {
    "duration": 25,
    "start_time": "2022-09-29T16:21:20.569Z"
   },
   {
    "duration": 20,
    "start_time": "2022-09-29T16:21:20.596Z"
   },
   {
    "duration": 14,
    "start_time": "2022-09-29T16:21:20.618Z"
   },
   {
    "duration": 18,
    "start_time": "2022-09-29T16:21:20.639Z"
   },
   {
    "duration": 14,
    "start_time": "2022-09-29T16:21:20.659Z"
   },
   {
    "duration": 4,
    "start_time": "2022-09-29T16:21:20.675Z"
   },
   {
    "duration": 27,
    "start_time": "2022-09-29T16:21:20.681Z"
   },
   {
    "duration": 28,
    "start_time": "2022-09-29T16:21:20.710Z"
   },
   {
    "duration": 1067,
    "start_time": "2022-09-29T16:21:20.743Z"
   },
   {
    "duration": 132,
    "start_time": "2022-09-29T16:21:21.829Z"
   },
   {
    "duration": 0,
    "start_time": "2022-09-29T16:21:21.964Z"
   },
   {
    "duration": 0,
    "start_time": "2022-09-29T16:21:21.965Z"
   },
   {
    "duration": 15,
    "start_time": "2022-09-29T16:21:41.899Z"
   },
   {
    "duration": 13,
    "start_time": "2022-09-29T16:26:01.363Z"
   },
   {
    "duration": 13,
    "start_time": "2022-09-29T16:26:12.254Z"
   },
   {
    "duration": 14,
    "start_time": "2022-09-29T16:26:25.640Z"
   },
   {
    "duration": 54,
    "start_time": "2022-09-29T16:27:18.714Z"
   },
   {
    "duration": 54,
    "start_time": "2022-09-29T16:27:29.327Z"
   },
   {
    "duration": 71,
    "start_time": "2022-09-29T16:27:32.646Z"
   },
   {
    "duration": 9,
    "start_time": "2022-09-29T16:27:40.054Z"
   },
   {
    "duration": 9,
    "start_time": "2022-09-29T16:27:46.146Z"
   },
   {
    "duration": 8,
    "start_time": "2022-09-29T16:27:49.278Z"
   },
   {
    "duration": 9,
    "start_time": "2022-09-29T16:29:01.527Z"
   },
   {
    "duration": 36,
    "start_time": "2022-09-29T16:29:17.915Z"
   },
   {
    "duration": 20,
    "start_time": "2022-09-29T16:29:52.834Z"
   },
   {
    "duration": 24,
    "start_time": "2022-09-29T16:30:15.330Z"
   },
   {
    "duration": 243,
    "start_time": "2022-09-29T16:32:34.938Z"
   },
   {
    "duration": 51,
    "start_time": "2022-09-29T16:33:11.886Z"
   },
   {
    "duration": 230,
    "start_time": "2022-09-29T16:33:16.741Z"
   },
   {
    "duration": 254,
    "start_time": "2022-09-29T16:33:35.998Z"
   },
   {
    "duration": 18,
    "start_time": "2022-09-29T16:33:54.686Z"
   },
   {
    "duration": 94,
    "start_time": "2022-09-29T16:35:47.994Z"
   },
   {
    "duration": 78,
    "start_time": "2022-09-29T16:35:59.206Z"
   },
   {
    "duration": 98,
    "start_time": "2022-09-29T16:37:18.966Z"
   },
   {
    "duration": 34,
    "start_time": "2022-09-29T16:37:23.741Z"
   },
   {
    "duration": 15,
    "start_time": "2022-09-29T16:37:38.405Z"
   },
   {
    "duration": 10,
    "start_time": "2022-09-29T16:37:43.189Z"
   },
   {
    "duration": 8,
    "start_time": "2022-09-29T16:37:48.758Z"
   },
   {
    "duration": 11,
    "start_time": "2022-09-29T16:38:03.161Z"
   },
   {
    "duration": 11,
    "start_time": "2022-09-29T16:42:34.973Z"
   },
   {
    "duration": 10,
    "start_time": "2022-09-29T16:42:51.324Z"
   },
   {
    "duration": 500,
    "start_time": "2022-09-29T16:42:56.973Z"
   },
   {
    "duration": 26,
    "start_time": "2022-09-29T16:42:57.475Z"
   },
   {
    "duration": 59,
    "start_time": "2022-09-29T16:42:57.503Z"
   },
   {
    "duration": 26,
    "start_time": "2022-09-29T16:42:57.565Z"
   },
   {
    "duration": 72,
    "start_time": "2022-09-29T16:42:57.593Z"
   },
   {
    "duration": 10,
    "start_time": "2022-09-29T16:42:57.667Z"
   },
   {
    "duration": 21,
    "start_time": "2022-09-29T16:42:57.679Z"
   },
   {
    "duration": 62,
    "start_time": "2022-09-29T16:42:57.703Z"
   },
   {
    "duration": 25,
    "start_time": "2022-09-29T16:42:57.767Z"
   },
   {
    "duration": 17,
    "start_time": "2022-09-29T16:42:57.796Z"
   },
   {
    "duration": 81,
    "start_time": "2022-09-29T16:42:57.816Z"
   },
   {
    "duration": 25,
    "start_time": "2022-09-29T16:42:57.899Z"
   },
   {
    "duration": 53,
    "start_time": "2022-09-29T16:42:57.926Z"
   },
   {
    "duration": 57,
    "start_time": "2022-09-29T16:42:57.981Z"
   },
   {
    "duration": 42,
    "start_time": "2022-09-29T16:42:58.041Z"
   },
   {
    "duration": 25,
    "start_time": "2022-09-29T16:42:58.085Z"
   },
   {
    "duration": 5,
    "start_time": "2022-09-29T16:42:58.112Z"
   },
   {
    "duration": 59,
    "start_time": "2022-09-29T16:42:58.118Z"
   },
   {
    "duration": 15,
    "start_time": "2022-09-29T16:42:58.178Z"
   },
   {
    "duration": 4,
    "start_time": "2022-09-29T16:42:58.195Z"
   },
   {
    "duration": 12,
    "start_time": "2022-09-29T16:42:58.201Z"
   },
   {
    "duration": 21,
    "start_time": "2022-09-29T16:42:58.214Z"
   },
   {
    "duration": 1168,
    "start_time": "2022-09-29T16:42:58.237Z"
   },
   {
    "duration": 36,
    "start_time": "2022-09-29T16:42:59.407Z"
   },
   {
    "duration": 21,
    "start_time": "2022-09-29T16:42:59.445Z"
   },
   {
    "duration": 6,
    "start_time": "2022-09-29T16:42:59.468Z"
   },
   {
    "duration": 15,
    "start_time": "2022-09-29T16:42:59.476Z"
   },
   {
    "duration": 9,
    "start_time": "2022-09-29T16:43:11.093Z"
   },
   {
    "duration": 10,
    "start_time": "2022-09-29T16:43:57.674Z"
   },
   {
    "duration": 7,
    "start_time": "2022-09-29T16:44:02.394Z"
   },
   {
    "duration": 50,
    "start_time": "2022-09-29T16:44:26.549Z"
   },
   {
    "duration": 12,
    "start_time": "2022-09-29T16:44:31.741Z"
   },
   {
    "duration": 18,
    "start_time": "2022-09-29T16:45:17.770Z"
   },
   {
    "duration": 12,
    "start_time": "2022-09-29T16:45:26.977Z"
   },
   {
    "duration": 13,
    "start_time": "2022-09-29T16:45:40.017Z"
   },
   {
    "duration": 643,
    "start_time": "2022-09-29T16:52:40.312Z"
   },
   {
    "duration": 34,
    "start_time": "2022-09-29T16:52:40.958Z"
   },
   {
    "duration": 40,
    "start_time": "2022-09-29T16:52:40.995Z"
   },
   {
    "duration": 53,
    "start_time": "2022-09-29T16:52:41.038Z"
   },
   {
    "duration": 65,
    "start_time": "2022-09-29T16:52:41.093Z"
   },
   {
    "duration": 4,
    "start_time": "2022-09-29T16:52:41.161Z"
   },
   {
    "duration": 15,
    "start_time": "2022-09-29T16:52:41.167Z"
   },
   {
    "duration": 16,
    "start_time": "2022-09-29T16:52:41.185Z"
   },
   {
    "duration": 29,
    "start_time": "2022-09-29T16:52:41.203Z"
   },
   {
    "duration": 9,
    "start_time": "2022-09-29T16:52:41.240Z"
   },
   {
    "duration": 62,
    "start_time": "2022-09-29T16:52:41.253Z"
   },
   {
    "duration": 35,
    "start_time": "2022-09-29T16:52:41.317Z"
   },
   {
    "duration": 9,
    "start_time": "2022-09-29T16:52:41.355Z"
   },
   {
    "duration": 25,
    "start_time": "2022-09-29T16:52:41.366Z"
   },
   {
    "duration": 45,
    "start_time": "2022-09-29T16:52:41.393Z"
   },
   {
    "duration": 45,
    "start_time": "2022-09-29T16:52:41.441Z"
   },
   {
    "duration": 5,
    "start_time": "2022-09-29T16:52:41.488Z"
   },
   {
    "duration": 53,
    "start_time": "2022-09-29T16:52:41.495Z"
   },
   {
    "duration": 21,
    "start_time": "2022-09-29T16:52:41.552Z"
   },
   {
    "duration": 25,
    "start_time": "2022-09-29T16:52:41.575Z"
   },
   {
    "duration": 27,
    "start_time": "2022-09-29T16:52:41.603Z"
   },
   {
    "duration": 54,
    "start_time": "2022-09-29T16:52:41.633Z"
   },
   {
    "duration": 1519,
    "start_time": "2022-09-29T16:52:41.690Z"
   },
   {
    "duration": 36,
    "start_time": "2022-09-29T16:52:43.212Z"
   },
   {
    "duration": 39,
    "start_time": "2022-09-29T16:52:43.252Z"
   },
   {
    "duration": 25,
    "start_time": "2022-09-29T16:52:43.294Z"
   },
   {
    "duration": 46,
    "start_time": "2022-09-29T16:52:43.322Z"
   },
   {
    "duration": 12,
    "start_time": "2022-09-29T16:52:43.373Z"
   },
   {
    "duration": 18,
    "start_time": "2022-09-29T16:53:04.239Z"
   },
   {
    "duration": 1317,
    "start_time": "2022-09-29T16:53:15.766Z"
   },
   {
    "duration": 11,
    "start_time": "2022-09-29T16:53:29.542Z"
   },
   {
    "duration": 302,
    "start_time": "2022-09-29T16:58:40.292Z"
   },
   {
    "duration": 31,
    "start_time": "2022-09-29T16:59:02.744Z"
   },
   {
    "duration": 276,
    "start_time": "2022-09-29T16:59:07.124Z"
   },
   {
    "duration": 24,
    "start_time": "2022-09-29T17:00:34.364Z"
   },
   {
    "duration": 322,
    "start_time": "2022-09-29T17:00:37.716Z"
   },
   {
    "duration": 317,
    "start_time": "2022-09-29T17:00:54.432Z"
   },
   {
    "duration": 273,
    "start_time": "2022-09-29T17:01:07.230Z"
   },
   {
    "duration": 353,
    "start_time": "2022-09-29T17:01:32.992Z"
   },
   {
    "duration": 252,
    "start_time": "2022-09-29T17:01:48.456Z"
   },
   {
    "duration": 471,
    "start_time": "2022-09-29T17:04:40.070Z"
   },
   {
    "duration": 23,
    "start_time": "2022-09-29T17:04:40.543Z"
   },
   {
    "duration": 16,
    "start_time": "2022-09-29T17:04:40.568Z"
   },
   {
    "duration": 38,
    "start_time": "2022-09-29T17:04:40.586Z"
   },
   {
    "duration": 38,
    "start_time": "2022-09-29T17:04:40.626Z"
   },
   {
    "duration": 4,
    "start_time": "2022-09-29T17:04:40.666Z"
   },
   {
    "duration": 12,
    "start_time": "2022-09-29T17:04:40.671Z"
   },
   {
    "duration": 4,
    "start_time": "2022-09-29T17:04:40.685Z"
   },
   {
    "duration": 34,
    "start_time": "2022-09-29T17:04:40.691Z"
   },
   {
    "duration": 11,
    "start_time": "2022-09-29T17:04:40.729Z"
   },
   {
    "duration": 41,
    "start_time": "2022-09-29T17:04:40.742Z"
   },
   {
    "duration": 9,
    "start_time": "2022-09-29T17:04:40.785Z"
   },
   {
    "duration": 8,
    "start_time": "2022-09-29T17:04:40.796Z"
   },
   {
    "duration": 30,
    "start_time": "2022-09-29T17:04:40.806Z"
   },
   {
    "duration": 31,
    "start_time": "2022-09-29T17:04:40.838Z"
   },
   {
    "duration": 17,
    "start_time": "2022-09-29T17:04:40.871Z"
   },
   {
    "duration": 4,
    "start_time": "2022-09-29T17:04:40.890Z"
   },
   {
    "duration": 16,
    "start_time": "2022-09-29T17:04:40.895Z"
   },
   {
    "duration": 15,
    "start_time": "2022-09-29T17:04:40.913Z"
   },
   {
    "duration": 19,
    "start_time": "2022-09-29T17:04:40.929Z"
   },
   {
    "duration": 22,
    "start_time": "2022-09-29T17:04:40.950Z"
   },
   {
    "duration": 17,
    "start_time": "2022-09-29T17:04:40.973Z"
   },
   {
    "duration": 1138,
    "start_time": "2022-09-29T17:04:40.991Z"
   },
   {
    "duration": 18,
    "start_time": "2022-09-29T17:04:42.130Z"
   },
   {
    "duration": 17,
    "start_time": "2022-09-29T17:04:42.149Z"
   },
   {
    "duration": 13,
    "start_time": "2022-09-29T17:04:42.168Z"
   },
   {
    "duration": 5,
    "start_time": "2022-09-29T17:04:42.183Z"
   },
   {
    "duration": 7,
    "start_time": "2022-09-29T17:04:42.192Z"
   },
   {
    "duration": 291,
    "start_time": "2022-09-29T17:05:43.971Z"
   },
   {
    "duration": 118,
    "start_time": "2022-09-29T17:05:51.387Z"
   },
   {
    "duration": 32,
    "start_time": "2022-09-29T17:06:14.306Z"
   },
   {
    "duration": 9,
    "start_time": "2022-09-29T17:06:23.495Z"
   },
   {
    "duration": 20,
    "start_time": "2022-09-29T17:07:26.936Z"
   },
   {
    "duration": 23,
    "start_time": "2022-09-29T17:07:35.851Z"
   },
   {
    "duration": 9,
    "start_time": "2022-09-29T17:09:21.536Z"
   },
   {
    "duration": 47,
    "start_time": "2022-09-29T17:09:28.286Z"
   },
   {
    "duration": 27,
    "start_time": "2022-09-29T17:09:47.068Z"
   },
   {
    "duration": 20,
    "start_time": "2022-09-29T17:09:52.638Z"
   },
   {
    "duration": 22,
    "start_time": "2022-09-29T17:11:17.610Z"
   },
   {
    "duration": 12,
    "start_time": "2022-09-29T17:11:28.062Z"
   },
   {
    "duration": 475,
    "start_time": "2022-09-29T17:11:35.369Z"
   },
   {
    "duration": 34,
    "start_time": "2022-09-29T17:11:35.846Z"
   },
   {
    "duration": 46,
    "start_time": "2022-09-29T17:11:35.882Z"
   },
   {
    "duration": 20,
    "start_time": "2022-09-29T17:11:35.932Z"
   },
   {
    "duration": 63,
    "start_time": "2022-09-29T17:11:35.954Z"
   },
   {
    "duration": 4,
    "start_time": "2022-09-29T17:11:36.019Z"
   },
   {
    "duration": 43,
    "start_time": "2022-09-29T17:11:36.025Z"
   },
   {
    "duration": 35,
    "start_time": "2022-09-29T17:11:36.069Z"
   },
   {
    "duration": 28,
    "start_time": "2022-09-29T17:11:36.107Z"
   },
   {
    "duration": 16,
    "start_time": "2022-09-29T17:11:36.140Z"
   },
   {
    "duration": 63,
    "start_time": "2022-09-29T17:11:36.159Z"
   },
   {
    "duration": 12,
    "start_time": "2022-09-29T17:11:36.224Z"
   },
   {
    "duration": 26,
    "start_time": "2022-09-29T17:11:36.238Z"
   },
   {
    "duration": 30,
    "start_time": "2022-09-29T17:11:36.266Z"
   },
   {
    "duration": 51,
    "start_time": "2022-09-29T17:11:36.298Z"
   },
   {
    "duration": 20,
    "start_time": "2022-09-29T17:11:36.351Z"
   },
   {
    "duration": 10,
    "start_time": "2022-09-29T17:11:36.373Z"
   },
   {
    "duration": 32,
    "start_time": "2022-09-29T17:11:36.384Z"
   },
   {
    "duration": 33,
    "start_time": "2022-09-29T17:11:36.418Z"
   },
   {
    "duration": 29,
    "start_time": "2022-09-29T17:11:36.452Z"
   },
   {
    "duration": 22,
    "start_time": "2022-09-29T17:11:36.483Z"
   },
   {
    "duration": 59,
    "start_time": "2022-09-29T17:11:36.508Z"
   },
   {
    "duration": 1133,
    "start_time": "2022-09-29T17:11:36.569Z"
   },
   {
    "duration": 23,
    "start_time": "2022-09-29T17:11:37.704Z"
   },
   {
    "duration": 22,
    "start_time": "2022-09-29T17:11:37.729Z"
   },
   {
    "duration": 45,
    "start_time": "2022-09-29T17:11:37.753Z"
   },
   {
    "duration": 132,
    "start_time": "2022-09-29T17:11:37.800Z"
   },
   {
    "duration": 0,
    "start_time": "2022-09-29T17:11:37.934Z"
   },
   {
    "duration": 25,
    "start_time": "2022-09-29T17:12:31.542Z"
   },
   {
    "duration": 17,
    "start_time": "2022-09-29T17:12:45.542Z"
   },
   {
    "duration": 17,
    "start_time": "2022-09-29T17:12:49.732Z"
   },
   {
    "duration": 17,
    "start_time": "2022-09-29T17:13:14.029Z"
   },
   {
    "duration": 25,
    "start_time": "2022-09-29T17:13:24.055Z"
   },
   {
    "duration": 228,
    "start_time": "2022-09-29T17:15:12.137Z"
   },
   {
    "duration": 16,
    "start_time": "2022-09-29T17:15:20.470Z"
   },
   {
    "duration": 18,
    "start_time": "2022-09-29T17:15:31.066Z"
   },
   {
    "duration": 374,
    "start_time": "2022-09-29T17:15:36.835Z"
   },
   {
    "duration": 29,
    "start_time": "2022-09-29T17:15:43.506Z"
   },
   {
    "duration": 16,
    "start_time": "2022-09-29T17:16:06.554Z"
   },
   {
    "duration": 14,
    "start_time": "2022-09-29T17:16:23.514Z"
   },
   {
    "duration": 293,
    "start_time": "2022-09-29T17:23:37.390Z"
   },
   {
    "duration": 25,
    "start_time": "2022-09-29T17:23:46.588Z"
   },
   {
    "duration": 162,
    "start_time": "2022-09-29T17:24:08.913Z"
   },
   {
    "duration": 291,
    "start_time": "2022-09-29T17:24:23.804Z"
   },
   {
    "duration": 19,
    "start_time": "2022-09-29T17:25:23.696Z"
   },
   {
    "duration": 23,
    "start_time": "2022-09-29T17:25:27.564Z"
   },
   {
    "duration": 296,
    "start_time": "2022-09-29T17:25:39.265Z"
   },
   {
    "duration": 290,
    "start_time": "2022-09-29T17:26:04.112Z"
   },
   {
    "duration": 296,
    "start_time": "2022-09-29T17:26:49.696Z"
   },
   {
    "duration": 362,
    "start_time": "2022-09-29T17:27:48.080Z"
   },
   {
    "duration": 307,
    "start_time": "2022-09-29T17:28:12.341Z"
   },
   {
    "duration": 363,
    "start_time": "2022-09-29T17:28:43.141Z"
   },
   {
    "duration": 301,
    "start_time": "2022-09-29T17:29:13.156Z"
   },
   {
    "duration": 246,
    "start_time": "2022-09-29T17:39:16.239Z"
   },
   {
    "duration": 491,
    "start_time": "2022-09-29T17:40:37.143Z"
   },
   {
    "duration": 35,
    "start_time": "2022-09-29T17:40:37.637Z"
   },
   {
    "duration": 18,
    "start_time": "2022-09-29T17:40:37.674Z"
   },
   {
    "duration": 10,
    "start_time": "2022-09-29T17:40:37.694Z"
   },
   {
    "duration": 41,
    "start_time": "2022-09-29T17:40:37.722Z"
   },
   {
    "duration": 4,
    "start_time": "2022-09-29T17:40:37.765Z"
   },
   {
    "duration": 16,
    "start_time": "2022-09-29T17:40:37.771Z"
   },
   {
    "duration": 4,
    "start_time": "2022-09-29T17:40:37.789Z"
   },
   {
    "duration": 37,
    "start_time": "2022-09-29T17:40:37.796Z"
   },
   {
    "duration": 7,
    "start_time": "2022-09-29T17:40:37.837Z"
   },
   {
    "duration": 45,
    "start_time": "2022-09-29T17:40:37.845Z"
   },
   {
    "duration": 11,
    "start_time": "2022-09-29T17:40:37.892Z"
   },
   {
    "duration": 36,
    "start_time": "2022-09-29T17:40:37.904Z"
   },
   {
    "duration": 20,
    "start_time": "2022-09-29T17:40:37.942Z"
   },
   {
    "duration": 29,
    "start_time": "2022-09-29T17:40:37.964Z"
   },
   {
    "duration": 17,
    "start_time": "2022-09-29T17:40:37.995Z"
   },
   {
    "duration": 5,
    "start_time": "2022-09-29T17:40:38.014Z"
   },
   {
    "duration": 43,
    "start_time": "2022-09-29T17:40:38.020Z"
   },
   {
    "duration": 7,
    "start_time": "2022-09-29T17:40:38.065Z"
   },
   {
    "duration": 7,
    "start_time": "2022-09-29T17:40:38.073Z"
   },
   {
    "duration": 14,
    "start_time": "2022-09-29T17:40:38.082Z"
   },
   {
    "duration": 24,
    "start_time": "2022-09-29T17:40:38.098Z"
   },
   {
    "duration": 35,
    "start_time": "2022-09-29T17:40:38.133Z"
   },
   {
    "duration": 23,
    "start_time": "2022-09-29T17:40:38.170Z"
   },
   {
    "duration": 20,
    "start_time": "2022-09-29T17:40:38.195Z"
   },
   {
    "duration": 103,
    "start_time": "2022-09-29T17:40:38.217Z"
   },
   {
    "duration": 0,
    "start_time": "2022-09-29T17:40:38.322Z"
   },
   {
    "duration": 1098,
    "start_time": "2022-09-29T17:41:13.012Z"
   },
   {
    "duration": 292,
    "start_time": "2022-09-29T17:41:21.799Z"
   },
   {
    "duration": 305,
    "start_time": "2022-09-29T17:41:32.579Z"
   },
   {
    "duration": 293,
    "start_time": "2022-09-29T17:42:05.311Z"
   },
   {
    "duration": 256,
    "start_time": "2022-09-29T17:42:46.036Z"
   },
   {
    "duration": 12,
    "start_time": "2022-09-29T17:45:44.895Z"
   },
   {
    "duration": 15,
    "start_time": "2022-09-29T17:46:06.035Z"
   },
   {
    "duration": 14,
    "start_time": "2022-09-29T17:47:08.475Z"
   },
   {
    "duration": 51,
    "start_time": "2022-09-29T17:47:29.458Z"
   },
   {
    "duration": 46,
    "start_time": "2022-09-29T17:47:35.702Z"
   },
   {
    "duration": 9,
    "start_time": "2022-09-29T17:48:40.006Z"
   },
   {
    "duration": 9,
    "start_time": "2022-09-29T17:48:58.739Z"
   },
   {
    "duration": 10,
    "start_time": "2022-09-29T17:49:38.777Z"
   },
   {
    "duration": 10,
    "start_time": "2022-09-29T17:49:41.162Z"
   },
   {
    "duration": 486,
    "start_time": "2022-09-29T17:49:50.079Z"
   },
   {
    "duration": 27,
    "start_time": "2022-09-29T17:49:50.567Z"
   },
   {
    "duration": 28,
    "start_time": "2022-09-29T17:49:50.596Z"
   },
   {
    "duration": 19,
    "start_time": "2022-09-29T17:49:50.627Z"
   },
   {
    "duration": 66,
    "start_time": "2022-09-29T17:49:50.648Z"
   },
   {
    "duration": 5,
    "start_time": "2022-09-29T17:49:50.715Z"
   },
   {
    "duration": 41,
    "start_time": "2022-09-29T17:49:50.722Z"
   },
   {
    "duration": 7,
    "start_time": "2022-09-29T17:49:50.765Z"
   },
   {
    "duration": 23,
    "start_time": "2022-09-29T17:49:50.773Z"
   },
   {
    "duration": 4,
    "start_time": "2022-09-29T17:49:50.799Z"
   },
   {
    "duration": 50,
    "start_time": "2022-09-29T17:49:50.804Z"
   },
   {
    "duration": 9,
    "start_time": "2022-09-29T17:49:50.856Z"
   },
   {
    "duration": 32,
    "start_time": "2022-09-29T17:49:50.867Z"
   },
   {
    "duration": 51,
    "start_time": "2022-09-29T17:49:50.901Z"
   },
   {
    "duration": 41,
    "start_time": "2022-09-29T17:49:50.954Z"
   },
   {
    "duration": 19,
    "start_time": "2022-09-29T17:49:50.997Z"
   },
   {
    "duration": 15,
    "start_time": "2022-09-29T17:49:51.017Z"
   },
   {
    "duration": 22,
    "start_time": "2022-09-29T17:49:51.034Z"
   },
   {
    "duration": 11,
    "start_time": "2022-09-29T17:49:51.057Z"
   },
   {
    "duration": 6,
    "start_time": "2022-09-29T17:49:51.070Z"
   },
   {
    "duration": 15,
    "start_time": "2022-09-29T17:49:51.078Z"
   },
   {
    "duration": 27,
    "start_time": "2022-09-29T17:49:51.095Z"
   },
   {
    "duration": 1069,
    "start_time": "2022-09-29T17:49:51.124Z"
   },
   {
    "duration": 26,
    "start_time": "2022-09-29T17:49:52.196Z"
   },
   {
    "duration": 12,
    "start_time": "2022-09-29T17:49:52.224Z"
   },
   {
    "duration": 20,
    "start_time": "2022-09-29T17:49:52.238Z"
   },
   {
    "duration": 327,
    "start_time": "2022-09-29T17:49:52.261Z"
   },
   {
    "duration": 135,
    "start_time": "2022-09-29T17:49:52.591Z"
   },
   {
    "duration": 11,
    "start_time": "2022-09-29T17:49:58.411Z"
   },
   {
    "duration": 10,
    "start_time": "2022-09-29T17:50:00.363Z"
   },
   {
    "duration": 18,
    "start_time": "2022-09-29T17:50:09.364Z"
   },
   {
    "duration": 14,
    "start_time": "2022-09-29T17:50:30.343Z"
   },
   {
    "duration": 12,
    "start_time": "2022-09-29T17:50:37.471Z"
   },
   {
    "duration": 15,
    "start_time": "2022-09-29T17:50:40.495Z"
   },
   {
    "duration": 14,
    "start_time": "2022-09-29T17:50:57.743Z"
   },
   {
    "duration": 78,
    "start_time": "2022-09-29T18:18:32.295Z"
   },
   {
    "duration": 80,
    "start_time": "2022-09-29T18:18:41.428Z"
   },
   {
    "duration": 27,
    "start_time": "2022-09-29T18:18:54.455Z"
   },
   {
    "duration": 1102,
    "start_time": "2022-09-29T18:25:55.506Z"
   },
   {
    "duration": 992,
    "start_time": "2022-09-29T18:26:01.758Z"
   },
   {
    "duration": 6,
    "start_time": "2022-09-29T18:26:10.551Z"
   },
   {
    "duration": 5,
    "start_time": "2022-09-29T18:26:24.138Z"
   },
   {
    "duration": 9,
    "start_time": "2022-09-29T18:27:01.686Z"
   },
   {
    "duration": 9,
    "start_time": "2022-09-29T18:27:07.270Z"
   },
   {
    "duration": 790,
    "start_time": "2022-09-29T18:27:17.294Z"
   },
   {
    "duration": 628,
    "start_time": "2022-09-29T18:27:43.238Z"
   },
   {
    "duration": 8,
    "start_time": "2022-09-29T18:27:51.978Z"
   },
   {
    "duration": 6,
    "start_time": "2022-09-29T18:28:12.410Z"
   },
   {
    "duration": 6,
    "start_time": "2022-09-29T18:28:32.366Z"
   },
   {
    "duration": 19,
    "start_time": "2022-09-29T18:28:40.842Z"
   },
   {
    "duration": 439,
    "start_time": "2022-09-29T18:28:45.274Z"
   },
   {
    "duration": 24,
    "start_time": "2022-09-29T18:28:45.715Z"
   },
   {
    "duration": 16,
    "start_time": "2022-09-29T18:28:45.740Z"
   },
   {
    "duration": 14,
    "start_time": "2022-09-29T18:28:45.758Z"
   },
   {
    "duration": 63,
    "start_time": "2022-09-29T18:28:45.774Z"
   },
   {
    "duration": 5,
    "start_time": "2022-09-29T18:28:45.839Z"
   },
   {
    "duration": 23,
    "start_time": "2022-09-29T18:28:45.846Z"
   },
   {
    "duration": 27,
    "start_time": "2022-09-29T18:28:45.871Z"
   },
   {
    "duration": 20,
    "start_time": "2022-09-29T18:28:45.900Z"
   },
   {
    "duration": 9,
    "start_time": "2022-09-29T18:28:45.924Z"
   },
   {
    "duration": 42,
    "start_time": "2022-09-29T18:28:45.935Z"
   },
   {
    "duration": 10,
    "start_time": "2022-09-29T18:28:45.978Z"
   },
   {
    "duration": 14,
    "start_time": "2022-09-29T18:28:45.990Z"
   },
   {
    "duration": 29,
    "start_time": "2022-09-29T18:28:46.006Z"
   },
   {
    "duration": 30,
    "start_time": "2022-09-29T18:28:46.038Z"
   },
   {
    "duration": 20,
    "start_time": "2022-09-29T18:28:46.070Z"
   },
   {
    "duration": 4,
    "start_time": "2022-09-29T18:28:46.092Z"
   },
   {
    "duration": 36,
    "start_time": "2022-09-29T18:28:46.097Z"
   },
   {
    "duration": 8,
    "start_time": "2022-09-29T18:28:46.135Z"
   },
   {
    "duration": 14,
    "start_time": "2022-09-29T18:28:46.145Z"
   },
   {
    "duration": 17,
    "start_time": "2022-09-29T18:28:46.161Z"
   },
   {
    "duration": 22,
    "start_time": "2022-09-29T18:28:46.179Z"
   },
   {
    "duration": 1095,
    "start_time": "2022-09-29T18:28:46.203Z"
   },
   {
    "duration": 27,
    "start_time": "2022-09-29T18:28:47.300Z"
   },
   {
    "duration": 11,
    "start_time": "2022-09-29T18:28:47.329Z"
   },
   {
    "duration": 28,
    "start_time": "2022-09-29T18:28:47.342Z"
   },
   {
    "duration": 304,
    "start_time": "2022-09-29T18:28:47.372Z"
   },
   {
    "duration": 21,
    "start_time": "2022-09-29T18:28:47.680Z"
   },
   {
    "duration": 8,
    "start_time": "2022-09-29T18:33:41.581Z"
   },
   {
    "duration": 4,
    "start_time": "2022-09-29T18:33:50.320Z"
   },
   {
    "duration": 136,
    "start_time": "2022-09-29T18:33:54.956Z"
   },
   {
    "duration": 9,
    "start_time": "2022-09-29T18:34:02.892Z"
   },
   {
    "duration": 521,
    "start_time": "2022-09-29T18:34:12.349Z"
   },
   {
    "duration": 34,
    "start_time": "2022-09-29T18:34:12.873Z"
   },
   {
    "duration": 17,
    "start_time": "2022-09-29T18:34:12.909Z"
   },
   {
    "duration": 38,
    "start_time": "2022-09-29T18:34:12.928Z"
   },
   {
    "duration": 15,
    "start_time": "2022-09-29T18:34:12.968Z"
   },
   {
    "duration": 59,
    "start_time": "2022-09-29T18:34:12.986Z"
   },
   {
    "duration": 4,
    "start_time": "2022-09-29T18:34:13.047Z"
   },
   {
    "duration": 10,
    "start_time": "2022-09-29T18:34:13.053Z"
   },
   {
    "duration": 15,
    "start_time": "2022-09-29T18:34:13.065Z"
   },
   {
    "duration": 13,
    "start_time": "2022-09-29T18:34:13.084Z"
   },
   {
    "duration": 23,
    "start_time": "2022-09-29T18:34:13.099Z"
   },
   {
    "duration": 46,
    "start_time": "2022-09-29T18:34:13.124Z"
   },
   {
    "duration": 10,
    "start_time": "2022-09-29T18:34:13.172Z"
   },
   {
    "duration": 5,
    "start_time": "2022-09-29T18:34:13.184Z"
   },
   {
    "duration": 36,
    "start_time": "2022-09-29T18:34:13.191Z"
   },
   {
    "duration": 27,
    "start_time": "2022-09-29T18:34:13.228Z"
   },
   {
    "duration": 21,
    "start_time": "2022-09-29T18:34:13.256Z"
   },
   {
    "duration": 5,
    "start_time": "2022-09-29T18:34:13.279Z"
   },
   {
    "duration": 40,
    "start_time": "2022-09-29T18:34:13.287Z"
   },
   {
    "duration": 14,
    "start_time": "2022-09-29T18:34:13.329Z"
   },
   {
    "duration": 5,
    "start_time": "2022-09-29T18:34:13.344Z"
   },
   {
    "duration": 12,
    "start_time": "2022-09-29T18:34:13.350Z"
   },
   {
    "duration": 23,
    "start_time": "2022-09-29T18:34:13.364Z"
   },
   {
    "duration": 1211,
    "start_time": "2022-09-29T18:34:13.389Z"
   },
   {
    "duration": 32,
    "start_time": "2022-09-29T18:34:14.602Z"
   },
   {
    "duration": 13,
    "start_time": "2022-09-29T18:34:14.637Z"
   },
   {
    "duration": 27,
    "start_time": "2022-09-29T18:34:14.651Z"
   },
   {
    "duration": 295,
    "start_time": "2022-09-29T18:34:14.682Z"
   },
   {
    "duration": 22,
    "start_time": "2022-09-29T18:34:14.978Z"
   },
   {
    "duration": 7,
    "start_time": "2022-09-29T18:34:29.561Z"
   },
   {
    "duration": 9,
    "start_time": "2022-09-29T18:34:47.049Z"
   },
   {
    "duration": 8,
    "start_time": "2022-09-29T18:34:53.177Z"
   },
   {
    "duration": 12,
    "start_time": "2022-09-29T18:35:14.492Z"
   },
   {
    "duration": 6,
    "start_time": "2022-09-29T18:35:21.984Z"
   },
   {
    "duration": 9,
    "start_time": "2022-09-29T18:35:36.496Z"
   },
   {
    "duration": 13,
    "start_time": "2022-09-29T18:35:48.955Z"
   },
   {
    "duration": 5,
    "start_time": "2022-09-29T18:36:06.000Z"
   },
   {
    "duration": 6,
    "start_time": "2022-09-29T18:36:14.620Z"
   },
   {
    "duration": 7,
    "start_time": "2022-09-29T18:36:41.847Z"
   },
   {
    "duration": 52,
    "start_time": "2022-09-29T18:37:19.812Z"
   },
   {
    "duration": 45,
    "start_time": "2022-09-29T18:37:22.688Z"
   },
   {
    "duration": 7,
    "start_time": "2022-09-29T18:37:25.804Z"
   },
   {
    "duration": 98,
    "start_time": "2022-09-29T18:37:33.344Z"
   },
   {
    "duration": 6,
    "start_time": "2022-09-29T18:37:37.676Z"
   },
   {
    "duration": 4,
    "start_time": "2022-09-29T18:38:47.491Z"
   },
   {
    "duration": 13,
    "start_time": "2022-09-29T18:38:55.547Z"
   },
   {
    "duration": 10,
    "start_time": "2022-09-29T18:39:08.820Z"
   },
   {
    "duration": 10,
    "start_time": "2022-09-29T18:39:23.620Z"
   },
   {
    "duration": 85,
    "start_time": "2022-09-29T18:43:23.666Z"
   },
   {
    "duration": 11,
    "start_time": "2022-09-29T18:43:27.547Z"
   },
   {
    "duration": 13,
    "start_time": "2022-09-29T18:43:59.049Z"
   },
   {
    "duration": 6,
    "start_time": "2022-09-29T18:44:27.404Z"
   },
   {
    "duration": 50,
    "start_time": "2022-10-01T09:47:27.615Z"
   },
   {
    "duration": 604,
    "start_time": "2022-10-01T09:47:42.323Z"
   },
   {
    "duration": 26,
    "start_time": "2022-10-01T09:47:42.933Z"
   },
   {
    "duration": 21,
    "start_time": "2022-10-01T09:47:42.961Z"
   },
   {
    "duration": 22,
    "start_time": "2022-10-01T09:47:42.986Z"
   },
   {
    "duration": 70,
    "start_time": "2022-10-01T09:47:43.009Z"
   },
   {
    "duration": 4,
    "start_time": "2022-10-01T09:47:43.081Z"
   },
   {
    "duration": 55,
    "start_time": "2022-10-01T09:47:43.087Z"
   },
   {
    "duration": 14,
    "start_time": "2022-10-01T09:47:43.144Z"
   },
   {
    "duration": 17,
    "start_time": "2022-10-01T09:47:43.160Z"
   },
   {
    "duration": 9,
    "start_time": "2022-10-01T09:47:43.179Z"
   },
   {
    "duration": 91,
    "start_time": "2022-10-01T09:47:43.190Z"
   },
   {
    "duration": 11,
    "start_time": "2022-10-01T09:47:43.283Z"
   },
   {
    "duration": 36,
    "start_time": "2022-10-01T09:47:43.296Z"
   },
   {
    "duration": 25,
    "start_time": "2022-10-01T09:47:43.334Z"
   },
   {
    "duration": 32,
    "start_time": "2022-10-01T09:47:43.360Z"
   },
   {
    "duration": 43,
    "start_time": "2022-10-01T09:47:43.398Z"
   },
   {
    "duration": 4,
    "start_time": "2022-10-01T09:47:43.443Z"
   },
   {
    "duration": 13,
    "start_time": "2022-10-01T09:47:43.449Z"
   },
   {
    "duration": 7,
    "start_time": "2022-10-01T09:47:43.464Z"
   },
   {
    "duration": 4,
    "start_time": "2022-10-01T09:47:43.473Z"
   },
   {
    "duration": 51,
    "start_time": "2022-10-01T09:47:43.479Z"
   },
   {
    "duration": 23,
    "start_time": "2022-10-01T09:47:43.532Z"
   },
   {
    "duration": 1378,
    "start_time": "2022-10-01T09:47:43.557Z"
   },
   {
    "duration": 16,
    "start_time": "2022-10-01T09:47:44.937Z"
   },
   {
    "duration": 10,
    "start_time": "2022-10-01T09:47:44.954Z"
   },
   {
    "duration": 33,
    "start_time": "2022-10-01T09:47:44.967Z"
   },
   {
    "duration": 276,
    "start_time": "2022-10-01T09:47:45.002Z"
   },
   {
    "duration": 28,
    "start_time": "2022-10-01T09:47:45.283Z"
   },
   {
    "duration": 21,
    "start_time": "2022-10-01T09:47:45.315Z"
   },
   {
    "duration": 505,
    "start_time": "2022-10-01T09:48:20.741Z"
   },
   {
    "duration": 22,
    "start_time": "2022-10-01T09:48:21.248Z"
   },
   {
    "duration": 33,
    "start_time": "2022-10-01T09:48:21.272Z"
   },
   {
    "duration": 19,
    "start_time": "2022-10-01T09:48:21.312Z"
   },
   {
    "duration": 52,
    "start_time": "2022-10-01T09:48:21.333Z"
   },
   {
    "duration": 13,
    "start_time": "2022-10-01T09:48:21.388Z"
   },
   {
    "duration": 36,
    "start_time": "2022-10-01T09:48:21.407Z"
   },
   {
    "duration": 5,
    "start_time": "2022-10-01T09:48:21.445Z"
   },
   {
    "duration": 13,
    "start_time": "2022-10-01T09:48:21.452Z"
   },
   {
    "duration": 7,
    "start_time": "2022-10-01T09:48:21.470Z"
   },
   {
    "duration": 46,
    "start_time": "2022-10-01T09:48:21.478Z"
   },
   {
    "duration": 14,
    "start_time": "2022-10-01T09:48:21.526Z"
   },
   {
    "duration": 7,
    "start_time": "2022-10-01T09:48:21.542Z"
   },
   {
    "duration": 14,
    "start_time": "2022-10-01T09:48:21.551Z"
   },
   {
    "duration": 49,
    "start_time": "2022-10-01T09:48:21.567Z"
   },
   {
    "duration": 34,
    "start_time": "2022-10-01T09:48:21.618Z"
   },
   {
    "duration": 3,
    "start_time": "2022-10-01T09:48:21.654Z"
   },
   {
    "duration": 13,
    "start_time": "2022-10-01T09:48:21.659Z"
   },
   {
    "duration": 12,
    "start_time": "2022-10-01T09:48:21.675Z"
   },
   {
    "duration": 14,
    "start_time": "2022-10-01T09:48:21.689Z"
   },
   {
    "duration": 35,
    "start_time": "2022-10-01T09:48:21.704Z"
   },
   {
    "duration": 18,
    "start_time": "2022-10-01T09:48:21.741Z"
   },
   {
    "duration": 1125,
    "start_time": "2022-10-01T09:48:21.761Z"
   },
   {
    "duration": 21,
    "start_time": "2022-10-01T09:48:22.888Z"
   },
   {
    "duration": 33,
    "start_time": "2022-10-01T09:48:22.912Z"
   },
   {
    "duration": 12,
    "start_time": "2022-10-01T09:48:22.948Z"
   },
   {
    "duration": 296,
    "start_time": "2022-10-01T09:48:22.962Z"
   },
   {
    "duration": 14,
    "start_time": "2022-10-01T09:48:23.262Z"
   },
   {
    "duration": 353,
    "start_time": "2022-10-01T09:56:28.309Z"
   },
   {
    "duration": 392,
    "start_time": "2022-10-01T09:58:07.493Z"
   },
   {
    "duration": 10,
    "start_time": "2022-10-01T10:38:51.818Z"
   },
   {
    "duration": 11,
    "start_time": "2022-10-01T10:39:26.409Z"
   },
   {
    "duration": 147,
    "start_time": "2022-10-01T10:41:01.218Z"
   },
   {
    "duration": 96,
    "start_time": "2022-10-01T10:41:33.569Z"
   },
   {
    "duration": 104,
    "start_time": "2022-10-01T10:43:59.937Z"
   },
   {
    "duration": 492,
    "start_time": "2022-10-01T10:44:21.309Z"
   },
   {
    "duration": 36,
    "start_time": "2022-10-01T10:44:21.809Z"
   },
   {
    "duration": 16,
    "start_time": "2022-10-01T10:44:21.846Z"
   },
   {
    "duration": 10,
    "start_time": "2022-10-01T10:44:21.865Z"
   },
   {
    "duration": 57,
    "start_time": "2022-10-01T10:44:21.877Z"
   },
   {
    "duration": 3,
    "start_time": "2022-10-01T10:44:21.936Z"
   },
   {
    "duration": 11,
    "start_time": "2022-10-01T10:44:21.940Z"
   },
   {
    "duration": 5,
    "start_time": "2022-10-01T10:44:21.952Z"
   },
   {
    "duration": 40,
    "start_time": "2022-10-01T10:44:21.958Z"
   },
   {
    "duration": 9,
    "start_time": "2022-10-01T10:44:22.004Z"
   },
   {
    "duration": 42,
    "start_time": "2022-10-01T10:44:22.015Z"
   },
   {
    "duration": 10,
    "start_time": "2022-10-01T10:44:22.059Z"
   },
   {
    "duration": 8,
    "start_time": "2022-10-01T10:44:22.070Z"
   },
   {
    "duration": 34,
    "start_time": "2022-10-01T10:44:22.079Z"
   },
   {
    "duration": 25,
    "start_time": "2022-10-01T10:44:22.115Z"
   },
   {
    "duration": 18,
    "start_time": "2022-10-01T10:44:22.142Z"
   },
   {
    "duration": 5,
    "start_time": "2022-10-01T10:44:22.162Z"
   },
   {
    "duration": 31,
    "start_time": "2022-10-01T10:44:22.169Z"
   },
   {
    "duration": 27,
    "start_time": "2022-10-01T10:44:22.211Z"
   },
   {
    "duration": 4,
    "start_time": "2022-10-01T10:44:22.240Z"
   },
   {
    "duration": 11,
    "start_time": "2022-10-01T10:44:22.245Z"
   },
   {
    "duration": 15,
    "start_time": "2022-10-01T10:44:22.258Z"
   },
   {
    "duration": 1115,
    "start_time": "2022-10-01T10:44:22.275Z"
   },
   {
    "duration": 17,
    "start_time": "2022-10-01T10:44:23.396Z"
   },
   {
    "duration": 10,
    "start_time": "2022-10-01T10:44:23.414Z"
   },
   {
    "duration": 14,
    "start_time": "2022-10-01T10:44:23.426Z"
   },
   {
    "duration": 316,
    "start_time": "2022-10-01T10:44:23.442Z"
   },
   {
    "duration": 14,
    "start_time": "2022-10-01T10:44:23.761Z"
   },
   {
    "duration": 127,
    "start_time": "2022-10-01T10:47:46.062Z"
   },
   {
    "duration": 152,
    "start_time": "2022-10-01T10:48:22.322Z"
   },
   {
    "duration": 105,
    "start_time": "2022-10-01T10:48:37.238Z"
   },
   {
    "duration": 276,
    "start_time": "2022-10-01T10:52:33.286Z"
   },
   {
    "duration": 250,
    "start_time": "2022-10-01T10:52:40.309Z"
   },
   {
    "duration": 483,
    "start_time": "2022-10-01T10:52:45.626Z"
   },
   {
    "duration": 23,
    "start_time": "2022-10-01T10:52:46.111Z"
   },
   {
    "duration": 16,
    "start_time": "2022-10-01T10:52:46.135Z"
   },
   {
    "duration": 10,
    "start_time": "2022-10-01T10:52:46.153Z"
   },
   {
    "duration": 72,
    "start_time": "2022-10-01T10:52:46.165Z"
   },
   {
    "duration": 5,
    "start_time": "2022-10-01T10:52:46.238Z"
   },
   {
    "duration": 12,
    "start_time": "2022-10-01T10:52:46.245Z"
   },
   {
    "duration": 6,
    "start_time": "2022-10-01T10:52:46.259Z"
   },
   {
    "duration": 43,
    "start_time": "2022-10-01T10:52:46.266Z"
   },
   {
    "duration": 6,
    "start_time": "2022-10-01T10:52:46.313Z"
   },
   {
    "duration": 44,
    "start_time": "2022-10-01T10:52:46.321Z"
   },
   {
    "duration": 10,
    "start_time": "2022-10-01T10:52:46.367Z"
   },
   {
    "duration": 30,
    "start_time": "2022-10-01T10:52:46.379Z"
   },
   {
    "duration": 22,
    "start_time": "2022-10-01T10:52:46.415Z"
   },
   {
    "duration": 27,
    "start_time": "2022-10-01T10:52:46.439Z"
   },
   {
    "duration": 20,
    "start_time": "2022-10-01T10:52:46.468Z"
   },
   {
    "duration": 8,
    "start_time": "2022-10-01T10:52:46.490Z"
   },
   {
    "duration": 38,
    "start_time": "2022-10-01T10:52:46.501Z"
   },
   {
    "duration": 8,
    "start_time": "2022-10-01T10:52:46.541Z"
   },
   {
    "duration": 11,
    "start_time": "2022-10-01T10:52:46.551Z"
   },
   {
    "duration": 24,
    "start_time": "2022-10-01T10:52:46.563Z"
   },
   {
    "duration": 48,
    "start_time": "2022-10-01T10:52:46.589Z"
   },
   {
    "duration": 1135,
    "start_time": "2022-10-01T10:52:46.640Z"
   },
   {
    "duration": 37,
    "start_time": "2022-10-01T10:52:47.776Z"
   },
   {
    "duration": 17,
    "start_time": "2022-10-01T10:52:47.815Z"
   },
   {
    "duration": 13,
    "start_time": "2022-10-01T10:52:47.835Z"
   },
   {
    "duration": 357,
    "start_time": "2022-10-01T10:52:47.850Z"
   },
   {
    "duration": 16,
    "start_time": "2022-10-01T10:52:48.215Z"
   },
   {
    "duration": 595,
    "start_time": "2022-10-01T11:04:39.519Z"
   },
   {
    "duration": 36,
    "start_time": "2022-10-01T11:04:40.117Z"
   },
   {
    "duration": 17,
    "start_time": "2022-10-01T11:04:40.154Z"
   },
   {
    "duration": 43,
    "start_time": "2022-10-01T11:04:40.174Z"
   },
   {
    "duration": 57,
    "start_time": "2022-10-01T11:04:40.221Z"
   },
   {
    "duration": 4,
    "start_time": "2022-10-01T11:04:40.281Z"
   },
   {
    "duration": 21,
    "start_time": "2022-10-01T11:04:40.287Z"
   },
   {
    "duration": 19,
    "start_time": "2022-10-01T11:04:40.310Z"
   },
   {
    "duration": 10,
    "start_time": "2022-10-01T11:04:40.331Z"
   },
   {
    "duration": 10,
    "start_time": "2022-10-01T11:04:40.343Z"
   },
   {
    "duration": 75,
    "start_time": "2022-10-01T11:04:40.356Z"
   },
   {
    "duration": 15,
    "start_time": "2022-10-01T11:04:40.433Z"
   },
   {
    "duration": 6,
    "start_time": "2022-10-01T11:04:40.450Z"
   },
   {
    "duration": 38,
    "start_time": "2022-10-01T11:04:40.460Z"
   },
   {
    "duration": 25,
    "start_time": "2022-10-01T11:04:40.506Z"
   },
   {
    "duration": 25,
    "start_time": "2022-10-01T11:04:40.533Z"
   },
   {
    "duration": 5,
    "start_time": "2022-10-01T11:04:40.566Z"
   },
   {
    "duration": 27,
    "start_time": "2022-10-01T11:04:40.573Z"
   },
   {
    "duration": 48,
    "start_time": "2022-10-01T11:04:40.602Z"
   },
   {
    "duration": 6,
    "start_time": "2022-10-01T11:04:40.653Z"
   },
   {
    "duration": 15,
    "start_time": "2022-10-01T11:04:40.661Z"
   },
   {
    "duration": 20,
    "start_time": "2022-10-01T11:04:40.678Z"
   },
   {
    "duration": 1168,
    "start_time": "2022-10-01T11:04:40.702Z"
   },
   {
    "duration": 36,
    "start_time": "2022-10-01T11:04:41.872Z"
   },
   {
    "duration": 11,
    "start_time": "2022-10-01T11:04:41.911Z"
   },
   {
    "duration": 36,
    "start_time": "2022-10-01T11:04:41.924Z"
   },
   {
    "duration": 358,
    "start_time": "2022-10-01T11:04:41.963Z"
   },
   {
    "duration": 15,
    "start_time": "2022-10-01T11:04:42.323Z"
   },
   {
    "duration": 273,
    "start_time": "2022-10-01T11:06:35.832Z"
   },
   {
    "duration": 4,
    "start_time": "2022-10-01T11:16:59.531Z"
   },
   {
    "duration": 5,
    "start_time": "2022-10-01T11:17:20.952Z"
   },
   {
    "duration": 422,
    "start_time": "2022-10-01T11:35:49.128Z"
   },
   {
    "duration": 21,
    "start_time": "2022-10-01T11:35:49.551Z"
   },
   {
    "duration": 14,
    "start_time": "2022-10-01T11:35:49.573Z"
   },
   {
    "duration": 12,
    "start_time": "2022-10-01T11:35:49.589Z"
   },
   {
    "duration": 30,
    "start_time": "2022-10-01T11:35:49.603Z"
   },
   {
    "duration": 4,
    "start_time": "2022-10-01T11:35:49.634Z"
   },
   {
    "duration": 15,
    "start_time": "2022-10-01T11:35:49.639Z"
   },
   {
    "duration": 9,
    "start_time": "2022-10-01T11:35:49.655Z"
   },
   {
    "duration": 8,
    "start_time": "2022-10-01T11:35:49.665Z"
   },
   {
    "duration": 24,
    "start_time": "2022-10-01T11:35:49.676Z"
   },
   {
    "duration": 28,
    "start_time": "2022-10-01T11:35:49.702Z"
   },
   {
    "duration": 9,
    "start_time": "2022-10-01T11:35:49.732Z"
   },
   {
    "duration": 4,
    "start_time": "2022-10-01T11:35:49.742Z"
   },
   {
    "duration": 12,
    "start_time": "2022-10-01T11:35:49.747Z"
   },
   {
    "duration": 45,
    "start_time": "2022-10-01T11:35:49.761Z"
   },
   {
    "duration": 15,
    "start_time": "2022-10-01T11:35:49.807Z"
   },
   {
    "duration": 3,
    "start_time": "2022-10-01T11:35:49.824Z"
   },
   {
    "duration": 11,
    "start_time": "2022-10-01T11:35:49.828Z"
   },
   {
    "duration": 10,
    "start_time": "2022-10-01T11:35:49.840Z"
   },
   {
    "duration": 5,
    "start_time": "2022-10-01T11:35:49.851Z"
   },
   {
    "duration": 10,
    "start_time": "2022-10-01T11:35:49.857Z"
   },
   {
    "duration": 965,
    "start_time": "2022-10-01T11:35:49.869Z"
   },
   {
    "duration": 12,
    "start_time": "2022-10-01T11:35:50.836Z"
   },
   {
    "duration": 6,
    "start_time": "2022-10-01T11:35:50.850Z"
   },
   {
    "duration": 8,
    "start_time": "2022-10-01T11:35:50.858Z"
   },
   {
    "duration": 273,
    "start_time": "2022-10-01T11:35:50.867Z"
   },
   {
    "duration": 12,
    "start_time": "2022-10-01T11:35:51.142Z"
   },
   {
    "duration": 3,
    "start_time": "2022-10-01T11:35:51.156Z"
   },
   {
    "duration": 12,
    "start_time": "2022-10-01T12:12:15.619Z"
   },
   {
    "duration": 476,
    "start_time": "2022-10-01T12:13:49.263Z"
   },
   {
    "duration": 23,
    "start_time": "2022-10-01T12:13:49.741Z"
   },
   {
    "duration": 35,
    "start_time": "2022-10-01T12:13:49.766Z"
   },
   {
    "duration": 10,
    "start_time": "2022-10-01T12:13:49.803Z"
   },
   {
    "duration": 37,
    "start_time": "2022-10-01T12:13:49.814Z"
   },
   {
    "duration": 3,
    "start_time": "2022-10-01T12:13:49.853Z"
   },
   {
    "duration": 11,
    "start_time": "2022-10-01T12:13:49.858Z"
   },
   {
    "duration": 27,
    "start_time": "2022-10-01T12:13:49.870Z"
   },
   {
    "duration": 16,
    "start_time": "2022-10-01T12:13:49.898Z"
   },
   {
    "duration": 7,
    "start_time": "2022-10-01T12:13:49.919Z"
   },
   {
    "duration": 31,
    "start_time": "2022-10-01T12:13:49.928Z"
   },
   {
    "duration": 35,
    "start_time": "2022-10-01T12:13:49.961Z"
   },
   {
    "duration": 4,
    "start_time": "2022-10-01T12:13:49.998Z"
   },
   {
    "duration": 16,
    "start_time": "2022-10-01T12:13:50.004Z"
   },
   {
    "duration": 24,
    "start_time": "2022-10-01T12:13:50.022Z"
   },
   {
    "duration": 18,
    "start_time": "2022-10-01T12:13:50.048Z"
   },
   {
    "duration": 4,
    "start_time": "2022-10-01T12:13:50.068Z"
   },
   {
    "duration": 10,
    "start_time": "2022-10-01T12:13:50.095Z"
   },
   {
    "duration": 11,
    "start_time": "2022-10-01T12:13:50.107Z"
   },
   {
    "duration": 6,
    "start_time": "2022-10-01T12:13:50.119Z"
   },
   {
    "duration": 14,
    "start_time": "2022-10-01T12:13:50.127Z"
   },
   {
    "duration": 1111,
    "start_time": "2022-10-01T12:13:50.143Z"
   },
   {
    "duration": 15,
    "start_time": "2022-10-01T12:13:51.256Z"
   },
   {
    "duration": 24,
    "start_time": "2022-10-01T12:13:51.272Z"
   },
   {
    "duration": 10,
    "start_time": "2022-10-01T12:13:51.297Z"
   },
   {
    "duration": 263,
    "start_time": "2022-10-01T12:13:51.308Z"
   },
   {
    "duration": 26,
    "start_time": "2022-10-01T12:13:51.573Z"
   },
   {
    "duration": 4,
    "start_time": "2022-10-01T12:13:51.601Z"
   },
   {
    "duration": 4,
    "start_time": "2022-10-01T12:41:25.276Z"
   },
   {
    "duration": 6,
    "start_time": "2022-10-01T12:41:38.128Z"
   },
   {
    "duration": 117,
    "start_time": "2022-10-01T12:42:07.252Z"
   },
   {
    "duration": 11,
    "start_time": "2022-10-01T12:42:11.026Z"
   },
   {
    "duration": 12,
    "start_time": "2022-10-01T12:43:11.420Z"
   },
   {
    "duration": 11,
    "start_time": "2022-10-01T12:43:56.544Z"
   },
   {
    "duration": 10,
    "start_time": "2022-10-01T12:44:32.367Z"
   },
   {
    "duration": 8,
    "start_time": "2022-10-01T12:45:43.695Z"
   },
   {
    "duration": 10,
    "start_time": "2022-10-01T12:45:57.564Z"
   },
   {
    "duration": 17,
    "start_time": "2022-10-01T12:46:00.575Z"
   },
   {
    "duration": 9,
    "start_time": "2022-10-01T12:46:19.840Z"
   },
   {
    "duration": 10,
    "start_time": "2022-10-01T12:46:23.106Z"
   },
   {
    "duration": 9,
    "start_time": "2022-10-01T12:46:42.943Z"
   },
   {
    "duration": 9,
    "start_time": "2022-10-01T12:48:01.699Z"
   },
   {
    "duration": 34,
    "start_time": "2022-10-01T12:48:05.184Z"
   },
   {
    "duration": 19,
    "start_time": "2022-10-01T12:48:16.897Z"
   },
   {
    "duration": 13,
    "start_time": "2022-10-01T12:49:32.319Z"
   },
   {
    "duration": 13,
    "start_time": "2022-10-01T12:52:47.276Z"
   },
   {
    "duration": 13,
    "start_time": "2022-10-01T12:52:54.104Z"
   },
   {
    "duration": 13,
    "start_time": "2022-10-01T12:53:10.651Z"
   },
   {
    "duration": 649,
    "start_time": "2022-10-01T12:53:16.308Z"
   },
   {
    "duration": 45,
    "start_time": "2022-10-01T12:53:16.960Z"
   },
   {
    "duration": 23,
    "start_time": "2022-10-01T12:53:17.008Z"
   },
   {
    "duration": 43,
    "start_time": "2022-10-01T12:53:17.034Z"
   },
   {
    "duration": 29,
    "start_time": "2022-10-01T12:53:17.079Z"
   },
   {
    "duration": 49,
    "start_time": "2022-10-01T12:53:17.110Z"
   },
   {
    "duration": 4,
    "start_time": "2022-10-01T12:53:17.162Z"
   },
   {
    "duration": 30,
    "start_time": "2022-10-01T12:53:17.169Z"
   },
   {
    "duration": 8,
    "start_time": "2022-10-01T12:53:17.200Z"
   },
   {
    "duration": 23,
    "start_time": "2022-10-01T12:53:17.212Z"
   },
   {
    "duration": 8,
    "start_time": "2022-10-01T12:53:17.237Z"
   },
   {
    "duration": 55,
    "start_time": "2022-10-01T12:53:17.248Z"
   },
   {
    "duration": 14,
    "start_time": "2022-10-01T12:53:17.308Z"
   },
   {
    "duration": 10,
    "start_time": "2022-10-01T12:53:17.324Z"
   },
   {
    "duration": 18,
    "start_time": "2022-10-01T12:53:17.336Z"
   },
   {
    "duration": 28,
    "start_time": "2022-10-01T12:53:17.356Z"
   },
   {
    "duration": 25,
    "start_time": "2022-10-01T12:53:17.396Z"
   },
   {
    "duration": 7,
    "start_time": "2022-10-01T12:53:17.423Z"
   },
   {
    "duration": 20,
    "start_time": "2022-10-01T12:53:17.432Z"
   },
   {
    "duration": 18,
    "start_time": "2022-10-01T12:53:17.454Z"
   },
   {
    "duration": 4,
    "start_time": "2022-10-01T12:53:17.475Z"
   },
   {
    "duration": 22,
    "start_time": "2022-10-01T12:53:17.495Z"
   },
   {
    "duration": 1162,
    "start_time": "2022-10-01T12:53:17.519Z"
   },
   {
    "duration": 30,
    "start_time": "2022-10-01T12:53:18.684Z"
   },
   {
    "duration": 25,
    "start_time": "2022-10-01T12:53:18.716Z"
   },
   {
    "duration": 10,
    "start_time": "2022-10-01T12:53:18.743Z"
   },
   {
    "duration": 325,
    "start_time": "2022-10-01T12:53:18.756Z"
   },
   {
    "duration": 30,
    "start_time": "2022-10-01T12:53:19.085Z"
   },
   {
    "duration": 9,
    "start_time": "2022-10-01T12:53:19.119Z"
   },
   {
    "duration": 9,
    "start_time": "2022-10-01T12:54:33.867Z"
   },
   {
    "duration": 9,
    "start_time": "2022-10-01T12:54:38.039Z"
   },
   {
    "duration": 14,
    "start_time": "2022-10-01T12:54:41.296Z"
   },
   {
    "duration": 529,
    "start_time": "2022-10-01T12:54:46.114Z"
   },
   {
    "duration": 30,
    "start_time": "2022-10-01T12:54:46.646Z"
   },
   {
    "duration": 78,
    "start_time": "2022-10-01T12:54:46.678Z"
   },
   {
    "duration": 45,
    "start_time": "2022-10-01T12:54:46.759Z"
   },
   {
    "duration": 43,
    "start_time": "2022-10-01T12:54:46.808Z"
   },
   {
    "duration": 81,
    "start_time": "2022-10-01T12:54:46.854Z"
   },
   {
    "duration": 5,
    "start_time": "2022-10-01T12:54:46.937Z"
   },
   {
    "duration": 23,
    "start_time": "2022-10-01T12:54:46.945Z"
   },
   {
    "duration": 45,
    "start_time": "2022-10-01T12:54:46.970Z"
   },
   {
    "duration": 13,
    "start_time": "2022-10-01T12:54:47.022Z"
   },
   {
    "duration": 7,
    "start_time": "2022-10-01T12:54:47.037Z"
   },
   {
    "duration": 46,
    "start_time": "2022-10-01T12:54:47.046Z"
   },
   {
    "duration": 14,
    "start_time": "2022-10-01T12:54:47.096Z"
   },
   {
    "duration": 17,
    "start_time": "2022-10-01T12:54:47.113Z"
   },
   {
    "duration": 21,
    "start_time": "2022-10-01T12:54:47.132Z"
   },
   {
    "duration": 27,
    "start_time": "2022-10-01T12:54:47.155Z"
   },
   {
    "duration": 33,
    "start_time": "2022-10-01T12:54:47.185Z"
   },
   {
    "duration": 6,
    "start_time": "2022-10-01T12:54:47.221Z"
   },
   {
    "duration": 19,
    "start_time": "2022-10-01T12:54:47.228Z"
   },
   {
    "duration": 11,
    "start_time": "2022-10-01T12:54:47.249Z"
   },
   {
    "duration": 3,
    "start_time": "2022-10-01T12:54:47.262Z"
   },
   {
    "duration": 37,
    "start_time": "2022-10-01T12:54:47.267Z"
   },
   {
    "duration": 1328,
    "start_time": "2022-10-01T12:54:47.306Z"
   },
   {
    "duration": 18,
    "start_time": "2022-10-01T12:54:48.639Z"
   },
   {
    "duration": 14,
    "start_time": "2022-10-01T12:54:48.659Z"
   },
   {
    "duration": 42,
    "start_time": "2022-10-01T12:54:48.697Z"
   },
   {
    "duration": 350,
    "start_time": "2022-10-01T12:54:48.741Z"
   },
   {
    "duration": 25,
    "start_time": "2022-10-01T12:54:49.096Z"
   },
   {
    "duration": 9,
    "start_time": "2022-10-01T12:54:49.123Z"
   },
   {
    "duration": 157,
    "start_time": "2022-10-01T12:55:12.948Z"
   },
   {
    "duration": 8,
    "start_time": "2022-10-01T12:55:19.251Z"
   },
   {
    "duration": 8,
    "start_time": "2022-10-01T12:55:21.417Z"
   },
   {
    "duration": 762,
    "start_time": "2022-10-01T12:55:26.583Z"
   },
   {
    "duration": 33,
    "start_time": "2022-10-01T12:55:27.349Z"
   },
   {
    "duration": 22,
    "start_time": "2022-10-01T12:55:27.384Z"
   },
   {
    "duration": 41,
    "start_time": "2022-10-01T12:55:27.409Z"
   },
   {
    "duration": 14,
    "start_time": "2022-10-01T12:55:27.452Z"
   },
   {
    "duration": 65,
    "start_time": "2022-10-01T12:55:27.468Z"
   },
   {
    "duration": 5,
    "start_time": "2022-10-01T12:55:27.534Z"
   },
   {
    "duration": 11,
    "start_time": "2022-10-01T12:55:27.542Z"
   },
   {
    "duration": 7,
    "start_time": "2022-10-01T12:55:27.555Z"
   },
   {
    "duration": 9,
    "start_time": "2022-10-01T12:55:27.566Z"
   },
   {
    "duration": 7,
    "start_time": "2022-10-01T12:55:27.577Z"
   },
   {
    "duration": 63,
    "start_time": "2022-10-01T12:55:27.597Z"
   },
   {
    "duration": 15,
    "start_time": "2022-10-01T12:55:27.662Z"
   },
   {
    "duration": 16,
    "start_time": "2022-10-01T12:55:27.679Z"
   },
   {
    "duration": 54,
    "start_time": "2022-10-01T12:55:27.697Z"
   },
   {
    "duration": 31,
    "start_time": "2022-10-01T12:55:27.753Z"
   },
   {
    "duration": 30,
    "start_time": "2022-10-01T12:55:27.786Z"
   },
   {
    "duration": 41,
    "start_time": "2022-10-01T12:55:27.818Z"
   },
   {
    "duration": 14,
    "start_time": "2022-10-01T12:55:27.860Z"
   },
   {
    "duration": 9,
    "start_time": "2022-10-01T12:55:27.876Z"
   },
   {
    "duration": 12,
    "start_time": "2022-10-01T12:55:27.887Z"
   },
   {
    "duration": 46,
    "start_time": "2022-10-01T12:55:27.901Z"
   },
   {
    "duration": 1256,
    "start_time": "2022-10-01T12:55:27.949Z"
   },
   {
    "duration": 19,
    "start_time": "2022-10-01T12:55:29.213Z"
   },
   {
    "duration": 30,
    "start_time": "2022-10-01T12:55:29.234Z"
   },
   {
    "duration": 12,
    "start_time": "2022-10-01T12:55:29.267Z"
   },
   {
    "duration": 283,
    "start_time": "2022-10-01T12:55:29.280Z"
   },
   {
    "duration": 16,
    "start_time": "2022-10-01T12:55:29.567Z"
   },
   {
    "duration": 20,
    "start_time": "2022-10-01T12:55:29.585Z"
   },
   {
    "duration": 103,
    "start_time": "2022-10-01T13:01:25.743Z"
   },
   {
    "duration": 15,
    "start_time": "2022-10-01T13:01:34.010Z"
   },
   {
    "duration": 10,
    "start_time": "2022-10-01T13:03:05.694Z"
   },
   {
    "duration": 507,
    "start_time": "2022-10-01T13:03:11.451Z"
   },
   {
    "duration": 23,
    "start_time": "2022-10-01T13:03:11.960Z"
   },
   {
    "duration": 18,
    "start_time": "2022-10-01T13:03:11.985Z"
   },
   {
    "duration": 18,
    "start_time": "2022-10-01T13:03:12.005Z"
   },
   {
    "duration": 10,
    "start_time": "2022-10-01T13:03:12.024Z"
   },
   {
    "duration": 34,
    "start_time": "2022-10-01T13:03:12.035Z"
   },
   {
    "duration": 4,
    "start_time": "2022-10-01T13:03:12.071Z"
   },
   {
    "duration": 17,
    "start_time": "2022-10-01T13:03:12.097Z"
   },
   {
    "duration": 9,
    "start_time": "2022-10-01T13:03:12.115Z"
   },
   {
    "duration": 6,
    "start_time": "2022-10-01T13:03:12.126Z"
   },
   {
    "duration": 5,
    "start_time": "2022-10-01T13:03:12.133Z"
   },
   {
    "duration": 34,
    "start_time": "2022-10-01T13:03:12.139Z"
   },
   {
    "duration": 39,
    "start_time": "2022-10-01T13:03:12.174Z"
   },
   {
    "duration": 4,
    "start_time": "2022-10-01T13:03:12.215Z"
   },
   {
    "duration": 21,
    "start_time": "2022-10-01T13:03:12.221Z"
   },
   {
    "duration": 59,
    "start_time": "2022-10-01T13:03:12.243Z"
   },
   {
    "duration": 22,
    "start_time": "2022-10-01T13:03:12.304Z"
   },
   {
    "duration": 3,
    "start_time": "2022-10-01T13:03:12.328Z"
   },
   {
    "duration": 17,
    "start_time": "2022-10-01T13:03:12.333Z"
   },
   {
    "duration": 6,
    "start_time": "2022-10-01T13:03:12.352Z"
   },
   {
    "duration": 3,
    "start_time": "2022-10-01T13:03:12.360Z"
   },
   {
    "duration": 11,
    "start_time": "2022-10-01T13:03:12.365Z"
   },
   {
    "duration": 1299,
    "start_time": "2022-10-01T13:03:12.378Z"
   },
   {
    "duration": 32,
    "start_time": "2022-10-01T13:03:13.679Z"
   },
   {
    "duration": 9,
    "start_time": "2022-10-01T13:03:13.713Z"
   },
   {
    "duration": 9,
    "start_time": "2022-10-01T13:03:13.724Z"
   },
   {
    "duration": 320,
    "start_time": "2022-10-01T13:03:13.735Z"
   },
   {
    "duration": 14,
    "start_time": "2022-10-01T13:03:14.058Z"
   },
   {
    "duration": 4,
    "start_time": "2022-10-01T13:03:14.073Z"
   },
   {
    "duration": 7,
    "start_time": "2022-10-01T13:03:30.388Z"
   },
   {
    "duration": 494,
    "start_time": "2022-10-01T13:03:37.944Z"
   },
   {
    "duration": 32,
    "start_time": "2022-10-01T13:03:38.440Z"
   },
   {
    "duration": 37,
    "start_time": "2022-10-01T13:03:38.474Z"
   },
   {
    "duration": 14,
    "start_time": "2022-10-01T13:03:38.514Z"
   },
   {
    "duration": 12,
    "start_time": "2022-10-01T13:03:38.531Z"
   },
   {
    "duration": 55,
    "start_time": "2022-10-01T13:03:38.546Z"
   },
   {
    "duration": 4,
    "start_time": "2022-10-01T13:03:38.608Z"
   },
   {
    "duration": 11,
    "start_time": "2022-10-01T13:03:38.614Z"
   },
   {
    "duration": 9,
    "start_time": "2022-10-01T13:03:38.627Z"
   },
   {
    "duration": 9,
    "start_time": "2022-10-01T13:03:38.639Z"
   },
   {
    "duration": 8,
    "start_time": "2022-10-01T13:03:38.650Z"
   },
   {
    "duration": 64,
    "start_time": "2022-10-01T13:03:38.660Z"
   },
   {
    "duration": 10,
    "start_time": "2022-10-01T13:03:38.726Z"
   },
   {
    "duration": 5,
    "start_time": "2022-10-01T13:03:38.737Z"
   },
   {
    "duration": 19,
    "start_time": "2022-10-01T13:03:38.744Z"
   },
   {
    "duration": 42,
    "start_time": "2022-10-01T13:03:38.765Z"
   },
   {
    "duration": 21,
    "start_time": "2022-10-01T13:03:38.808Z"
   },
   {
    "duration": 5,
    "start_time": "2022-10-01T13:03:38.830Z"
   },
   {
    "duration": 17,
    "start_time": "2022-10-01T13:03:38.837Z"
   },
   {
    "duration": 15,
    "start_time": "2022-10-01T13:03:38.856Z"
   },
   {
    "duration": 24,
    "start_time": "2022-10-01T13:03:38.873Z"
   },
   {
    "duration": 21,
    "start_time": "2022-10-01T13:03:38.901Z"
   },
   {
    "duration": 1040,
    "start_time": "2022-10-01T13:03:38.924Z"
   },
   {
    "duration": 13,
    "start_time": "2022-10-01T13:03:39.966Z"
   },
   {
    "duration": 17,
    "start_time": "2022-10-01T13:03:39.995Z"
   },
   {
    "duration": 13,
    "start_time": "2022-10-01T13:03:40.014Z"
   },
   {
    "duration": 273,
    "start_time": "2022-10-01T13:03:40.029Z"
   },
   {
    "duration": 14,
    "start_time": "2022-10-01T13:03:40.312Z"
   },
   {
    "duration": 3,
    "start_time": "2022-10-01T13:03:40.328Z"
   },
   {
    "duration": 7,
    "start_time": "2022-10-01T13:04:06.061Z"
   },
   {
    "duration": 492,
    "start_time": "2022-10-01T13:04:12.348Z"
   },
   {
    "duration": 32,
    "start_time": "2022-10-01T13:04:12.842Z"
   },
   {
    "duration": 37,
    "start_time": "2022-10-01T13:04:12.876Z"
   },
   {
    "duration": 10,
    "start_time": "2022-10-01T13:04:12.915Z"
   },
   {
    "duration": 16,
    "start_time": "2022-10-01T13:04:12.928Z"
   },
   {
    "duration": 71,
    "start_time": "2022-10-01T13:04:12.946Z"
   },
   {
    "duration": 4,
    "start_time": "2022-10-01T13:04:13.018Z"
   },
   {
    "duration": 16,
    "start_time": "2022-10-01T13:04:13.024Z"
   },
   {
    "duration": 6,
    "start_time": "2022-10-01T13:04:13.042Z"
   },
   {
    "duration": 7,
    "start_time": "2022-10-01T13:04:13.050Z"
   },
   {
    "duration": 5,
    "start_time": "2022-10-01T13:04:13.058Z"
   },
   {
    "duration": 67,
    "start_time": "2022-10-01T13:04:13.064Z"
   },
   {
    "duration": 10,
    "start_time": "2022-10-01T13:04:13.132Z"
   },
   {
    "duration": 4,
    "start_time": "2022-10-01T13:04:13.145Z"
   },
   {
    "duration": 13,
    "start_time": "2022-10-01T13:04:13.150Z"
   },
   {
    "duration": 43,
    "start_time": "2022-10-01T13:04:13.164Z"
   },
   {
    "duration": 19,
    "start_time": "2022-10-01T13:04:13.208Z"
   },
   {
    "duration": 4,
    "start_time": "2022-10-01T13:04:13.228Z"
   },
   {
    "duration": 21,
    "start_time": "2022-10-01T13:04:13.234Z"
   },
   {
    "duration": 8,
    "start_time": "2022-10-01T13:04:13.257Z"
   },
   {
    "duration": 4,
    "start_time": "2022-10-01T13:04:13.267Z"
   },
   {
    "duration": 17,
    "start_time": "2022-10-01T13:04:13.295Z"
   },
   {
    "duration": 1057,
    "start_time": "2022-10-01T13:04:13.314Z"
   },
   {
    "duration": 25,
    "start_time": "2022-10-01T13:04:14.373Z"
   },
   {
    "duration": 10,
    "start_time": "2022-10-01T13:04:14.400Z"
   },
   {
    "duration": 12,
    "start_time": "2022-10-01T13:04:14.412Z"
   },
   {
    "duration": 252,
    "start_time": "2022-10-01T13:04:14.426Z"
   },
   {
    "duration": 19,
    "start_time": "2022-10-01T13:04:14.695Z"
   },
   {
    "duration": 4,
    "start_time": "2022-10-01T13:04:14.716Z"
   },
   {
    "duration": 9,
    "start_time": "2022-10-01T13:04:52.023Z"
   },
   {
    "duration": 117,
    "start_time": "2022-10-01T13:06:51.496Z"
   },
   {
    "duration": 20,
    "start_time": "2022-10-01T13:06:57.284Z"
   },
   {
    "duration": 484,
    "start_time": "2022-10-01T13:07:08.343Z"
   },
   {
    "duration": 29,
    "start_time": "2022-10-01T13:07:08.829Z"
   },
   {
    "duration": 44,
    "start_time": "2022-10-01T13:07:08.860Z"
   },
   {
    "duration": 74,
    "start_time": "2022-10-01T13:07:08.908Z"
   },
   {
    "duration": 0,
    "start_time": "2022-10-01T13:07:08.984Z"
   },
   {
    "duration": 0,
    "start_time": "2022-10-01T13:07:08.987Z"
   },
   {
    "duration": 0,
    "start_time": "2022-10-01T13:07:08.988Z"
   },
   {
    "duration": 0,
    "start_time": "2022-10-01T13:07:08.989Z"
   },
   {
    "duration": 0,
    "start_time": "2022-10-01T13:07:09.000Z"
   },
   {
    "duration": 0,
    "start_time": "2022-10-01T13:07:09.000Z"
   },
   {
    "duration": 0,
    "start_time": "2022-10-01T13:07:09.001Z"
   },
   {
    "duration": 0,
    "start_time": "2022-10-01T13:07:09.002Z"
   },
   {
    "duration": 0,
    "start_time": "2022-10-01T13:07:09.003Z"
   },
   {
    "duration": 0,
    "start_time": "2022-10-01T13:07:09.004Z"
   },
   {
    "duration": 0,
    "start_time": "2022-10-01T13:07:09.005Z"
   },
   {
    "duration": 0,
    "start_time": "2022-10-01T13:07:09.006Z"
   },
   {
    "duration": 0,
    "start_time": "2022-10-01T13:07:09.006Z"
   },
   {
    "duration": 0,
    "start_time": "2022-10-01T13:07:09.008Z"
   },
   {
    "duration": 0,
    "start_time": "2022-10-01T13:07:09.009Z"
   },
   {
    "duration": 0,
    "start_time": "2022-10-01T13:07:09.010Z"
   },
   {
    "duration": 0,
    "start_time": "2022-10-01T13:07:09.011Z"
   },
   {
    "duration": 0,
    "start_time": "2022-10-01T13:07:09.012Z"
   },
   {
    "duration": 0,
    "start_time": "2022-10-01T13:07:09.013Z"
   },
   {
    "duration": 0,
    "start_time": "2022-10-01T13:07:09.015Z"
   },
   {
    "duration": 0,
    "start_time": "2022-10-01T13:07:09.016Z"
   },
   {
    "duration": 0,
    "start_time": "2022-10-01T13:07:09.017Z"
   },
   {
    "duration": 0,
    "start_time": "2022-10-01T13:07:09.018Z"
   },
   {
    "duration": 0,
    "start_time": "2022-10-01T13:07:09.019Z"
   },
   {
    "duration": 0,
    "start_time": "2022-10-01T13:07:09.020Z"
   },
   {
    "duration": 19,
    "start_time": "2022-10-01T13:07:38.802Z"
   },
   {
    "duration": 20,
    "start_time": "2022-10-01T13:07:48.394Z"
   },
   {
    "duration": 12,
    "start_time": "2022-10-01T13:13:05.986Z"
   },
   {
    "duration": 1322,
    "start_time": "2022-10-01T13:13:17.006Z"
   },
   {
    "duration": 17,
    "start_time": "2022-10-01T13:14:02.086Z"
   },
   {
    "duration": 9,
    "start_time": "2022-10-01T13:14:16.055Z"
   },
   {
    "duration": 524,
    "start_time": "2022-10-01T13:14:24.091Z"
   },
   {
    "duration": 23,
    "start_time": "2022-10-01T13:14:24.618Z"
   },
   {
    "duration": 15,
    "start_time": "2022-10-01T13:14:24.642Z"
   },
   {
    "duration": 45,
    "start_time": "2022-10-01T13:14:24.659Z"
   },
   {
    "duration": 11,
    "start_time": "2022-10-01T13:14:24.708Z"
   },
   {
    "duration": 35,
    "start_time": "2022-10-01T13:14:24.721Z"
   },
   {
    "duration": 3,
    "start_time": "2022-10-01T13:14:24.758Z"
   },
   {
    "duration": 11,
    "start_time": "2022-10-01T13:14:24.763Z"
   },
   {
    "duration": 11,
    "start_time": "2022-10-01T13:14:24.798Z"
   },
   {
    "duration": 18,
    "start_time": "2022-10-01T13:14:24.812Z"
   },
   {
    "duration": 25,
    "start_time": "2022-10-01T13:14:24.832Z"
   },
   {
    "duration": 52,
    "start_time": "2022-10-01T13:14:24.859Z"
   },
   {
    "duration": 16,
    "start_time": "2022-10-01T13:14:24.913Z"
   },
   {
    "duration": 9,
    "start_time": "2022-10-01T13:14:24.931Z"
   },
   {
    "duration": 12,
    "start_time": "2022-10-01T13:14:24.942Z"
   },
   {
    "duration": 22,
    "start_time": "2022-10-01T13:14:24.956Z"
   },
   {
    "duration": 37,
    "start_time": "2022-10-01T13:14:24.980Z"
   },
   {
    "duration": 3,
    "start_time": "2022-10-01T13:14:25.019Z"
   },
   {
    "duration": 14,
    "start_time": "2022-10-01T13:14:25.024Z"
   },
   {
    "duration": 13,
    "start_time": "2022-10-01T13:14:25.040Z"
   },
   {
    "duration": 3,
    "start_time": "2022-10-01T13:14:25.055Z"
   },
   {
    "duration": 18,
    "start_time": "2022-10-01T13:14:25.060Z"
   },
   {
    "duration": 1086,
    "start_time": "2022-10-01T13:14:25.080Z"
   },
   {
    "duration": 34,
    "start_time": "2022-10-01T13:14:26.168Z"
   },
   {
    "duration": 11,
    "start_time": "2022-10-01T13:14:26.208Z"
   },
   {
    "duration": 11,
    "start_time": "2022-10-01T13:14:26.220Z"
   },
   {
    "duration": 323,
    "start_time": "2022-10-01T13:14:26.232Z"
   },
   {
    "duration": 16,
    "start_time": "2022-10-01T13:14:26.558Z"
   },
   {
    "duration": 26,
    "start_time": "2022-10-01T13:14:26.594Z"
   },
   {
    "duration": 16,
    "start_time": "2022-10-01T13:14:40.638Z"
   },
   {
    "duration": 127,
    "start_time": "2022-10-01T13:14:54.208Z"
   },
   {
    "duration": 27,
    "start_time": "2022-10-01T13:14:57.991Z"
   },
   {
    "duration": 20,
    "start_time": "2022-10-01T13:15:06.777Z"
   },
   {
    "duration": 499,
    "start_time": "2022-10-01T13:15:19.309Z"
   },
   {
    "duration": 24,
    "start_time": "2022-10-01T13:15:19.810Z"
   },
   {
    "duration": 16,
    "start_time": "2022-10-01T13:15:19.836Z"
   },
   {
    "duration": 13,
    "start_time": "2022-10-01T13:15:19.854Z"
   },
   {
    "duration": 34,
    "start_time": "2022-10-01T13:15:19.869Z"
   },
   {
    "duration": 50,
    "start_time": "2022-10-01T13:15:19.905Z"
   },
   {
    "duration": 4,
    "start_time": "2022-10-01T13:15:19.957Z"
   },
   {
    "duration": 13,
    "start_time": "2022-10-01T13:15:19.962Z"
   },
   {
    "duration": 24,
    "start_time": "2022-10-01T13:15:19.977Z"
   },
   {
    "duration": 8,
    "start_time": "2022-10-01T13:15:20.010Z"
   },
   {
    "duration": 16,
    "start_time": "2022-10-01T13:15:20.020Z"
   },
   {
    "duration": 46,
    "start_time": "2022-10-01T13:15:20.038Z"
   },
   {
    "duration": 15,
    "start_time": "2022-10-01T13:15:20.085Z"
   },
   {
    "duration": 12,
    "start_time": "2022-10-01T13:15:20.109Z"
   },
   {
    "duration": 17,
    "start_time": "2022-10-01T13:15:20.123Z"
   },
   {
    "duration": 22,
    "start_time": "2022-10-01T13:15:20.142Z"
   },
   {
    "duration": 23,
    "start_time": "2022-10-01T13:15:20.166Z"
   },
   {
    "duration": 5,
    "start_time": "2022-10-01T13:15:20.191Z"
   },
   {
    "duration": 29,
    "start_time": "2022-10-01T13:15:20.203Z"
   },
   {
    "duration": 9,
    "start_time": "2022-10-01T13:15:20.234Z"
   },
   {
    "duration": 5,
    "start_time": "2022-10-01T13:15:20.245Z"
   },
   {
    "duration": 21,
    "start_time": "2022-10-01T13:15:20.252Z"
   },
   {
    "duration": 1105,
    "start_time": "2022-10-01T13:15:20.275Z"
   },
   {
    "duration": 30,
    "start_time": "2022-10-01T13:15:21.382Z"
   },
   {
    "duration": 11,
    "start_time": "2022-10-01T13:15:21.414Z"
   },
   {
    "duration": 11,
    "start_time": "2022-10-01T13:15:21.427Z"
   },
   {
    "duration": 323,
    "start_time": "2022-10-01T13:15:21.440Z"
   },
   {
    "duration": 29,
    "start_time": "2022-10-01T13:15:21.766Z"
   },
   {
    "duration": 7,
    "start_time": "2022-10-01T13:15:21.797Z"
   },
   {
    "duration": 480,
    "start_time": "2022-10-01T13:16:31.844Z"
   },
   {
    "duration": 24,
    "start_time": "2022-10-01T13:16:32.326Z"
   },
   {
    "duration": 16,
    "start_time": "2022-10-01T13:16:32.352Z"
   },
   {
    "duration": 37,
    "start_time": "2022-10-01T13:16:32.370Z"
   },
   {
    "duration": 11,
    "start_time": "2022-10-01T13:16:32.409Z"
   },
   {
    "duration": 41,
    "start_time": "2022-10-01T13:16:32.422Z"
   },
   {
    "duration": 4,
    "start_time": "2022-10-01T13:16:32.465Z"
   },
   {
    "duration": 19,
    "start_time": "2022-10-01T13:16:32.470Z"
   },
   {
    "duration": 8,
    "start_time": "2022-10-01T13:16:32.499Z"
   },
   {
    "duration": 15,
    "start_time": "2022-10-01T13:16:32.510Z"
   },
   {
    "duration": 5,
    "start_time": "2022-10-01T13:16:32.527Z"
   },
   {
    "duration": 40,
    "start_time": "2022-10-01T13:16:32.534Z"
   },
   {
    "duration": 22,
    "start_time": "2022-10-01T13:16:32.576Z"
   },
   {
    "duration": 8,
    "start_time": "2022-10-01T13:16:32.600Z"
   },
   {
    "duration": 22,
    "start_time": "2022-10-01T13:16:32.609Z"
   },
   {
    "duration": 23,
    "start_time": "2022-10-01T13:16:32.633Z"
   },
   {
    "duration": 37,
    "start_time": "2022-10-01T13:16:32.658Z"
   },
   {
    "duration": 10,
    "start_time": "2022-10-01T13:16:32.697Z"
   },
   {
    "duration": 18,
    "start_time": "2022-10-01T13:16:32.710Z"
   },
   {
    "duration": 9,
    "start_time": "2022-10-01T13:16:32.730Z"
   },
   {
    "duration": 7,
    "start_time": "2022-10-01T13:16:32.741Z"
   },
   {
    "duration": 12,
    "start_time": "2022-10-01T13:16:32.750Z"
   },
   {
    "duration": 1113,
    "start_time": "2022-10-01T13:16:32.764Z"
   },
   {
    "duration": 26,
    "start_time": "2022-10-01T13:16:33.879Z"
   },
   {
    "duration": 11,
    "start_time": "2022-10-01T13:16:33.907Z"
   },
   {
    "duration": 8,
    "start_time": "2022-10-01T13:16:33.920Z"
   },
   {
    "duration": 300,
    "start_time": "2022-10-01T13:16:33.930Z"
   },
   {
    "duration": 15,
    "start_time": "2022-10-01T13:16:34.233Z"
   },
   {
    "duration": 3,
    "start_time": "2022-10-01T13:16:34.250Z"
   },
   {
    "duration": 488,
    "start_time": "2022-10-01T13:17:27.604Z"
   },
   {
    "duration": 30,
    "start_time": "2022-10-01T13:17:28.095Z"
   },
   {
    "duration": 19,
    "start_time": "2022-10-01T13:17:28.127Z"
   },
   {
    "duration": 11,
    "start_time": "2022-10-01T13:17:28.147Z"
   },
   {
    "duration": 35,
    "start_time": "2022-10-01T13:17:28.161Z"
   },
   {
    "duration": 41,
    "start_time": "2022-10-01T13:17:28.201Z"
   },
   {
    "duration": 4,
    "start_time": "2022-10-01T13:17:28.244Z"
   },
   {
    "duration": 13,
    "start_time": "2022-10-01T13:17:28.249Z"
   },
   {
    "duration": 6,
    "start_time": "2022-10-01T13:17:28.264Z"
   },
   {
    "duration": 33,
    "start_time": "2022-10-01T13:17:28.271Z"
   },
   {
    "duration": 5,
    "start_time": "2022-10-01T13:17:28.306Z"
   },
   {
    "duration": 50,
    "start_time": "2022-10-01T13:17:28.313Z"
   },
   {
    "duration": 11,
    "start_time": "2022-10-01T13:17:28.364Z"
   },
   {
    "duration": 10,
    "start_time": "2022-10-01T13:17:28.400Z"
   },
   {
    "duration": 16,
    "start_time": "2022-10-01T13:17:28.412Z"
   },
   {
    "duration": 25,
    "start_time": "2022-10-01T13:17:28.430Z"
   },
   {
    "duration": 18,
    "start_time": "2022-10-01T13:17:28.457Z"
   },
   {
    "duration": 3,
    "start_time": "2022-10-01T13:17:28.477Z"
   },
   {
    "duration": 15,
    "start_time": "2022-10-01T13:17:28.498Z"
   },
   {
    "duration": 8,
    "start_time": "2022-10-01T13:17:28.515Z"
   },
   {
    "duration": 7,
    "start_time": "2022-10-01T13:17:28.524Z"
   },
   {
    "duration": 10,
    "start_time": "2022-10-01T13:17:28.533Z"
   },
   {
    "duration": 1123,
    "start_time": "2022-10-01T13:17:28.545Z"
   },
   {
    "duration": 29,
    "start_time": "2022-10-01T13:17:29.669Z"
   },
   {
    "duration": 15,
    "start_time": "2022-10-01T13:17:29.699Z"
   },
   {
    "duration": 14,
    "start_time": "2022-10-01T13:17:29.716Z"
   },
   {
    "duration": 283,
    "start_time": "2022-10-01T13:17:29.732Z"
   },
   {
    "duration": 17,
    "start_time": "2022-10-01T13:17:30.018Z"
   },
   {
    "duration": 10,
    "start_time": "2022-10-01T13:17:30.037Z"
   },
   {
    "duration": 81,
    "start_time": "2022-10-01T13:22:28.755Z"
   },
   {
    "duration": 88,
    "start_time": "2022-10-01T13:22:34.480Z"
   },
   {
    "duration": 80,
    "start_time": "2022-10-01T13:22:37.842Z"
   },
   {
    "duration": 87,
    "start_time": "2022-10-01T13:22:41.356Z"
   },
   {
    "duration": 121,
    "start_time": "2022-10-01T13:43:05.964Z"
   },
   {
    "duration": 18,
    "start_time": "2022-10-01T13:43:40.084Z"
   },
   {
    "duration": 481,
    "start_time": "2022-10-01T13:43:54.848Z"
   },
   {
    "duration": 26,
    "start_time": "2022-10-01T13:43:55.331Z"
   },
   {
    "duration": 16,
    "start_time": "2022-10-01T13:43:55.359Z"
   },
   {
    "duration": 32,
    "start_time": "2022-10-01T13:43:55.377Z"
   },
   {
    "duration": 21,
    "start_time": "2022-10-01T13:43:55.415Z"
   },
   {
    "duration": 37,
    "start_time": "2022-10-01T13:43:55.438Z"
   },
   {
    "duration": 4,
    "start_time": "2022-10-01T13:43:55.477Z"
   },
   {
    "duration": 24,
    "start_time": "2022-10-01T13:43:55.483Z"
   },
   {
    "duration": 9,
    "start_time": "2022-10-01T13:43:55.518Z"
   },
   {
    "duration": 9,
    "start_time": "2022-10-01T13:43:55.530Z"
   },
   {
    "duration": 6,
    "start_time": "2022-10-01T13:43:55.541Z"
   },
   {
    "duration": 61,
    "start_time": "2022-10-01T13:43:55.549Z"
   },
   {
    "duration": 13,
    "start_time": "2022-10-01T13:43:55.616Z"
   },
   {
    "duration": 4,
    "start_time": "2022-10-01T13:43:55.631Z"
   },
   {
    "duration": 14,
    "start_time": "2022-10-01T13:43:55.637Z"
   },
   {
    "duration": 22,
    "start_time": "2022-10-01T13:43:55.653Z"
   },
   {
    "duration": 29,
    "start_time": "2022-10-01T13:43:55.677Z"
   },
   {
    "duration": 4,
    "start_time": "2022-10-01T13:43:55.716Z"
   },
   {
    "duration": 18,
    "start_time": "2022-10-01T13:43:55.722Z"
   },
   {
    "duration": 8,
    "start_time": "2022-10-01T13:43:55.742Z"
   },
   {
    "duration": 4,
    "start_time": "2022-10-01T13:43:55.753Z"
   },
   {
    "duration": 16,
    "start_time": "2022-10-01T13:43:55.759Z"
   },
   {
    "duration": 1158,
    "start_time": "2022-10-01T13:43:55.777Z"
   },
   {
    "duration": 20,
    "start_time": "2022-10-01T13:43:56.937Z"
   },
   {
    "duration": 29,
    "start_time": "2022-10-01T13:43:56.959Z"
   },
   {
    "duration": 67,
    "start_time": "2022-10-01T13:43:56.989Z"
   },
   {
    "duration": 307,
    "start_time": "2022-10-01T13:43:57.058Z"
   },
   {
    "duration": 29,
    "start_time": "2022-10-01T13:43:57.368Z"
   },
   {
    "duration": 3,
    "start_time": "2022-10-01T13:43:57.399Z"
   },
   {
    "duration": 33,
    "start_time": "2022-10-01T13:43:57.406Z"
   },
   {
    "duration": 3,
    "start_time": "2022-10-01T13:44:46.063Z"
   },
   {
    "duration": 124,
    "start_time": "2022-10-01T13:44:49.527Z"
   },
   {
    "duration": 18,
    "start_time": "2022-10-01T13:45:30.597Z"
   },
   {
    "duration": 8,
    "start_time": "2022-10-01T13:45:59.183Z"
   },
   {
    "duration": 16,
    "start_time": "2022-10-01T13:47:43.239Z"
   },
   {
    "duration": 10,
    "start_time": "2022-10-01T13:48:00.283Z"
   },
   {
    "duration": 28,
    "start_time": "2022-10-01T13:48:23.439Z"
   },
   {
    "duration": 14,
    "start_time": "2022-10-01T13:48:45.842Z"
   },
   {
    "duration": 548,
    "start_time": "2022-10-01T13:48:52.280Z"
   },
   {
    "duration": 31,
    "start_time": "2022-10-01T13:48:52.831Z"
   },
   {
    "duration": 20,
    "start_time": "2022-10-01T13:48:52.864Z"
   },
   {
    "duration": 13,
    "start_time": "2022-10-01T13:48:52.894Z"
   },
   {
    "duration": 21,
    "start_time": "2022-10-01T13:48:52.910Z"
   },
   {
    "duration": 67,
    "start_time": "2022-10-01T13:48:52.933Z"
   },
   {
    "duration": 3,
    "start_time": "2022-10-01T13:48:53.006Z"
   },
   {
    "duration": 16,
    "start_time": "2022-10-01T13:48:53.012Z"
   },
   {
    "duration": 7,
    "start_time": "2022-10-01T13:48:53.030Z"
   },
   {
    "duration": 7,
    "start_time": "2022-10-01T13:48:53.040Z"
   },
   {
    "duration": 6,
    "start_time": "2022-10-01T13:48:53.049Z"
   },
   {
    "duration": 69,
    "start_time": "2022-10-01T13:48:53.057Z"
   },
   {
    "duration": 15,
    "start_time": "2022-10-01T13:48:53.128Z"
   },
   {
    "duration": 5,
    "start_time": "2022-10-01T13:48:53.145Z"
   },
   {
    "duration": 24,
    "start_time": "2022-10-01T13:48:53.152Z"
   },
   {
    "duration": 67,
    "start_time": "2022-10-01T13:48:53.178Z"
   },
   {
    "duration": 20,
    "start_time": "2022-10-01T13:48:53.246Z"
   },
   {
    "duration": 4,
    "start_time": "2022-10-01T13:48:53.268Z"
   },
   {
    "duration": 31,
    "start_time": "2022-10-01T13:48:53.275Z"
   },
   {
    "duration": 19,
    "start_time": "2022-10-01T13:48:53.308Z"
   },
   {
    "duration": 7,
    "start_time": "2022-10-01T13:48:53.329Z"
   },
   {
    "duration": 24,
    "start_time": "2022-10-01T13:48:53.338Z"
   },
   {
    "duration": 1094,
    "start_time": "2022-10-01T13:48:53.364Z"
   },
   {
    "duration": 19,
    "start_time": "2022-10-01T13:48:54.460Z"
   },
   {
    "duration": 18,
    "start_time": "2022-10-01T13:48:54.495Z"
   },
   {
    "duration": 22,
    "start_time": "2022-10-01T13:48:54.514Z"
   },
   {
    "duration": 291,
    "start_time": "2022-10-01T13:48:54.538Z"
   },
   {
    "duration": 19,
    "start_time": "2022-10-01T13:48:54.832Z"
   },
   {
    "duration": 3,
    "start_time": "2022-10-01T13:48:54.853Z"
   },
   {
    "duration": 10,
    "start_time": "2022-10-01T13:49:00.122Z"
   },
   {
    "duration": 125,
    "start_time": "2022-10-01T13:49:02.689Z"
   },
   {
    "duration": 529,
    "start_time": "2022-10-01T13:50:04.679Z"
   },
   {
    "duration": 25,
    "start_time": "2022-10-01T13:50:05.213Z"
   },
   {
    "duration": 17,
    "start_time": "2022-10-01T13:50:05.239Z"
   },
   {
    "duration": 10,
    "start_time": "2022-10-01T13:50:05.258Z"
   },
   {
    "duration": 9,
    "start_time": "2022-10-01T13:50:05.270Z"
   },
   {
    "duration": 54,
    "start_time": "2022-10-01T13:50:05.281Z"
   },
   {
    "duration": 4,
    "start_time": "2022-10-01T13:50:05.337Z"
   },
   {
    "duration": 12,
    "start_time": "2022-10-01T13:50:05.343Z"
   },
   {
    "duration": 7,
    "start_time": "2022-10-01T13:50:05.357Z"
   },
   {
    "duration": 30,
    "start_time": "2022-10-01T13:50:05.367Z"
   },
   {
    "duration": 16,
    "start_time": "2022-10-01T13:50:05.399Z"
   },
   {
    "duration": 48,
    "start_time": "2022-10-01T13:50:05.417Z"
   },
   {
    "duration": 10,
    "start_time": "2022-10-01T13:50:05.467Z"
   },
   {
    "duration": 20,
    "start_time": "2022-10-01T13:50:05.479Z"
   },
   {
    "duration": 18,
    "start_time": "2022-10-01T13:50:05.501Z"
   },
   {
    "duration": 27,
    "start_time": "2022-10-01T13:50:05.521Z"
   },
   {
    "duration": 50,
    "start_time": "2022-10-01T13:50:05.549Z"
   },
   {
    "duration": 6,
    "start_time": "2022-10-01T13:50:05.600Z"
   },
   {
    "duration": 14,
    "start_time": "2022-10-01T13:50:05.608Z"
   },
   {
    "duration": 13,
    "start_time": "2022-10-01T13:50:05.624Z"
   },
   {
    "duration": 5,
    "start_time": "2022-10-01T13:50:05.639Z"
   },
   {
    "duration": 11,
    "start_time": "2022-10-01T13:50:05.646Z"
   },
   {
    "duration": 1142,
    "start_time": "2022-10-01T13:50:05.659Z"
   },
   {
    "duration": 33,
    "start_time": "2022-10-01T13:50:06.802Z"
   },
   {
    "duration": 38,
    "start_time": "2022-10-01T13:50:06.838Z"
   },
   {
    "duration": 68,
    "start_time": "2022-10-01T13:50:06.878Z"
   },
   {
    "duration": 333,
    "start_time": "2022-10-01T13:50:06.948Z"
   },
   {
    "duration": 22,
    "start_time": "2022-10-01T13:50:07.284Z"
   },
   {
    "duration": 6,
    "start_time": "2022-10-01T13:50:07.318Z"
   },
   {
    "duration": 497,
    "start_time": "2022-10-01T13:50:56.920Z"
   },
   {
    "duration": 27,
    "start_time": "2022-10-01T13:51:00.704Z"
   },
   {
    "duration": 15,
    "start_time": "2022-10-01T13:51:02.576Z"
   },
   {
    "duration": 12,
    "start_time": "2022-10-01T13:51:06.940Z"
   },
   {
    "duration": 4,
    "start_time": "2022-10-01T13:51:17.632Z"
   },
   {
    "duration": 16,
    "start_time": "2022-10-01T13:51:19.382Z"
   },
   {
    "duration": 76,
    "start_time": "2022-10-01T13:51:50.178Z"
   },
   {
    "duration": 59,
    "start_time": "2022-10-01T13:53:07.510Z"
   },
   {
    "duration": 462,
    "start_time": "2022-10-01T13:53:22.160Z"
   },
   {
    "duration": 31,
    "start_time": "2022-10-01T13:53:23.180Z"
   },
   {
    "duration": 85,
    "start_time": "2022-10-01T13:53:29.284Z"
   },
   {
    "duration": 481,
    "start_time": "2022-10-01T13:53:57.744Z"
   },
   {
    "duration": 25,
    "start_time": "2022-10-01T13:53:58.227Z"
   },
   {
    "duration": 19,
    "start_time": "2022-10-01T13:53:58.254Z"
   },
   {
    "duration": 38,
    "start_time": "2022-10-01T13:53:58.275Z"
   },
   {
    "duration": 13,
    "start_time": "2022-10-01T13:53:58.315Z"
   },
   {
    "duration": 38,
    "start_time": "2022-10-01T13:53:58.330Z"
   },
   {
    "duration": 4,
    "start_time": "2022-10-01T13:53:58.370Z"
   },
   {
    "duration": 29,
    "start_time": "2022-10-01T13:53:58.375Z"
   },
   {
    "duration": 7,
    "start_time": "2022-10-01T13:53:58.410Z"
   },
   {
    "duration": 9,
    "start_time": "2022-10-01T13:53:58.420Z"
   },
   {
    "duration": 10,
    "start_time": "2022-10-01T13:53:58.431Z"
   },
   {
    "duration": 68,
    "start_time": "2022-10-01T13:53:58.443Z"
   },
   {
    "duration": 11,
    "start_time": "2022-10-01T13:53:58.513Z"
   },
   {
    "duration": 12,
    "start_time": "2022-10-01T13:53:58.525Z"
   },
   {
    "duration": 20,
    "start_time": "2022-10-01T13:53:58.538Z"
   },
   {
    "duration": 25,
    "start_time": "2022-10-01T13:53:58.560Z"
   },
   {
    "duration": 26,
    "start_time": "2022-10-01T13:53:58.587Z"
   },
   {
    "duration": 6,
    "start_time": "2022-10-01T13:53:58.616Z"
   },
   {
    "duration": 15,
    "start_time": "2022-10-01T13:53:58.624Z"
   },
   {
    "duration": 14,
    "start_time": "2022-10-01T13:53:58.641Z"
   },
   {
    "duration": 6,
    "start_time": "2022-10-01T13:53:58.657Z"
   },
   {
    "duration": 16,
    "start_time": "2022-10-01T13:53:58.665Z"
   },
   {
    "duration": 1099,
    "start_time": "2022-10-01T13:53:58.696Z"
   },
   {
    "duration": 18,
    "start_time": "2022-10-01T13:53:59.797Z"
   },
   {
    "duration": 22,
    "start_time": "2022-10-01T13:53:59.820Z"
   },
   {
    "duration": 16,
    "start_time": "2022-10-01T13:53:59.845Z"
   },
   {
    "duration": 309,
    "start_time": "2022-10-01T13:53:59.863Z"
   },
   {
    "duration": 31,
    "start_time": "2022-10-01T13:54:00.175Z"
   },
   {
    "duration": 9,
    "start_time": "2022-10-01T13:54:00.208Z"
   },
   {
    "duration": 555,
    "start_time": "2022-10-01T13:55:18.830Z"
   },
   {
    "duration": 4,
    "start_time": "2022-10-01T13:55:34.458Z"
   },
   {
    "duration": 65,
    "start_time": "2022-10-01T13:56:12.014Z"
   },
   {
    "duration": 16,
    "start_time": "2022-10-01T13:56:45.995Z"
   },
   {
    "duration": 4,
    "start_time": "2022-10-01T13:57:00.815Z"
   },
   {
    "duration": 12,
    "start_time": "2022-10-01T13:57:01.891Z"
   },
   {
    "duration": 15,
    "start_time": "2022-10-01T13:57:25.154Z"
   },
   {
    "duration": 522,
    "start_time": "2022-10-01T13:57:28.687Z"
   },
   {
    "duration": 25,
    "start_time": "2022-10-01T13:57:29.211Z"
   },
   {
    "duration": 15,
    "start_time": "2022-10-01T13:57:29.238Z"
   },
   {
    "duration": 11,
    "start_time": "2022-10-01T13:57:29.255Z"
   },
   {
    "duration": 13,
    "start_time": "2022-10-01T13:57:29.299Z"
   },
   {
    "duration": 38,
    "start_time": "2022-10-01T13:57:29.313Z"
   },
   {
    "duration": 4,
    "start_time": "2022-10-01T13:57:29.352Z"
   },
   {
    "duration": 13,
    "start_time": "2022-10-01T13:57:29.358Z"
   },
   {
    "duration": 27,
    "start_time": "2022-10-01T13:57:29.373Z"
   },
   {
    "duration": 17,
    "start_time": "2022-10-01T13:57:29.403Z"
   },
   {
    "duration": 8,
    "start_time": "2022-10-01T13:57:29.422Z"
   },
   {
    "duration": 42,
    "start_time": "2022-10-01T13:57:29.432Z"
   },
   {
    "duration": 36,
    "start_time": "2022-10-01T13:57:29.476Z"
   },
   {
    "duration": 4,
    "start_time": "2022-10-01T13:57:29.514Z"
   },
   {
    "duration": 14,
    "start_time": "2022-10-01T13:57:29.521Z"
   },
   {
    "duration": 25,
    "start_time": "2022-10-01T13:57:29.537Z"
   },
   {
    "duration": 41,
    "start_time": "2022-10-01T13:57:29.564Z"
   },
   {
    "duration": 5,
    "start_time": "2022-10-01T13:57:29.611Z"
   },
   {
    "duration": 18,
    "start_time": "2022-10-01T13:57:29.617Z"
   },
   {
    "duration": 17,
    "start_time": "2022-10-01T13:57:29.637Z"
   },
   {
    "duration": 5,
    "start_time": "2022-10-01T13:57:29.656Z"
   },
   {
    "duration": 14,
    "start_time": "2022-10-01T13:57:29.663Z"
   },
   {
    "duration": 1107,
    "start_time": "2022-10-01T13:57:29.679Z"
   },
   {
    "duration": 20,
    "start_time": "2022-10-01T13:57:30.795Z"
   },
   {
    "duration": 22,
    "start_time": "2022-10-01T13:57:30.817Z"
   },
   {
    "duration": 28,
    "start_time": "2022-10-01T13:57:30.841Z"
   },
   {
    "duration": 298,
    "start_time": "2022-10-01T13:57:30.871Z"
   },
   {
    "duration": 37,
    "start_time": "2022-10-01T13:57:31.172Z"
   },
   {
    "duration": 4,
    "start_time": "2022-10-01T13:57:31.212Z"
   },
   {
    "duration": 548,
    "start_time": "2022-10-01T13:58:04.881Z"
   },
   {
    "duration": 22,
    "start_time": "2022-10-01T13:58:13.981Z"
   },
   {
    "duration": 4,
    "start_time": "2022-10-01T13:58:24.981Z"
   },
   {
    "duration": 14,
    "start_time": "2022-10-01T13:58:26.385Z"
   },
   {
    "duration": 73,
    "start_time": "2022-10-01T13:58:32.606Z"
   },
   {
    "duration": 502,
    "start_time": "2022-10-01T14:50:05.650Z"
   },
   {
    "duration": 24,
    "start_time": "2022-10-01T14:50:06.154Z"
   },
   {
    "duration": 31,
    "start_time": "2022-10-01T14:50:06.180Z"
   },
   {
    "duration": 16,
    "start_time": "2022-10-01T14:50:06.213Z"
   },
   {
    "duration": 11,
    "start_time": "2022-10-01T14:50:06.232Z"
   },
   {
    "duration": 77,
    "start_time": "2022-10-01T14:50:06.245Z"
   },
   {
    "duration": 4,
    "start_time": "2022-10-01T14:50:06.324Z"
   },
   {
    "duration": 14,
    "start_time": "2022-10-01T14:50:06.330Z"
   },
   {
    "duration": 4,
    "start_time": "2022-10-01T14:50:06.346Z"
   },
   {
    "duration": 7,
    "start_time": "2022-10-01T14:50:06.353Z"
   },
   {
    "duration": 5,
    "start_time": "2022-10-01T14:50:06.361Z"
   },
   {
    "duration": 48,
    "start_time": "2022-10-01T14:50:06.402Z"
   },
   {
    "duration": 10,
    "start_time": "2022-10-01T14:50:06.452Z"
   },
   {
    "duration": 16,
    "start_time": "2022-10-01T14:50:06.467Z"
   },
   {
    "duration": 46,
    "start_time": "2022-10-01T14:50:06.486Z"
   },
   {
    "duration": 35,
    "start_time": "2022-10-01T14:50:06.534Z"
   },
   {
    "duration": 21,
    "start_time": "2022-10-01T14:50:06.571Z"
   },
   {
    "duration": 14,
    "start_time": "2022-10-01T14:50:06.594Z"
   },
   {
    "duration": 29,
    "start_time": "2022-10-01T14:50:06.611Z"
   },
   {
    "duration": 18,
    "start_time": "2022-10-01T14:50:06.642Z"
   },
   {
    "duration": 21,
    "start_time": "2022-10-01T14:50:06.662Z"
   },
   {
    "duration": 28,
    "start_time": "2022-10-01T14:50:06.685Z"
   },
   {
    "duration": 1601,
    "start_time": "2022-10-01T14:50:06.716Z"
   },
   {
    "duration": 17,
    "start_time": "2022-10-01T14:50:08.319Z"
   },
   {
    "duration": 10,
    "start_time": "2022-10-01T14:50:08.338Z"
   },
   {
    "duration": 17,
    "start_time": "2022-10-01T14:50:08.350Z"
   },
   {
    "duration": 317,
    "start_time": "2022-10-01T14:50:08.369Z"
   },
   {
    "duration": 27,
    "start_time": "2022-10-01T14:50:08.694Z"
   },
   {
    "duration": 19,
    "start_time": "2022-10-01T14:50:08.727Z"
   },
   {
    "duration": 138,
    "start_time": "2022-10-01T14:57:58.211Z"
   },
   {
    "duration": 10,
    "start_time": "2022-10-01T14:58:29.652Z"
   },
   {
    "duration": 8,
    "start_time": "2022-10-01T14:58:35.953Z"
   },
   {
    "duration": 566,
    "start_time": "2022-10-01T14:58:45.227Z"
   },
   {
    "duration": 50,
    "start_time": "2022-10-01T14:58:45.796Z"
   },
   {
    "duration": 20,
    "start_time": "2022-10-01T14:58:45.852Z"
   },
   {
    "duration": 10,
    "start_time": "2022-10-01T14:58:45.874Z"
   },
   {
    "duration": 18,
    "start_time": "2022-10-01T14:58:45.886Z"
   },
   {
    "duration": 16,
    "start_time": "2022-10-01T14:58:45.906Z"
   },
   {
    "duration": 60,
    "start_time": "2022-10-01T14:58:45.925Z"
   },
   {
    "duration": 4,
    "start_time": "2022-10-01T14:58:45.987Z"
   },
   {
    "duration": 52,
    "start_time": "2022-10-01T14:58:46.000Z"
   },
   {
    "duration": 5,
    "start_time": "2022-10-01T14:58:46.054Z"
   },
   {
    "duration": 7,
    "start_time": "2022-10-01T14:58:46.061Z"
   },
   {
    "duration": 6,
    "start_time": "2022-10-01T14:58:46.070Z"
   },
   {
    "duration": 47,
    "start_time": "2022-10-01T14:58:46.079Z"
   },
   {
    "duration": 12,
    "start_time": "2022-10-01T14:58:46.128Z"
   },
   {
    "duration": 11,
    "start_time": "2022-10-01T14:58:46.142Z"
   },
   {
    "duration": 16,
    "start_time": "2022-10-01T14:58:46.154Z"
   },
   {
    "duration": 25,
    "start_time": "2022-10-01T14:58:46.171Z"
   },
   {
    "duration": 39,
    "start_time": "2022-10-01T14:58:46.198Z"
   },
   {
    "duration": 8,
    "start_time": "2022-10-01T14:58:46.243Z"
   },
   {
    "duration": 12,
    "start_time": "2022-10-01T14:58:46.253Z"
   },
   {
    "duration": 6,
    "start_time": "2022-10-01T14:58:46.266Z"
   },
   {
    "duration": 5,
    "start_time": "2022-10-01T14:58:46.274Z"
   },
   {
    "duration": 31,
    "start_time": "2022-10-01T14:58:46.280Z"
   },
   {
    "duration": 1269,
    "start_time": "2022-10-01T14:58:46.313Z"
   },
   {
    "duration": 35,
    "start_time": "2022-10-01T14:58:47.584Z"
   },
   {
    "duration": 42,
    "start_time": "2022-10-01T14:58:47.624Z"
   },
   {
    "duration": 15,
    "start_time": "2022-10-01T14:58:47.668Z"
   },
   {
    "duration": 293,
    "start_time": "2022-10-01T14:58:47.685Z"
   },
   {
    "duration": 24,
    "start_time": "2022-10-01T14:58:47.980Z"
   },
   {
    "duration": 4,
    "start_time": "2022-10-01T14:58:48.006Z"
   },
   {
    "duration": 15,
    "start_time": "2022-10-01T14:59:21.299Z"
   },
   {
    "duration": 542,
    "start_time": "2022-10-01T14:59:34.571Z"
   },
   {
    "duration": 36,
    "start_time": "2022-10-01T14:59:35.119Z"
   },
   {
    "duration": 19,
    "start_time": "2022-10-01T14:59:35.158Z"
   },
   {
    "duration": 12,
    "start_time": "2022-10-01T14:59:35.179Z"
   },
   {
    "duration": 27,
    "start_time": "2022-10-01T14:59:35.194Z"
   },
   {
    "duration": 23,
    "start_time": "2022-10-01T14:59:35.230Z"
   },
   {
    "duration": 36,
    "start_time": "2022-10-01T14:59:35.255Z"
   },
   {
    "duration": 9,
    "start_time": "2022-10-01T14:59:35.293Z"
   },
   {
    "duration": 49,
    "start_time": "2022-10-01T14:59:35.304Z"
   },
   {
    "duration": 4,
    "start_time": "2022-10-01T14:59:35.355Z"
   },
   {
    "duration": 9,
    "start_time": "2022-10-01T14:59:35.360Z"
   },
   {
    "duration": 5,
    "start_time": "2022-10-01T14:59:35.370Z"
   },
   {
    "duration": 53,
    "start_time": "2022-10-01T14:59:35.377Z"
   },
   {
    "duration": 13,
    "start_time": "2022-10-01T14:59:35.440Z"
   },
   {
    "duration": 4,
    "start_time": "2022-10-01T14:59:35.454Z"
   },
   {
    "duration": 13,
    "start_time": "2022-10-01T14:59:35.460Z"
   },
   {
    "duration": 39,
    "start_time": "2022-10-01T14:59:35.474Z"
   },
   {
    "duration": 23,
    "start_time": "2022-10-01T14:59:35.515Z"
   },
   {
    "duration": 9,
    "start_time": "2022-10-01T14:59:35.540Z"
   },
   {
    "duration": 17,
    "start_time": "2022-10-01T14:59:35.551Z"
   },
   {
    "duration": 8,
    "start_time": "2022-10-01T14:59:35.570Z"
   },
   {
    "duration": 4,
    "start_time": "2022-10-01T14:59:35.580Z"
   },
   {
    "duration": 40,
    "start_time": "2022-10-01T14:59:35.586Z"
   },
   {
    "duration": 1142,
    "start_time": "2022-10-01T14:59:35.637Z"
   },
   {
    "duration": 28,
    "start_time": "2022-10-01T14:59:36.781Z"
   },
   {
    "duration": 30,
    "start_time": "2022-10-01T14:59:36.811Z"
   },
   {
    "duration": 35,
    "start_time": "2022-10-01T14:59:36.846Z"
   },
   {
    "duration": 355,
    "start_time": "2022-10-01T14:59:36.883Z"
   },
   {
    "duration": 18,
    "start_time": "2022-10-01T14:59:37.242Z"
   },
   {
    "duration": 4,
    "start_time": "2022-10-01T14:59:37.261Z"
   },
   {
    "duration": 12,
    "start_time": "2022-10-01T15:00:13.795Z"
   },
   {
    "duration": 541,
    "start_time": "2022-10-01T15:00:22.713Z"
   },
   {
    "duration": 23,
    "start_time": "2022-10-01T15:00:23.256Z"
   },
   {
    "duration": 33,
    "start_time": "2022-10-01T15:00:23.280Z"
   },
   {
    "duration": 34,
    "start_time": "2022-10-01T15:00:23.317Z"
   },
   {
    "duration": 8,
    "start_time": "2022-10-01T15:00:23.353Z"
   },
   {
    "duration": 11,
    "start_time": "2022-10-01T15:00:23.362Z"
   },
   {
    "duration": 49,
    "start_time": "2022-10-01T15:00:23.374Z"
   },
   {
    "duration": 3,
    "start_time": "2022-10-01T15:00:23.425Z"
   },
   {
    "duration": 27,
    "start_time": "2022-10-01T15:00:23.430Z"
   },
   {
    "duration": 5,
    "start_time": "2022-10-01T15:00:23.458Z"
   },
   {
    "duration": 7,
    "start_time": "2022-10-01T15:00:23.465Z"
   },
   {
    "duration": 4,
    "start_time": "2022-10-01T15:00:23.474Z"
   },
   {
    "duration": 61,
    "start_time": "2022-10-01T15:00:23.480Z"
   },
   {
    "duration": 10,
    "start_time": "2022-10-01T15:00:23.545Z"
   },
   {
    "duration": 4,
    "start_time": "2022-10-01T15:00:23.556Z"
   },
   {
    "duration": 14,
    "start_time": "2022-10-01T15:00:23.561Z"
   },
   {
    "duration": 54,
    "start_time": "2022-10-01T15:00:23.577Z"
   },
   {
    "duration": 34,
    "start_time": "2022-10-01T15:00:23.634Z"
   },
   {
    "duration": 5,
    "start_time": "2022-10-01T15:00:23.669Z"
   },
   {
    "duration": 16,
    "start_time": "2022-10-01T15:00:23.676Z"
   },
   {
    "duration": 52,
    "start_time": "2022-10-01T15:00:23.694Z"
   },
   {
    "duration": 8,
    "start_time": "2022-10-01T15:00:23.748Z"
   },
   {
    "duration": 12,
    "start_time": "2022-10-01T15:00:23.758Z"
   },
   {
    "duration": 1200,
    "start_time": "2022-10-01T15:00:23.772Z"
   },
   {
    "duration": 39,
    "start_time": "2022-10-01T15:00:24.974Z"
   },
   {
    "duration": 11,
    "start_time": "2022-10-01T15:00:25.015Z"
   },
   {
    "duration": 37,
    "start_time": "2022-10-01T15:00:25.028Z"
   },
   {
    "duration": 310,
    "start_time": "2022-10-01T15:00:25.068Z"
   },
   {
    "duration": 19,
    "start_time": "2022-10-01T15:00:25.379Z"
   },
   {
    "duration": 8,
    "start_time": "2022-10-01T15:00:25.405Z"
   },
   {
    "duration": 622,
    "start_time": "2022-10-01T15:06:20.698Z"
   },
   {
    "duration": 39,
    "start_time": "2022-10-01T15:06:21.322Z"
   },
   {
    "duration": 18,
    "start_time": "2022-10-01T15:06:21.363Z"
   },
   {
    "duration": 14,
    "start_time": "2022-10-01T15:06:21.384Z"
   },
   {
    "duration": 20,
    "start_time": "2022-10-01T15:06:21.402Z"
   },
   {
    "duration": 46,
    "start_time": "2022-10-01T15:06:21.424Z"
   },
   {
    "duration": 58,
    "start_time": "2022-10-01T15:06:21.471Z"
   },
   {
    "duration": 7,
    "start_time": "2022-10-01T15:06:21.531Z"
   },
   {
    "duration": 10,
    "start_time": "2022-10-01T15:06:21.540Z"
   },
   {
    "duration": 16,
    "start_time": "2022-10-01T15:06:21.554Z"
   },
   {
    "duration": 6,
    "start_time": "2022-10-01T15:06:21.572Z"
   },
   {
    "duration": 6,
    "start_time": "2022-10-01T15:06:21.580Z"
   },
   {
    "duration": 69,
    "start_time": "2022-10-01T15:06:21.588Z"
   },
   {
    "duration": 11,
    "start_time": "2022-10-01T15:06:21.660Z"
   },
   {
    "duration": 4,
    "start_time": "2022-10-01T15:06:21.673Z"
   },
   {
    "duration": 20,
    "start_time": "2022-10-01T15:06:21.679Z"
   },
   {
    "duration": 66,
    "start_time": "2022-10-01T15:06:21.701Z"
   },
   {
    "duration": 19,
    "start_time": "2022-10-01T15:06:21.769Z"
   },
   {
    "duration": 11,
    "start_time": "2022-10-01T15:06:21.790Z"
   },
   {
    "duration": 62,
    "start_time": "2022-10-01T15:06:21.805Z"
   },
   {
    "duration": 9,
    "start_time": "2022-10-01T15:06:21.869Z"
   },
   {
    "duration": 4,
    "start_time": "2022-10-01T15:06:21.880Z"
   },
   {
    "duration": 25,
    "start_time": "2022-10-01T15:06:21.886Z"
   },
   {
    "duration": 1343,
    "start_time": "2022-10-01T15:06:21.913Z"
   },
   {
    "duration": 15,
    "start_time": "2022-10-01T15:06:23.258Z"
   },
   {
    "duration": 10,
    "start_time": "2022-10-01T15:06:23.275Z"
   },
   {
    "duration": 21,
    "start_time": "2022-10-01T15:06:23.287Z"
   },
   {
    "duration": 391,
    "start_time": "2022-10-01T15:06:23.316Z"
   },
   {
    "duration": 36,
    "start_time": "2022-10-01T15:06:23.711Z"
   },
   {
    "duration": 8,
    "start_time": "2022-10-01T15:06:23.754Z"
   },
   {
    "duration": 45,
    "start_time": "2022-10-01T15:16:08.092Z"
   },
   {
    "duration": 21,
    "start_time": "2022-10-01T15:16:19.888Z"
   }
  ],
  "colab": {
   "name": "dpp_template_part2.ipynb",
   "provenance": []
  },
  "kernelspec": {
   "display_name": "Python 3 (ipykernel)",
   "language": "python",
   "name": "python3"
  },
  "language_info": {
   "codemirror_mode": {
    "name": "ipython",
    "version": 3
   },
   "file_extension": ".py",
   "mimetype": "text/x-python",
   "name": "python",
   "nbconvert_exporter": "python",
   "pygments_lexer": "ipython3",
   "version": "3.9.5"
  },
  "toc": {
   "base_numbering": 1,
   "nav_menu": {},
   "number_sections": true,
   "sideBar": true,
   "skip_h1_title": true,
   "title_cell": "Table of Contents",
   "title_sidebar": "Contents",
   "toc_cell": false,
   "toc_position": {
    "height": "calc(100% - 180px)",
    "left": "10px",
    "top": "150px",
    "width": "276.6px"
   },
   "toc_section_display": true,
   "toc_window_display": true
  }
 },
 "nbformat": 4,
 "nbformat_minor": 5
}
