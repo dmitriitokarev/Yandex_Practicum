{
 "cells": [
  {
   "cell_type": "markdown",
   "metadata": {},
   "source": [
    "# SQL-проект"
   ]
  },
  {
   "cell_type": "markdown",
   "metadata": {},
   "source": [
    "Цель исследования изучить данные только приобретенного сервиса для чтения книг, для этого будет произведено исследование , кетоторых важных метрик."
   ]
  },
  {
   "cell_type": "code",
   "execution_count": 1,
   "metadata": {},
   "outputs": [],
   "source": [
    "import pandas as pd"
   ]
  },
  {
   "cell_type": "code",
   "execution_count": 2,
   "metadata": {},
   "outputs": [],
   "source": [
    "from sqlalchemy import create_engine"
   ]
  },
  {
   "cell_type": "markdown",
   "metadata": {},
   "source": [
    "'books', 'authors', 'publishers', 'ratings', 'reviews'"
   ]
  },
  {
   "cell_type": "markdown",
   "metadata": {},
   "source": [
    "## upload"
   ]
  },
  {
   "cell_type": "markdown",
   "metadata": {},
   "source": [
    "### upload books"
   ]
  },
  {
   "cell_type": "code",
   "execution_count": 6,
   "metadata": {},
   "outputs": [],
   "source": [
    "query = '''\n",
    "            SELECT * FROM books\n",
    "        '''"
   ]
  },
  {
   "cell_type": "code",
   "execution_count": 7,
   "metadata": {},
   "outputs": [],
   "source": [
    "books = pd.io.sql.read_sql(query, con = engine)"
   ]
  },
  {
   "cell_type": "code",
   "execution_count": 8,
   "metadata": {},
   "outputs": [
    {
     "data": {
      "text/html": [
       "<div>\n",
       "<style scoped>\n",
       "    .dataframe tbody tr th:only-of-type {\n",
       "        vertical-align: middle;\n",
       "    }\n",
       "\n",
       "    .dataframe tbody tr th {\n",
       "        vertical-align: top;\n",
       "    }\n",
       "\n",
       "    .dataframe thead th {\n",
       "        text-align: right;\n",
       "    }\n",
       "</style>\n",
       "<table border=\"1\" class=\"dataframe\">\n",
       "  <thead>\n",
       "    <tr style=\"text-align: right;\">\n",
       "      <th></th>\n",
       "      <th>book_id</th>\n",
       "      <th>author_id</th>\n",
       "      <th>title</th>\n",
       "      <th>num_pages</th>\n",
       "      <th>publication_date</th>\n",
       "      <th>publisher_id</th>\n",
       "    </tr>\n",
       "  </thead>\n",
       "  <tbody>\n",
       "    <tr>\n",
       "      <th>0</th>\n",
       "      <td>1</td>\n",
       "      <td>546</td>\n",
       "      <td>'Salem's Lot</td>\n",
       "      <td>594</td>\n",
       "      <td>2005-11-01</td>\n",
       "      <td>93</td>\n",
       "    </tr>\n",
       "  </tbody>\n",
       "</table>\n",
       "</div>"
      ],
      "text/plain": [
       "   book_id  author_id         title  num_pages publication_date  publisher_id\n",
       "0        1        546  'Salem's Lot        594       2005-11-01            93"
      ]
     },
     "metadata": {},
     "output_type": "display_data"
    }
   ],
   "source": [
    "display(books.head(1))"
   ]
  },
  {
   "cell_type": "markdown",
   "metadata": {},
   "source": [
    "### upload authors"
   ]
  },
  {
   "cell_type": "code",
   "execution_count": 9,
   "metadata": {},
   "outputs": [],
   "source": [
    "query = '''\n",
    "            SELECT * FROM authors\n",
    "        '''"
   ]
  },
  {
   "cell_type": "code",
   "execution_count": 10,
   "metadata": {},
   "outputs": [],
   "source": [
    "authors = pd.io.sql.read_sql(query, con = engine)"
   ]
  },
  {
   "cell_type": "code",
   "execution_count": 11,
   "metadata": {},
   "outputs": [
    {
     "data": {
      "text/html": [
       "<div>\n",
       "<style scoped>\n",
       "    .dataframe tbody tr th:only-of-type {\n",
       "        vertical-align: middle;\n",
       "    }\n",
       "\n",
       "    .dataframe tbody tr th {\n",
       "        vertical-align: top;\n",
       "    }\n",
       "\n",
       "    .dataframe thead th {\n",
       "        text-align: right;\n",
       "    }\n",
       "</style>\n",
       "<table border=\"1\" class=\"dataframe\">\n",
       "  <thead>\n",
       "    <tr style=\"text-align: right;\">\n",
       "      <th></th>\n",
       "      <th>author_id</th>\n",
       "      <th>author</th>\n",
       "    </tr>\n",
       "  </thead>\n",
       "  <tbody>\n",
       "    <tr>\n",
       "      <th>0</th>\n",
       "      <td>1</td>\n",
       "      <td>A.S. Byatt</td>\n",
       "    </tr>\n",
       "  </tbody>\n",
       "</table>\n",
       "</div>"
      ],
      "text/plain": [
       "   author_id      author\n",
       "0          1  A.S. Byatt"
      ]
     },
     "metadata": {},
     "output_type": "display_data"
    }
   ],
   "source": [
    "display(authors.head(1))"
   ]
  },
  {
   "cell_type": "markdown",
   "metadata": {},
   "source": [
    "### upload publishers"
   ]
  },
  {
   "cell_type": "code",
   "execution_count": 12,
   "metadata": {},
   "outputs": [],
   "source": [
    "query = '''\n",
    "            SELECT * FROM publishers\n",
    "        '''"
   ]
  },
  {
   "cell_type": "code",
   "execution_count": 13,
   "metadata": {},
   "outputs": [],
   "source": [
    "publishers = pd.io.sql.read_sql(query, con = engine)"
   ]
  },
  {
   "cell_type": "code",
   "execution_count": 14,
   "metadata": {},
   "outputs": [
    {
     "data": {
      "text/html": [
       "<div>\n",
       "<style scoped>\n",
       "    .dataframe tbody tr th:only-of-type {\n",
       "        vertical-align: middle;\n",
       "    }\n",
       "\n",
       "    .dataframe tbody tr th {\n",
       "        vertical-align: top;\n",
       "    }\n",
       "\n",
       "    .dataframe thead th {\n",
       "        text-align: right;\n",
       "    }\n",
       "</style>\n",
       "<table border=\"1\" class=\"dataframe\">\n",
       "  <thead>\n",
       "    <tr style=\"text-align: right;\">\n",
       "      <th></th>\n",
       "      <th>publisher_id</th>\n",
       "      <th>publisher</th>\n",
       "    </tr>\n",
       "  </thead>\n",
       "  <tbody>\n",
       "    <tr>\n",
       "      <th>0</th>\n",
       "      <td>1</td>\n",
       "      <td>Ace</td>\n",
       "    </tr>\n",
       "  </tbody>\n",
       "</table>\n",
       "</div>"
      ],
      "text/plain": [
       "   publisher_id publisher\n",
       "0             1       Ace"
      ]
     },
     "metadata": {},
     "output_type": "display_data"
    }
   ],
   "source": [
    "display(publishers.head(1))"
   ]
  },
  {
   "cell_type": "markdown",
   "metadata": {},
   "source": [
    "### upload ratings"
   ]
  },
  {
   "cell_type": "code",
   "execution_count": 15,
   "metadata": {},
   "outputs": [],
   "source": [
    "query = '''\n",
    "            SELECT * FROM ratings\n",
    "        '''"
   ]
  },
  {
   "cell_type": "code",
   "execution_count": 16,
   "metadata": {},
   "outputs": [],
   "source": [
    "ratings = pd.io.sql.read_sql(query, con = engine)"
   ]
  },
  {
   "cell_type": "code",
   "execution_count": 17,
   "metadata": {},
   "outputs": [
    {
     "data": {
      "text/html": [
       "<div>\n",
       "<style scoped>\n",
       "    .dataframe tbody tr th:only-of-type {\n",
       "        vertical-align: middle;\n",
       "    }\n",
       "\n",
       "    .dataframe tbody tr th {\n",
       "        vertical-align: top;\n",
       "    }\n",
       "\n",
       "    .dataframe thead th {\n",
       "        text-align: right;\n",
       "    }\n",
       "</style>\n",
       "<table border=\"1\" class=\"dataframe\">\n",
       "  <thead>\n",
       "    <tr style=\"text-align: right;\">\n",
       "      <th></th>\n",
       "      <th>rating_id</th>\n",
       "      <th>book_id</th>\n",
       "      <th>username</th>\n",
       "      <th>rating</th>\n",
       "    </tr>\n",
       "  </thead>\n",
       "  <tbody>\n",
       "    <tr>\n",
       "      <th>0</th>\n",
       "      <td>1</td>\n",
       "      <td>1</td>\n",
       "      <td>ryanfranco</td>\n",
       "      <td>4</td>\n",
       "    </tr>\n",
       "  </tbody>\n",
       "</table>\n",
       "</div>"
      ],
      "text/plain": [
       "   rating_id  book_id    username  rating\n",
       "0          1        1  ryanfranco       4"
      ]
     },
     "metadata": {},
     "output_type": "display_data"
    }
   ],
   "source": [
    "display(ratings.head(1))"
   ]
  },
  {
   "cell_type": "markdown",
   "metadata": {},
   "source": [
    "### upload reviews"
   ]
  },
  {
   "cell_type": "code",
   "execution_count": 18,
   "metadata": {},
   "outputs": [],
   "source": [
    "query = '''\n",
    "            SELECT * FROM reviews\n",
    "        '''"
   ]
  },
  {
   "cell_type": "code",
   "execution_count": 19,
   "metadata": {
    "scrolled": true
   },
   "outputs": [],
   "source": [
    "reviews = pd.io.sql.read_sql(query, con = engine)"
   ]
  },
  {
   "cell_type": "code",
   "execution_count": 20,
   "metadata": {},
   "outputs": [
    {
     "data": {
      "text/html": [
       "<div>\n",
       "<style scoped>\n",
       "    .dataframe tbody tr th:only-of-type {\n",
       "        vertical-align: middle;\n",
       "    }\n",
       "\n",
       "    .dataframe tbody tr th {\n",
       "        vertical-align: top;\n",
       "    }\n",
       "\n",
       "    .dataframe thead th {\n",
       "        text-align: right;\n",
       "    }\n",
       "</style>\n",
       "<table border=\"1\" class=\"dataframe\">\n",
       "  <thead>\n",
       "    <tr style=\"text-align: right;\">\n",
       "      <th></th>\n",
       "      <th>review_id</th>\n",
       "      <th>book_id</th>\n",
       "      <th>username</th>\n",
       "      <th>text</th>\n",
       "    </tr>\n",
       "  </thead>\n",
       "  <tbody>\n",
       "    <tr>\n",
       "      <th>0</th>\n",
       "      <td>1</td>\n",
       "      <td>1</td>\n",
       "      <td>brandtandrea</td>\n",
       "      <td>Mention society tell send professor analysis. ...</td>\n",
       "    </tr>\n",
       "  </tbody>\n",
       "</table>\n",
       "</div>"
      ],
      "text/plain": [
       "   review_id  book_id      username  \\\n",
       "0          1        1  brandtandrea   \n",
       "\n",
       "                                                text  \n",
       "0  Mention society tell send professor analysis. ...  "
      ]
     },
     "metadata": {},
     "output_type": "display_data"
    }
   ],
   "source": [
    "display(reviews.head(1))"
   ]
  },
  {
   "cell_type": "markdown",
   "metadata": {},
   "source": [
    "## Task one\n",
    "Посчитайте, сколько книг вышло после 1 января 2000 года;"
   ]
  },
  {
   "cell_type": "code",
   "execution_count": 21,
   "metadata": {},
   "outputs": [
    {
     "data": {
      "text/html": [
       "<div>\n",
       "<style scoped>\n",
       "    .dataframe tbody tr th:only-of-type {\n",
       "        vertical-align: middle;\n",
       "    }\n",
       "\n",
       "    .dataframe tbody tr th {\n",
       "        vertical-align: top;\n",
       "    }\n",
       "\n",
       "    .dataframe thead th {\n",
       "        text-align: right;\n",
       "    }\n",
       "</style>\n",
       "<table border=\"1\" class=\"dataframe\">\n",
       "  <thead>\n",
       "    <tr style=\"text-align: right;\">\n",
       "      <th></th>\n",
       "      <th>count</th>\n",
       "    </tr>\n",
       "  </thead>\n",
       "  <tbody>\n",
       "    <tr>\n",
       "      <th>0</th>\n",
       "      <td>821</td>\n",
       "    </tr>\n",
       "  </tbody>\n",
       "</table>\n",
       "</div>"
      ],
      "text/plain": [
       "   count\n",
       "0    821"
      ]
     },
     "metadata": {},
     "output_type": "display_data"
    }
   ],
   "source": [
    "task_one = '''\n",
    "            SELECT COUNT(*)\n",
    "            FROM books\n",
    "            WHERE publication_date::date >='2000-01-01'\n",
    "        ''' \n",
    "one = pd.io.sql.read_sql(task_one, con = engine)\n",
    "display(one)"
   ]
  },
  {
   "cell_type": "markdown",
   "metadata": {},
   "source": [
    "## Task two\n",
    "Для каждой книги посчитайте количество обзоров и среднюю оценку"
   ]
  },
  {
   "cell_type": "code",
   "execution_count": 22,
   "metadata": {},
   "outputs": [
    {
     "data": {
      "text/html": [
       "<div>\n",
       "<style scoped>\n",
       "    .dataframe tbody tr th:only-of-type {\n",
       "        vertical-align: middle;\n",
       "    }\n",
       "\n",
       "    .dataframe tbody tr th {\n",
       "        vertical-align: top;\n",
       "    }\n",
       "\n",
       "    .dataframe thead th {\n",
       "        text-align: right;\n",
       "    }\n",
       "</style>\n",
       "<table border=\"1\" class=\"dataframe\">\n",
       "  <thead>\n",
       "    <tr style=\"text-align: right;\">\n",
       "      <th></th>\n",
       "      <th>title</th>\n",
       "      <th>count</th>\n",
       "      <th>avg_rating</th>\n",
       "    </tr>\n",
       "  </thead>\n",
       "  <tbody>\n",
       "    <tr>\n",
       "      <th>0</th>\n",
       "      <td>Jane Eyre</td>\n",
       "      <td>5</td>\n",
       "      <td>1.0</td>\n",
       "    </tr>\n",
       "    <tr>\n",
       "      <th>1</th>\n",
       "      <td>Midnight's Children</td>\n",
       "      <td>4</td>\n",
       "      <td>1.0</td>\n",
       "    </tr>\n",
       "    <tr>\n",
       "      <th>2</th>\n",
       "      <td>My Side of the Mountain (Mountain  #1)</td>\n",
       "      <td>2</td>\n",
       "      <td>1.0</td>\n",
       "    </tr>\n",
       "    <tr>\n",
       "      <th>3</th>\n",
       "      <td>Suzanne's Diary for Nicholas</td>\n",
       "      <td>3</td>\n",
       "      <td>1.0</td>\n",
       "    </tr>\n",
       "    <tr>\n",
       "      <th>4</th>\n",
       "      <td>Tropic of Cancer</td>\n",
       "      <td>2</td>\n",
       "      <td>1.0</td>\n",
       "    </tr>\n",
       "    <tr>\n",
       "      <th>...</th>\n",
       "      <td>...</td>\n",
       "      <td>...</td>\n",
       "      <td>...</td>\n",
       "    </tr>\n",
       "    <tr>\n",
       "      <th>988</th>\n",
       "      <td>Wizard's First Rule (Sword of Truth  #1)</td>\n",
       "      <td>4</td>\n",
       "      <td>5.0</td>\n",
       "    </tr>\n",
       "    <tr>\n",
       "      <th>989</th>\n",
       "      <td>Women</td>\n",
       "      <td>2</td>\n",
       "      <td>5.0</td>\n",
       "    </tr>\n",
       "    <tr>\n",
       "      <th>990</th>\n",
       "      <td>Xenocide (Ender's Saga  #3)</td>\n",
       "      <td>3</td>\n",
       "      <td>5.0</td>\n",
       "    </tr>\n",
       "    <tr>\n",
       "      <th>991</th>\n",
       "      <td>Year of Wonders</td>\n",
       "      <td>4</td>\n",
       "      <td>5.0</td>\n",
       "    </tr>\n",
       "    <tr>\n",
       "      <th>992</th>\n",
       "      <td>You Suck (A Love Story  #2)</td>\n",
       "      <td>2</td>\n",
       "      <td>5.0</td>\n",
       "    </tr>\n",
       "  </tbody>\n",
       "</table>\n",
       "<p>993 rows × 3 columns</p>\n",
       "</div>"
      ],
      "text/plain": [
       "                                        title  count  avg_rating\n",
       "0                                   Jane Eyre      5         1.0\n",
       "1                         Midnight's Children      4         1.0\n",
       "2      My Side of the Mountain (Mountain  #1)      2         1.0\n",
       "3                Suzanne's Diary for Nicholas      3         1.0\n",
       "4                            Tropic of Cancer      2         1.0\n",
       "..                                        ...    ...         ...\n",
       "988  Wizard's First Rule (Sword of Truth  #1)      4         5.0\n",
       "989                                     Women      2         5.0\n",
       "990               Xenocide (Ender's Saga  #3)      3         5.0\n",
       "991                           Year of Wonders      4         5.0\n",
       "992               You Suck (A Love Story  #2)      2         5.0\n",
       "\n",
       "[993 rows x 3 columns]"
      ]
     },
     "metadata": {},
     "output_type": "display_data"
    }
   ],
   "source": [
    "two = '''\n",
    "            SELECT p.title,COUNT(DISTINCT review_id),\n",
    "                    AVG(rating) AS avg_rating\n",
    "                    \n",
    "            FROM books as p \n",
    "            JOIN ratings as r ON p.book_id = r.rating_id\n",
    "            JOIN reviews as rev ON p.book_id = rev.book_id\n",
    "            GROUP BY rating ,p.title \n",
    "        ''' \n",
    "two = pd.io.sql.read_sql(two, con = engine)\n",
    "display(two)\n",
    "\n",
    "\n"
   ]
  },
  {
   "cell_type": "markdown",
   "metadata": {},
   "source": [
    "Для каждой книги посчитайте количество обзоров и среднюю оценку"
   ]
  },
  {
   "cell_type": "code",
   "execution_count": 23,
   "metadata": {},
   "outputs": [
    {
     "data": {
      "text/html": [
       "<div>\n",
       "<style scoped>\n",
       "    .dataframe tbody tr th:only-of-type {\n",
       "        vertical-align: middle;\n",
       "    }\n",
       "\n",
       "    .dataframe tbody tr th {\n",
       "        vertical-align: top;\n",
       "    }\n",
       "\n",
       "    .dataframe thead th {\n",
       "        text-align: right;\n",
       "    }\n",
       "</style>\n",
       "<table border=\"1\" class=\"dataframe\">\n",
       "  <thead>\n",
       "    <tr style=\"text-align: right;\">\n",
       "      <th></th>\n",
       "      <th>book_id</th>\n",
       "      <th>title</th>\n",
       "      <th>count</th>\n",
       "      <th>avg_rating</th>\n",
       "    </tr>\n",
       "  </thead>\n",
       "  <tbody>\n",
       "    <tr>\n",
       "      <th>0</th>\n",
       "      <td>786</td>\n",
       "      <td>The Lost Continent: Travels in Small Town America</td>\n",
       "      <td>2</td>\n",
       "      <td>3.0</td>\n",
       "    </tr>\n",
       "    <tr>\n",
       "      <th>1</th>\n",
       "      <td>163</td>\n",
       "      <td>Corelli's Mandolin</td>\n",
       "      <td>3</td>\n",
       "      <td>3.0</td>\n",
       "    </tr>\n",
       "    <tr>\n",
       "      <th>2</th>\n",
       "      <td>583</td>\n",
       "      <td>Something Blue (Darcy &amp; Rachel  #2)</td>\n",
       "      <td>4</td>\n",
       "      <td>4.0</td>\n",
       "    </tr>\n",
       "    <tr>\n",
       "      <th>3</th>\n",
       "      <td>590</td>\n",
       "      <td>Special Topics in Calamity Physics</td>\n",
       "      <td>2</td>\n",
       "      <td>4.0</td>\n",
       "    </tr>\n",
       "    <tr>\n",
       "      <th>4</th>\n",
       "      <td>460</td>\n",
       "      <td>My Side of the Mountain (Mountain  #1)</td>\n",
       "      <td>2</td>\n",
       "      <td>1.0</td>\n",
       "    </tr>\n",
       "    <tr>\n",
       "      <th>...</th>\n",
       "      <td>...</td>\n",
       "      <td>...</td>\n",
       "      <td>...</td>\n",
       "      <td>...</td>\n",
       "    </tr>\n",
       "    <tr>\n",
       "      <th>995</th>\n",
       "      <td>444</td>\n",
       "      <td>Moneyball: The Art of Winning an Unfair Game</td>\n",
       "      <td>3</td>\n",
       "      <td>5.0</td>\n",
       "    </tr>\n",
       "    <tr>\n",
       "      <th>996</th>\n",
       "      <td>563</td>\n",
       "      <td>Shopaholic &amp; Baby (Shopaholic  #5)</td>\n",
       "      <td>3</td>\n",
       "      <td>3.0</td>\n",
       "    </tr>\n",
       "    <tr>\n",
       "      <th>997</th>\n",
       "      <td>791</td>\n",
       "      <td>The Magus</td>\n",
       "      <td>2</td>\n",
       "      <td>3.0</td>\n",
       "    </tr>\n",
       "    <tr>\n",
       "      <th>998</th>\n",
       "      <td>398</td>\n",
       "      <td>Little Town on the Prairie  (Little House  #7)</td>\n",
       "      <td>2</td>\n",
       "      <td>3.0</td>\n",
       "    </tr>\n",
       "    <tr>\n",
       "      <th>999</th>\n",
       "      <td>713</td>\n",
       "      <td>The Elements of Style</td>\n",
       "      <td>2</td>\n",
       "      <td>3.0</td>\n",
       "    </tr>\n",
       "  </tbody>\n",
       "</table>\n",
       "<p>1000 rows × 4 columns</p>\n",
       "</div>"
      ],
      "text/plain": [
       "     book_id                                              title  count  \\\n",
       "0        786  The Lost Continent: Travels in Small Town America      2   \n",
       "1        163                                 Corelli's Mandolin      3   \n",
       "2        583                Something Blue (Darcy & Rachel  #2)      4   \n",
       "3        590                 Special Topics in Calamity Physics      2   \n",
       "4        460             My Side of the Mountain (Mountain  #1)      2   \n",
       "..       ...                                                ...    ...   \n",
       "995      444       Moneyball: The Art of Winning an Unfair Game      3   \n",
       "996      563                 Shopaholic & Baby (Shopaholic  #5)      3   \n",
       "997      791                                          The Magus      2   \n",
       "998      398     Little Town on the Prairie  (Little House  #7)      2   \n",
       "999      713                              The Elements of Style      2   \n",
       "\n",
       "     avg_rating  \n",
       "0           3.0  \n",
       "1           3.0  \n",
       "2           4.0  \n",
       "3           4.0  \n",
       "4           1.0  \n",
       "..          ...  \n",
       "995         5.0  \n",
       "996         3.0  \n",
       "997         3.0  \n",
       "998         3.0  \n",
       "999         3.0  \n",
       "\n",
       "[1000 rows x 4 columns]"
      ]
     },
     "metadata": {},
     "output_type": "display_data"
    }
   ],
   "source": [
    "two_var_one = '''\n",
    "\n",
    "SELECT p.book_id,p.title,COUNT(review_id),\n",
    "                    AVG(rating) AS avg_rating\n",
    "                    \n",
    "            FROM books as p \n",
    "            left outer JOIN ratings as r ON p.book_id = r.rating_id\n",
    "            left outer JOIN reviews as rev ON p.book_id = rev.book_id\n",
    "            GROUP BY p.book_id,rating ,p.title \n",
    "             \n",
    "        ''' \n",
    "two_var_one = pd.io.sql.read_sql(two_var_one, con = engine)\n",
    "display(two_var_one)"
   ]
  },
  {
   "cell_type": "markdown",
   "metadata": {},
   "source": [
    "## Task three\n",
    "Определите издательство, которое выпустило наибольшее число книг толще 50 страниц — так вы исключите из анализа брошюры;"
   ]
  },
  {
   "cell_type": "code",
   "execution_count": 24,
   "metadata": {},
   "outputs": [
    {
     "data": {
      "text/html": [
       "<div>\n",
       "<style scoped>\n",
       "    .dataframe tbody tr th:only-of-type {\n",
       "        vertical-align: middle;\n",
       "    }\n",
       "\n",
       "    .dataframe tbody tr th {\n",
       "        vertical-align: top;\n",
       "    }\n",
       "\n",
       "    .dataframe thead th {\n",
       "        text-align: right;\n",
       "    }\n",
       "</style>\n",
       "<table border=\"1\" class=\"dataframe\">\n",
       "  <thead>\n",
       "    <tr style=\"text-align: right;\">\n",
       "      <th></th>\n",
       "      <th>publisher</th>\n",
       "      <th>count_book</th>\n",
       "    </tr>\n",
       "  </thead>\n",
       "  <tbody>\n",
       "    <tr>\n",
       "      <th>0</th>\n",
       "      <td>Penguin Books</td>\n",
       "      <td>42</td>\n",
       "    </tr>\n",
       "  </tbody>\n",
       "</table>\n",
       "</div>"
      ],
      "text/plain": [
       "       publisher  count_book\n",
       "0  Penguin Books          42"
      ]
     },
     "metadata": {},
     "output_type": "display_data"
    }
   ],
   "source": [
    "three = ''' select p.publisher,count(book_id) as count_book\n",
    "from books as b\n",
    "join publishers as p on  b.publisher_id = p.publisher_id \n",
    "where num_pages >50\n",
    "group by p.publisher\n",
    "order by count_book desc \n",
    "limit 1\n",
    " ''' \n",
    "three = pd.io.sql.read_sql(three, con = engine)\n",
    "display(three)"
   ]
  },
  {
   "cell_type": "markdown",
   "metadata": {},
   "source": [
    "## Task four\n",
    "Определите автора с самой высокой средней оценкой книг — учитывайте только книги с 50 и более оценками;"
   ]
  },
  {
   "cell_type": "code",
   "execution_count": 25,
   "metadata": {},
   "outputs": [
    {
     "data": {
      "text/html": [
       "<div>\n",
       "<style scoped>\n",
       "    .dataframe tbody tr th:only-of-type {\n",
       "        vertical-align: middle;\n",
       "    }\n",
       "\n",
       "    .dataframe tbody tr th {\n",
       "        vertical-align: top;\n",
       "    }\n",
       "\n",
       "    .dataframe thead th {\n",
       "        text-align: right;\n",
       "    }\n",
       "</style>\n",
       "<table border=\"1\" class=\"dataframe\">\n",
       "  <thead>\n",
       "    <tr style=\"text-align: right;\">\n",
       "      <th></th>\n",
       "      <th>author_name</th>\n",
       "      <th>rating</th>\n",
       "    </tr>\n",
       "  </thead>\n",
       "  <tbody>\n",
       "    <tr>\n",
       "      <th>0</th>\n",
       "      <td>Diana Gabaldon</td>\n",
       "      <td>4.3</td>\n",
       "    </tr>\n",
       "  </tbody>\n",
       "</table>\n",
       "</div>"
      ],
      "text/plain": [
       "      author_name  rating\n",
       "0  Diana Gabaldon     4.3"
      ]
     },
     "metadata": {},
     "output_type": "display_data"
    }
   ],
   "source": [
    "four = ''' \n",
    "select a.author as author_name,\n",
    "    avg(r.rating) as rating \n",
    "from authors as a\n",
    "--авторы + книги + рейтинг\n",
    "join books as b on a.author_id = b.author_id \n",
    "join ratings as r on b.book_id = r.book_id\n",
    "group by author_name\n",
    "having count(rating)>=50\n",
    "order by rating desc \n",
    "limit 1\n",
    "'''\n",
    "four = pd.io.sql.read_sql(four, con = engine)\n",
    "display(four)"
   ]
  },
  {
   "cell_type": "code",
   "execution_count": 26,
   "metadata": {},
   "outputs": [
    {
     "data": {
      "text/html": [
       "<div>\n",
       "<style scoped>\n",
       "    .dataframe tbody tr th:only-of-type {\n",
       "        vertical-align: middle;\n",
       "    }\n",
       "\n",
       "    .dataframe tbody tr th {\n",
       "        vertical-align: top;\n",
       "    }\n",
       "\n",
       "    .dataframe thead th {\n",
       "        text-align: right;\n",
       "    }\n",
       "</style>\n",
       "<table border=\"1\" class=\"dataframe\">\n",
       "  <thead>\n",
       "    <tr style=\"text-align: right;\">\n",
       "      <th></th>\n",
       "      <th>book_id</th>\n",
       "      <th>author</th>\n",
       "      <th>avg_rating</th>\n",
       "    </tr>\n",
       "  </thead>\n",
       "  <tbody>\n",
       "    <tr>\n",
       "      <th>0</th>\n",
       "      <td>302</td>\n",
       "      <td>J.K. Rowling/Mary GrandPré</td>\n",
       "      <td>4.414634</td>\n",
       "    </tr>\n",
       "    <tr>\n",
       "      <th>1</th>\n",
       "      <td>722</td>\n",
       "      <td>J.R.R. Tolkien</td>\n",
       "      <td>4.391892</td>\n",
       "    </tr>\n",
       "    <tr>\n",
       "      <th>2</th>\n",
       "      <td>299</td>\n",
       "      <td>J.K. Rowling/Mary GrandPré</td>\n",
       "      <td>4.287500</td>\n",
       "    </tr>\n",
       "    <tr>\n",
       "      <th>3</th>\n",
       "      <td>656</td>\n",
       "      <td>Markus Zusak/Cao Xuân Việt Khương</td>\n",
       "      <td>4.264151</td>\n",
       "    </tr>\n",
       "    <tr>\n",
       "      <th>4</th>\n",
       "      <td>300</td>\n",
       "      <td>J.K. Rowling/Mary GrandPré</td>\n",
       "      <td>4.246575</td>\n",
       "    </tr>\n",
       "    <tr>\n",
       "      <th>5</th>\n",
       "      <td>399</td>\n",
       "      <td>Louisa May Alcott</td>\n",
       "      <td>4.192308</td>\n",
       "    </tr>\n",
       "    <tr>\n",
       "      <th>6</th>\n",
       "      <td>301</td>\n",
       "      <td>J.K. Rowling/Mary GrandPré</td>\n",
       "      <td>4.186667</td>\n",
       "    </tr>\n",
       "    <tr>\n",
       "      <th>7</th>\n",
       "      <td>750</td>\n",
       "      <td>J.R.R. Tolkien</td>\n",
       "      <td>4.125000</td>\n",
       "    </tr>\n",
       "    <tr>\n",
       "      <th>8</th>\n",
       "      <td>779</td>\n",
       "      <td>Rick Riordan</td>\n",
       "      <td>4.080645</td>\n",
       "    </tr>\n",
       "    <tr>\n",
       "      <th>9</th>\n",
       "      <td>405</td>\n",
       "      <td>William Golding</td>\n",
       "      <td>3.901408</td>\n",
       "    </tr>\n",
       "    <tr>\n",
       "      <th>10</th>\n",
       "      <td>696</td>\n",
       "      <td>Dan Brown</td>\n",
       "      <td>3.830508</td>\n",
       "    </tr>\n",
       "    <tr>\n",
       "      <th>11</th>\n",
       "      <td>673</td>\n",
       "      <td>J.D. Salinger</td>\n",
       "      <td>3.825581</td>\n",
       "    </tr>\n",
       "    <tr>\n",
       "      <th>12</th>\n",
       "      <td>627</td>\n",
       "      <td>Paulo Coelho/Alan R. Clarke/Özdemir İnce</td>\n",
       "      <td>3.789474</td>\n",
       "    </tr>\n",
       "    <tr>\n",
       "      <th>13</th>\n",
       "      <td>545</td>\n",
       "      <td>William Shakespeare/Paul Werstine/Barbara A. M...</td>\n",
       "      <td>3.787879</td>\n",
       "    </tr>\n",
       "    <tr>\n",
       "      <th>14</th>\n",
       "      <td>733</td>\n",
       "      <td>Lois Lowry</td>\n",
       "      <td>3.750000</td>\n",
       "    </tr>\n",
       "    <tr>\n",
       "      <th>15</th>\n",
       "      <td>79</td>\n",
       "      <td>George Orwell/Boris Grabnar/Peter Škerl</td>\n",
       "      <td>3.729730</td>\n",
       "    </tr>\n",
       "    <tr>\n",
       "      <th>16</th>\n",
       "      <td>75</td>\n",
       "      <td>Dan Brown</td>\n",
       "      <td>3.678571</td>\n",
       "    </tr>\n",
       "    <tr>\n",
       "      <th>17</th>\n",
       "      <td>948</td>\n",
       "      <td>Stephenie Meyer</td>\n",
       "      <td>3.662500</td>\n",
       "    </tr>\n",
       "    <tr>\n",
       "      <th>18</th>\n",
       "      <td>488</td>\n",
       "      <td>John Steinbeck</td>\n",
       "      <td>3.622951</td>\n",
       "    </tr>\n",
       "  </tbody>\n",
       "</table>\n",
       "</div>"
      ],
      "text/plain": [
       "    book_id                                             author  avg_rating\n",
       "0       302                         J.K. Rowling/Mary GrandPré    4.414634\n",
       "1       722                                     J.R.R. Tolkien    4.391892\n",
       "2       299                         J.K. Rowling/Mary GrandPré    4.287500\n",
       "3       656                  Markus Zusak/Cao Xuân Việt Khương    4.264151\n",
       "4       300                         J.K. Rowling/Mary GrandPré    4.246575\n",
       "5       399                                  Louisa May Alcott    4.192308\n",
       "6       301                         J.K. Rowling/Mary GrandPré    4.186667\n",
       "7       750                                     J.R.R. Tolkien    4.125000\n",
       "8       779                                       Rick Riordan    4.080645\n",
       "9       405                                    William Golding    3.901408\n",
       "10      696                                          Dan Brown    3.830508\n",
       "11      673                                      J.D. Salinger    3.825581\n",
       "12      627           Paulo Coelho/Alan R. Clarke/Özdemir İnce    3.789474\n",
       "13      545  William Shakespeare/Paul Werstine/Barbara A. M...    3.787879\n",
       "14      733                                         Lois Lowry    3.750000\n",
       "15       79            George Orwell/Boris Grabnar/Peter Škerl    3.729730\n",
       "16       75                                          Dan Brown    3.678571\n",
       "17      948                                    Stephenie Meyer    3.662500\n",
       "18      488                                     John Steinbeck    3.622951"
      ]
     },
     "metadata": {},
     "output_type": "display_data"
    }
   ],
   "source": [
    "four_var_one = ''' \n",
    "select b.book_id,a.author, avg(rating) as avg_rating\n",
    "from authors a \n",
    "join books as b on a.author_id  = b.author_id \n",
    "join ratings as r on b.book_id = r.book_id \n",
    "where b.book_id  in \n",
    "(\n",
    "select b.book_id\n",
    "from books as b \n",
    "join ratings as r on b.book_id = r.book_id \n",
    "group by b.book_id \n",
    "having count(rating) >= 50)\n",
    "group by b.book_id,a.author\n",
    "order by avg_rating desc \n",
    "'''\n",
    "four_var_one = pd.io.sql.read_sql(four_var_one, con = engine)\n",
    "display(four_var_one)"
   ]
  },
  {
   "cell_type": "markdown",
   "metadata": {},
   "source": [
    "J.K. Rowling/Mary GrandPré у не самый высокий рейтинг"
   ]
  },
  {
   "cell_type": "code",
   "execution_count": 27,
   "metadata": {},
   "outputs": [
    {
     "data": {
      "text/html": [
       "<div>\n",
       "<style scoped>\n",
       "    .dataframe tbody tr th:only-of-type {\n",
       "        vertical-align: middle;\n",
       "    }\n",
       "\n",
       "    .dataframe tbody tr th {\n",
       "        vertical-align: top;\n",
       "    }\n",
       "\n",
       "    .dataframe thead th {\n",
       "        text-align: right;\n",
       "    }\n",
       "</style>\n",
       "<table border=\"1\" class=\"dataframe\">\n",
       "  <thead>\n",
       "    <tr style=\"text-align: right;\">\n",
       "      <th></th>\n",
       "      <th>avg</th>\n",
       "    </tr>\n",
       "  </thead>\n",
       "  <tbody>\n",
       "    <tr>\n",
       "      <th>0</th>\n",
       "      <td>24.333333</td>\n",
       "    </tr>\n",
       "  </tbody>\n",
       "</table>\n",
       "</div>"
      ],
      "text/plain": [
       "         avg\n",
       "0  24.333333"
      ]
     },
     "metadata": {},
     "output_type": "display_data"
    }
   ],
   "source": [
    "five = ''' \n",
    "select avg(c_id)\n",
    "from(\n",
    "select count(review_id) as c_id\n",
    "from reviews\n",
    "where username  in(\n",
    "select username\n",
    "from ratings\n",
    "group by username\n",
    "having count (rating_id) > 50)\n",
    "group by username) as one\n",
    "'''\n",
    "five = pd.io.sql.read_sql(five, con = engine)\n",
    "display(five)"
   ]
  },
  {
   "cell_type": "markdown",
   "metadata": {},
   "source": [
    "## Выводы"
   ]
  },
  {
   "cell_type": "markdown",
   "metadata": {},
   "source": [
    "821 книга вышла после 1 января 2000 года;\n",
    "\n",
    "Создана таблица для каждой книги с количеством обзоров и средней оценкой;\n",
    "\n",
    "Издательство, которое выпустило наибольшее число книг толще 50 страниц — Penguin Books\n",
    "\n",
    "Автор с самой высокой средней оценкой книг — J.K. Rowling/Mary GrandPré;\n",
    "\n",
    "Среднее количество обзоров от пользователей 24"
   ]
  }
 ],
 "metadata": {
  "ExecuteTimeLog": [
   {
    "duration": 88,
    "start_time": "2023-04-03T07:08:41.135Z"
   },
   {
    "duration": 314,
    "start_time": "2023-04-03T07:08:59.103Z"
   },
   {
    "duration": 405,
    "start_time": "2023-04-03T07:13:04.133Z"
   },
   {
    "duration": 125,
    "start_time": "2023-04-03T07:13:11.089Z"
   },
   {
    "duration": 3,
    "start_time": "2023-04-03T07:13:18.435Z"
   },
   {
    "duration": 3,
    "start_time": "2023-04-03T07:13:26.043Z"
   },
   {
    "duration": 12141,
    "start_time": "2023-04-03T07:13:39.360Z"
   },
   {
    "duration": 70,
    "start_time": "2023-04-03T07:13:51.503Z"
   },
   {
    "duration": 357,
    "start_time": "2023-04-03T07:13:59.022Z"
   },
   {
    "duration": 128,
    "start_time": "2023-04-03T07:13:59.381Z"
   },
   {
    "duration": 3,
    "start_time": "2023-04-03T07:13:59.511Z"
   },
   {
    "duration": 4,
    "start_time": "2023-04-03T07:13:59.516Z"
   },
   {
    "duration": 9157,
    "start_time": "2023-04-03T07:13:59.521Z"
   },
   {
    "duration": 67,
    "start_time": "2023-04-03T07:14:08.680Z"
   },
   {
    "duration": 3,
    "start_time": "2023-04-03T07:25:34.223Z"
   },
   {
    "duration": 62,
    "start_time": "2023-04-03T07:25:34.670Z"
   },
   {
    "duration": 2,
    "start_time": "2023-04-03T07:26:19.141Z"
   },
   {
    "duration": 8,
    "start_time": "2023-04-03T07:26:44.914Z"
   },
   {
    "duration": 6,
    "start_time": "2023-04-03T07:26:52.437Z"
   },
   {
    "duration": 78,
    "start_time": "2023-04-03T07:28:36.810Z"
   },
   {
    "duration": 85,
    "start_time": "2023-04-03T07:30:51.325Z"
   },
   {
    "duration": 79,
    "start_time": "2023-04-03T07:32:52.860Z"
   },
   {
    "duration": 4,
    "start_time": "2023-04-03T07:33:21.124Z"
   },
   {
    "duration": 414,
    "start_time": "2023-04-03T07:33:31.697Z"
   },
   {
    "duration": 136,
    "start_time": "2023-04-03T07:33:32.113Z"
   },
   {
    "duration": 3,
    "start_time": "2023-04-03T07:33:32.250Z"
   },
   {
    "duration": 9,
    "start_time": "2023-04-03T07:33:32.255Z"
   },
   {
    "duration": 7818,
    "start_time": "2023-04-03T07:33:32.266Z"
   },
   {
    "duration": 3,
    "start_time": "2023-04-03T07:33:40.086Z"
   },
   {
    "duration": 62,
    "start_time": "2023-04-03T07:33:40.098Z"
   },
   {
    "duration": 2,
    "start_time": "2023-04-03T07:33:40.161Z"
   },
   {
    "duration": 861,
    "start_time": "2023-04-03T07:35:17.405Z"
   },
   {
    "duration": 3,
    "start_time": "2023-04-03T07:35:27.528Z"
   },
   {
    "duration": 3,
    "start_time": "2023-04-03T07:35:31.296Z"
   },
   {
    "duration": 3,
    "start_time": "2023-04-03T07:35:38.720Z"
   },
   {
    "duration": 85,
    "start_time": "2023-04-03T07:35:39.568Z"
   },
   {
    "duration": 3,
    "start_time": "2023-04-03T07:35:39.924Z"
   },
   {
    "duration": 3,
    "start_time": "2023-04-03T07:35:40.144Z"
   },
   {
    "duration": 3,
    "start_time": "2023-04-03T07:35:43.564Z"
   },
   {
    "duration": 3,
    "start_time": "2023-04-03T07:35:44.548Z"
   },
   {
    "duration": 2,
    "start_time": "2023-04-03T07:35:45.080Z"
   },
   {
    "duration": 68,
    "start_time": "2023-04-03T07:36:25.552Z"
   },
   {
    "duration": 30,
    "start_time": "2023-04-03T07:38:25.419Z"
   },
   {
    "duration": 52,
    "start_time": "2023-04-03T07:38:30.369Z"
   },
   {
    "duration": 29,
    "start_time": "2023-04-03T07:38:47.483Z"
   },
   {
    "duration": 67,
    "start_time": "2023-04-03T07:39:09.268Z"
   },
   {
    "duration": 32,
    "start_time": "2023-04-03T07:39:13.324Z"
   },
   {
    "duration": 36,
    "start_time": "2023-04-03T07:39:29.875Z"
   },
   {
    "duration": 31,
    "start_time": "2023-04-03T07:39:36.928Z"
   },
   {
    "duration": 22,
    "start_time": "2023-04-03T07:39:41.460Z"
   },
   {
    "duration": 25,
    "start_time": "2023-04-03T07:39:47.813Z"
   },
   {
    "duration": 28,
    "start_time": "2023-04-03T07:39:55.469Z"
   },
   {
    "duration": 21,
    "start_time": "2023-04-03T07:44:09.207Z"
   },
   {
    "duration": 17,
    "start_time": "2023-04-03T07:44:26.551Z"
   },
   {
    "duration": 29,
    "start_time": "2023-04-03T07:44:34.602Z"
   },
   {
    "duration": 406,
    "start_time": "2023-04-03T07:44:39.874Z"
   },
   {
    "duration": 135,
    "start_time": "2023-04-03T07:44:40.282Z"
   },
   {
    "duration": 5,
    "start_time": "2023-04-03T07:44:40.419Z"
   },
   {
    "duration": 5,
    "start_time": "2023-04-03T07:44:40.426Z"
   },
   {
    "duration": 8326,
    "start_time": "2023-04-03T07:44:40.433Z"
   },
   {
    "duration": 70,
    "start_time": "2023-04-03T07:44:48.760Z"
   },
   {
    "duration": 0,
    "start_time": "2023-04-03T07:44:48.832Z"
   },
   {
    "duration": 0,
    "start_time": "2023-04-03T07:44:48.833Z"
   },
   {
    "duration": 0,
    "start_time": "2023-04-03T07:44:48.834Z"
   },
   {
    "duration": 0,
    "start_time": "2023-04-03T07:44:48.836Z"
   },
   {
    "duration": 3,
    "start_time": "2023-04-03T07:48:27.110Z"
   },
   {
    "duration": 8,
    "start_time": "2023-04-03T07:48:28.701Z"
   },
   {
    "duration": 40,
    "start_time": "2023-04-03T07:48:42.458Z"
   },
   {
    "duration": 2,
    "start_time": "2023-04-03T07:48:51.331Z"
   },
   {
    "duration": 12,
    "start_time": "2023-04-03T07:48:51.558Z"
   },
   {
    "duration": 14,
    "start_time": "2023-04-03T07:49:02.643Z"
   },
   {
    "duration": 10,
    "start_time": "2023-04-03T07:49:05.503Z"
   },
   {
    "duration": 412,
    "start_time": "2023-04-03T07:50:14.418Z"
   },
   {
    "duration": 148,
    "start_time": "2023-04-03T07:50:14.832Z"
   },
   {
    "duration": 4,
    "start_time": "2023-04-03T07:50:14.982Z"
   },
   {
    "duration": 24,
    "start_time": "2023-04-03T07:50:14.989Z"
   },
   {
    "duration": 9711,
    "start_time": "2023-04-03T07:50:15.015Z"
   },
   {
    "duration": 3,
    "start_time": "2023-04-03T07:50:24.728Z"
   },
   {
    "duration": 11,
    "start_time": "2023-04-03T07:50:24.732Z"
   },
   {
    "duration": 7,
    "start_time": "2023-04-03T07:50:24.745Z"
   },
   {
    "duration": 7,
    "start_time": "2023-04-03T07:50:24.753Z"
   },
   {
    "duration": 10,
    "start_time": "2023-04-03T07:50:24.762Z"
   },
   {
    "duration": 72,
    "start_time": "2023-04-03T07:50:24.773Z"
   },
   {
    "duration": 72,
    "start_time": "2023-04-03T07:50:24.846Z"
   },
   {
    "duration": 62,
    "start_time": "2023-04-03T07:50:46.909Z"
   },
   {
    "duration": 11,
    "start_time": "2023-04-03T07:50:47.231Z"
   },
   {
    "duration": 432,
    "start_time": "2023-04-03T07:51:04.005Z"
   },
   {
    "duration": 135,
    "start_time": "2023-04-03T07:51:04.439Z"
   },
   {
    "duration": 3,
    "start_time": "2023-04-03T07:51:04.576Z"
   },
   {
    "duration": 6,
    "start_time": "2023-04-03T07:51:04.581Z"
   },
   {
    "duration": 9058,
    "start_time": "2023-04-03T07:51:04.589Z"
   },
   {
    "duration": 3,
    "start_time": "2023-04-03T07:51:13.648Z"
   },
   {
    "duration": 6,
    "start_time": "2023-04-03T07:51:13.653Z"
   },
   {
    "duration": 5,
    "start_time": "2023-04-03T07:51:13.661Z"
   },
   {
    "duration": 15,
    "start_time": "2023-04-03T07:51:13.667Z"
   },
   {
    "duration": 4,
    "start_time": "2023-04-03T07:51:13.684Z"
   },
   {
    "duration": 99,
    "start_time": "2023-04-03T07:51:13.689Z"
   },
   {
    "duration": 16,
    "start_time": "2023-04-03T07:51:13.790Z"
   },
   {
    "duration": 416,
    "start_time": "2023-04-03T07:52:57.762Z"
   },
   {
    "duration": 134,
    "start_time": "2023-04-03T07:52:58.181Z"
   },
   {
    "duration": 4,
    "start_time": "2023-04-03T07:52:58.317Z"
   },
   {
    "duration": 5,
    "start_time": "2023-04-03T07:52:58.324Z"
   },
   {
    "duration": 8723,
    "start_time": "2023-04-03T07:52:58.331Z"
   },
   {
    "duration": 3,
    "start_time": "2023-04-03T07:53:07.056Z"
   },
   {
    "duration": 54,
    "start_time": "2023-04-03T07:53:07.061Z"
   },
   {
    "duration": 9,
    "start_time": "2023-04-03T07:53:07.117Z"
   },
   {
    "duration": 3,
    "start_time": "2023-04-03T07:53:07.127Z"
   },
   {
    "duration": 31,
    "start_time": "2023-04-03T07:53:07.133Z"
   },
   {
    "duration": 6,
    "start_time": "2023-04-03T07:53:07.166Z"
   },
   {
    "duration": 10,
    "start_time": "2023-04-03T07:53:07.174Z"
   },
   {
    "duration": 38,
    "start_time": "2023-04-03T07:53:07.186Z"
   },
   {
    "duration": 5,
    "start_time": "2023-04-03T07:53:07.227Z"
   },
   {
    "duration": 14,
    "start_time": "2023-04-03T07:53:07.234Z"
   },
   {
    "duration": 37,
    "start_time": "2023-04-03T07:53:07.250Z"
   },
   {
    "duration": 7,
    "start_time": "2023-04-03T07:53:07.289Z"
   },
   {
    "duration": 18,
    "start_time": "2023-04-03T07:53:07.298Z"
   },
   {
    "duration": 25,
    "start_time": "2023-04-03T07:53:07.318Z"
   },
   {
    "duration": 23,
    "start_time": "2023-04-03T07:53:07.345Z"
   },
   {
    "duration": 14,
    "start_time": "2023-04-03T07:53:39.122Z"
   },
   {
    "duration": 475,
    "start_time": "2023-04-03T07:54:09.962Z"
   },
   {
    "duration": 159,
    "start_time": "2023-04-03T07:54:10.440Z"
   },
   {
    "duration": 3,
    "start_time": "2023-04-03T07:54:10.602Z"
   },
   {
    "duration": 5,
    "start_time": "2023-04-03T07:54:10.607Z"
   },
   {
    "duration": 9956,
    "start_time": "2023-04-03T07:54:10.614Z"
   },
   {
    "duration": 3,
    "start_time": "2023-04-03T07:54:20.572Z"
   },
   {
    "duration": 64,
    "start_time": "2023-04-03T07:54:20.577Z"
   },
   {
    "duration": 15,
    "start_time": "2023-04-03T07:54:20.643Z"
   },
   {
    "duration": 41,
    "start_time": "2023-04-03T07:54:20.659Z"
   },
   {
    "duration": 14,
    "start_time": "2023-04-03T07:54:20.702Z"
   },
   {
    "duration": 7,
    "start_time": "2023-04-03T07:54:20.718Z"
   },
   {
    "duration": 4,
    "start_time": "2023-04-03T07:54:20.726Z"
   },
   {
    "duration": 10,
    "start_time": "2023-04-03T07:54:20.732Z"
   },
   {
    "duration": 7,
    "start_time": "2023-04-03T07:54:20.744Z"
   },
   {
    "duration": 5,
    "start_time": "2023-04-03T07:54:20.752Z"
   },
   {
    "duration": 28,
    "start_time": "2023-04-03T07:54:20.758Z"
   },
   {
    "duration": 9,
    "start_time": "2023-04-03T07:54:20.788Z"
   },
   {
    "duration": 6,
    "start_time": "2023-04-03T07:54:20.799Z"
   },
   {
    "duration": 21,
    "start_time": "2023-04-03T07:54:20.806Z"
   },
   {
    "duration": 8,
    "start_time": "2023-04-03T07:54:20.829Z"
   },
   {
    "duration": 105,
    "start_time": "2023-04-03T07:54:35.922Z"
   },
   {
    "duration": 74,
    "start_time": "2023-04-03T07:54:38.799Z"
   },
   {
    "duration": 2,
    "start_time": "2023-04-03T07:55:58.037Z"
   },
   {
    "duration": 2,
    "start_time": "2023-04-03T07:56:09.239Z"
   },
   {
    "duration": 3,
    "start_time": "2023-04-03T07:56:24.398Z"
   },
   {
    "duration": 17,
    "start_time": "2023-04-03T07:57:08.410Z"
   },
   {
    "duration": 3,
    "start_time": "2023-04-03T07:59:37.040Z"
   },
   {
    "duration": 69,
    "start_time": "2023-04-03T07:59:55.601Z"
   },
   {
    "duration": 4,
    "start_time": "2023-04-03T08:00:00.769Z"
   },
   {
    "duration": 10,
    "start_time": "2023-04-03T08:00:48.403Z"
   },
   {
    "duration": 9,
    "start_time": "2023-04-03T08:00:51.592Z"
   },
   {
    "duration": 3,
    "start_time": "2023-04-03T08:04:50.892Z"
   },
   {
    "duration": 15,
    "start_time": "2023-04-03T08:04:57.325Z"
   },
   {
    "duration": 24,
    "start_time": "2023-04-03T08:05:03.280Z"
   },
   {
    "duration": 3,
    "start_time": "2023-04-03T08:05:26.039Z"
   },
   {
    "duration": 23,
    "start_time": "2023-04-03T08:05:27.183Z"
   },
   {
    "duration": 3,
    "start_time": "2023-04-03T08:06:05.680Z"
   },
   {
    "duration": 22,
    "start_time": "2023-04-03T08:06:08.345Z"
   },
   {
    "duration": 29,
    "start_time": "2023-04-03T08:06:15.185Z"
   },
   {
    "duration": 3,
    "start_time": "2023-04-03T08:06:16.737Z"
   },
   {
    "duration": 75,
    "start_time": "2023-04-03T08:06:16.979Z"
   },
   {
    "duration": 365,
    "start_time": "2023-04-03T08:06:22.020Z"
   },
   {
    "duration": 147,
    "start_time": "2023-04-03T08:06:22.388Z"
   },
   {
    "duration": 3,
    "start_time": "2023-04-03T08:06:22.536Z"
   },
   {
    "duration": 17,
    "start_time": "2023-04-03T08:06:22.541Z"
   },
   {
    "duration": 9181,
    "start_time": "2023-04-03T08:06:22.560Z"
   },
   {
    "duration": 3,
    "start_time": "2023-04-03T08:06:31.743Z"
   },
   {
    "duration": 93,
    "start_time": "2023-04-03T08:06:31.749Z"
   },
   {
    "duration": 25,
    "start_time": "2023-04-03T08:06:31.844Z"
   },
   {
    "duration": 31,
    "start_time": "2023-04-03T08:06:31.871Z"
   },
   {
    "duration": 56,
    "start_time": "2023-04-03T08:06:31.905Z"
   },
   {
    "duration": 29,
    "start_time": "2023-04-03T08:06:31.963Z"
   },
   {
    "duration": 16,
    "start_time": "2023-04-03T08:06:31.995Z"
   },
   {
    "duration": 16,
    "start_time": "2023-04-03T08:06:32.013Z"
   },
   {
    "duration": 9,
    "start_time": "2023-04-03T08:06:32.031Z"
   },
   {
    "duration": 19,
    "start_time": "2023-04-03T08:06:32.042Z"
   },
   {
    "duration": 47,
    "start_time": "2023-04-03T08:06:32.063Z"
   },
   {
    "duration": 8,
    "start_time": "2023-04-03T08:06:32.112Z"
   },
   {
    "duration": 14,
    "start_time": "2023-04-03T08:06:32.121Z"
   },
   {
    "duration": 24,
    "start_time": "2023-04-03T08:06:32.137Z"
   },
   {
    "duration": 11,
    "start_time": "2023-04-03T08:06:32.163Z"
   },
   {
    "duration": 10,
    "start_time": "2023-04-03T08:06:32.176Z"
   },
   {
    "duration": 35,
    "start_time": "2023-04-03T08:06:32.187Z"
   },
   {
    "duration": 386,
    "start_time": "2023-04-03T08:09:05.197Z"
   },
   {
    "duration": 136,
    "start_time": "2023-04-03T08:09:05.585Z"
   },
   {
    "duration": 3,
    "start_time": "2023-04-03T08:09:05.723Z"
   },
   {
    "duration": 7,
    "start_time": "2023-04-03T08:09:05.727Z"
   },
   {
    "duration": 8240,
    "start_time": "2023-04-03T08:09:05.736Z"
   },
   {
    "duration": 3,
    "start_time": "2023-04-03T08:09:13.978Z"
   },
   {
    "duration": 41,
    "start_time": "2023-04-03T08:09:13.982Z"
   },
   {
    "duration": 19,
    "start_time": "2023-04-03T08:09:14.025Z"
   },
   {
    "duration": 3,
    "start_time": "2023-04-03T08:09:14.046Z"
   },
   {
    "duration": 12,
    "start_time": "2023-04-03T08:09:14.052Z"
   },
   {
    "duration": 18,
    "start_time": "2023-04-03T08:09:14.067Z"
   },
   {
    "duration": 3,
    "start_time": "2023-04-03T08:09:14.087Z"
   },
   {
    "duration": 23,
    "start_time": "2023-04-03T08:09:14.092Z"
   },
   {
    "duration": 8,
    "start_time": "2023-04-03T08:09:14.117Z"
   },
   {
    "duration": 3,
    "start_time": "2023-04-03T08:09:14.128Z"
   },
   {
    "duration": 34,
    "start_time": "2023-04-03T08:09:14.133Z"
   },
   {
    "duration": 18,
    "start_time": "2023-04-03T08:09:14.169Z"
   },
   {
    "duration": 4,
    "start_time": "2023-04-03T08:09:14.189Z"
   },
   {
    "duration": 23,
    "start_time": "2023-04-03T08:09:14.195Z"
   },
   {
    "duration": 10,
    "start_time": "2023-04-03T08:09:14.220Z"
   },
   {
    "duration": 3,
    "start_time": "2023-04-03T08:09:47.809Z"
   },
   {
    "duration": 2,
    "start_time": "2023-04-03T08:10:27.761Z"
   },
   {
    "duration": 3,
    "start_time": "2023-04-03T08:10:39.389Z"
   },
   {
    "duration": 2,
    "start_time": "2023-04-03T08:12:42.790Z"
   },
   {
    "duration": 444,
    "start_time": "2023-04-03T08:12:55.260Z"
   },
   {
    "duration": 139,
    "start_time": "2023-04-03T08:12:55.706Z"
   },
   {
    "duration": 3,
    "start_time": "2023-04-03T08:12:55.848Z"
   },
   {
    "duration": 23,
    "start_time": "2023-04-03T08:12:55.853Z"
   },
   {
    "duration": 8627,
    "start_time": "2023-04-03T08:12:55.878Z"
   },
   {
    "duration": 6,
    "start_time": "2023-04-03T08:13:04.507Z"
   },
   {
    "duration": 75,
    "start_time": "2023-04-03T08:13:04.516Z"
   },
   {
    "duration": 17,
    "start_time": "2023-04-03T08:13:04.593Z"
   },
   {
    "duration": 3,
    "start_time": "2023-04-03T08:13:04.614Z"
   },
   {
    "duration": 16,
    "start_time": "2023-04-03T08:13:04.620Z"
   },
   {
    "duration": 9,
    "start_time": "2023-04-03T08:13:04.638Z"
   },
   {
    "duration": 8,
    "start_time": "2023-04-03T08:13:04.649Z"
   },
   {
    "duration": 23,
    "start_time": "2023-04-03T08:13:04.660Z"
   },
   {
    "duration": 7,
    "start_time": "2023-04-03T08:13:04.686Z"
   },
   {
    "duration": 10,
    "start_time": "2023-04-03T08:13:04.696Z"
   },
   {
    "duration": 62,
    "start_time": "2023-04-03T08:13:04.708Z"
   },
   {
    "duration": 8,
    "start_time": "2023-04-03T08:13:04.772Z"
   },
   {
    "duration": 18,
    "start_time": "2023-04-03T08:13:04.782Z"
   },
   {
    "duration": 27,
    "start_time": "2023-04-03T08:13:04.803Z"
   },
   {
    "duration": 27,
    "start_time": "2023-04-03T08:13:04.832Z"
   },
   {
    "duration": 16,
    "start_time": "2023-04-03T08:13:33.092Z"
   },
   {
    "duration": 79,
    "start_time": "2023-04-03T08:17:52.491Z"
   },
   {
    "duration": 15,
    "start_time": "2023-04-03T08:17:57.522Z"
   },
   {
    "duration": 3,
    "start_time": "2023-04-03T08:21:12.394Z"
   },
   {
    "duration": 8,
    "start_time": "2023-04-03T08:21:13.290Z"
   },
   {
    "duration": 7,
    "start_time": "2023-04-03T08:21:13.722Z"
   },
   {
    "duration": 15,
    "start_time": "2023-04-03T08:22:08.702Z"
   },
   {
    "duration": 390,
    "start_time": "2023-04-03T08:22:25.114Z"
   },
   {
    "duration": 141,
    "start_time": "2023-04-03T08:22:25.506Z"
   },
   {
    "duration": 4,
    "start_time": "2023-04-03T08:22:25.648Z"
   },
   {
    "duration": 6,
    "start_time": "2023-04-03T08:22:25.653Z"
   },
   {
    "duration": 8846,
    "start_time": "2023-04-03T08:22:25.660Z"
   },
   {
    "duration": 4,
    "start_time": "2023-04-03T08:22:34.508Z"
   },
   {
    "duration": 54,
    "start_time": "2023-04-03T08:22:34.513Z"
   },
   {
    "duration": 16,
    "start_time": "2023-04-03T08:22:34.569Z"
   },
   {
    "duration": 14,
    "start_time": "2023-04-03T08:22:34.587Z"
   },
   {
    "duration": 19,
    "start_time": "2023-04-03T08:22:34.604Z"
   },
   {
    "duration": 12,
    "start_time": "2023-04-03T08:22:34.625Z"
   },
   {
    "duration": 24,
    "start_time": "2023-04-03T08:22:34.639Z"
   },
   {
    "duration": 34,
    "start_time": "2023-04-03T08:22:34.665Z"
   },
   {
    "duration": 19,
    "start_time": "2023-04-03T08:22:34.701Z"
   },
   {
    "duration": 15,
    "start_time": "2023-04-03T08:22:34.722Z"
   },
   {
    "duration": 26,
    "start_time": "2023-04-03T08:22:34.739Z"
   },
   {
    "duration": 16,
    "start_time": "2023-04-03T08:22:34.768Z"
   },
   {
    "duration": 5,
    "start_time": "2023-04-03T08:22:34.786Z"
   },
   {
    "duration": 22,
    "start_time": "2023-04-03T08:22:34.792Z"
   },
   {
    "duration": 8,
    "start_time": "2023-04-03T08:22:34.816Z"
   },
   {
    "duration": 17,
    "start_time": "2023-04-03T08:22:34.825Z"
   },
   {
    "duration": 13,
    "start_time": "2023-04-03T08:25:10.283Z"
   },
   {
    "duration": 12,
    "start_time": "2023-04-03T08:25:24.985Z"
   },
   {
    "duration": 12,
    "start_time": "2023-04-03T08:26:18.546Z"
   },
   {
    "duration": 12,
    "start_time": "2023-04-03T08:26:27.942Z"
   },
   {
    "duration": 449,
    "start_time": "2023-04-03T08:26:32.347Z"
   },
   {
    "duration": 144,
    "start_time": "2023-04-03T08:26:32.798Z"
   },
   {
    "duration": 4,
    "start_time": "2023-04-03T08:26:32.943Z"
   },
   {
    "duration": 16,
    "start_time": "2023-04-03T08:26:32.949Z"
   },
   {
    "duration": 9123,
    "start_time": "2023-04-03T08:26:32.967Z"
   },
   {
    "duration": 3,
    "start_time": "2023-04-03T08:26:42.092Z"
   },
   {
    "duration": 56,
    "start_time": "2023-04-03T08:26:42.096Z"
   },
   {
    "duration": 20,
    "start_time": "2023-04-03T08:26:42.154Z"
   },
   {
    "duration": 11,
    "start_time": "2023-04-03T08:26:42.176Z"
   },
   {
    "duration": 14,
    "start_time": "2023-04-03T08:26:42.190Z"
   },
   {
    "duration": 7,
    "start_time": "2023-04-03T08:26:42.206Z"
   },
   {
    "duration": 3,
    "start_time": "2023-04-03T08:26:42.215Z"
   },
   {
    "duration": 11,
    "start_time": "2023-04-03T08:26:42.220Z"
   },
   {
    "duration": 7,
    "start_time": "2023-04-03T08:26:42.233Z"
   },
   {
    "duration": 7,
    "start_time": "2023-04-03T08:26:42.242Z"
   },
   {
    "duration": 35,
    "start_time": "2023-04-03T08:26:42.250Z"
   },
   {
    "duration": 8,
    "start_time": "2023-04-03T08:26:42.287Z"
   },
   {
    "duration": 3,
    "start_time": "2023-04-03T08:26:42.297Z"
   },
   {
    "duration": 15,
    "start_time": "2023-04-03T08:26:42.302Z"
   },
   {
    "duration": 9,
    "start_time": "2023-04-03T08:26:42.319Z"
   },
   {
    "duration": 15,
    "start_time": "2023-04-03T08:26:42.329Z"
   },
   {
    "duration": 187,
    "start_time": "2023-04-03T08:26:46.234Z"
   },
   {
    "duration": 140,
    "start_time": "2023-04-03T08:30:14.210Z"
   },
   {
    "duration": 277,
    "start_time": "2023-04-03T08:30:30.631Z"
   },
   {
    "duration": 524,
    "start_time": "2023-04-03T08:30:47.106Z"
   },
   {
    "duration": 394,
    "start_time": "2023-04-03T08:30:57.692Z"
   },
   {
    "duration": 133,
    "start_time": "2023-04-03T08:30:58.088Z"
   },
   {
    "duration": 3,
    "start_time": "2023-04-03T08:30:58.222Z"
   },
   {
    "duration": 13,
    "start_time": "2023-04-03T08:30:58.227Z"
   },
   {
    "duration": 27529,
    "start_time": "2023-04-03T08:30:58.241Z"
   },
   {
    "duration": 2,
    "start_time": "2023-04-03T08:31:25.772Z"
   },
   {
    "duration": 51,
    "start_time": "2023-04-03T08:31:25.776Z"
   },
   {
    "duration": 15,
    "start_time": "2023-04-03T08:31:25.829Z"
   },
   {
    "duration": 3,
    "start_time": "2023-04-03T08:31:25.845Z"
   },
   {
    "duration": 12,
    "start_time": "2023-04-03T08:31:25.850Z"
   },
   {
    "duration": 7,
    "start_time": "2023-04-03T08:31:25.863Z"
   },
   {
    "duration": 8,
    "start_time": "2023-04-03T08:31:25.871Z"
   },
   {
    "duration": 10,
    "start_time": "2023-04-03T08:31:25.881Z"
   },
   {
    "duration": 12,
    "start_time": "2023-04-03T08:31:25.893Z"
   },
   {
    "duration": 17,
    "start_time": "2023-04-03T08:31:25.907Z"
   },
   {
    "duration": 29,
    "start_time": "2023-04-03T08:31:25.926Z"
   },
   {
    "duration": 9,
    "start_time": "2023-04-03T08:31:25.957Z"
   },
   {
    "duration": 4,
    "start_time": "2023-04-03T08:31:25.968Z"
   },
   {
    "duration": 16,
    "start_time": "2023-04-03T08:31:25.976Z"
   },
   {
    "duration": 9,
    "start_time": "2023-04-03T08:31:25.995Z"
   },
   {
    "duration": 338,
    "start_time": "2023-04-03T08:31:26.007Z"
   },
   {
    "duration": 365,
    "start_time": "2023-04-03T08:31:48.749Z"
   },
   {
    "duration": 644,
    "start_time": "2023-04-03T08:34:41.454Z"
   },
   {
    "duration": 12,
    "start_time": "2023-04-03T08:34:45.079Z"
   },
   {
    "duration": 12,
    "start_time": "2023-04-03T08:34:50.586Z"
   },
   {
    "duration": 3,
    "start_time": "2023-04-03T08:35:23.837Z"
   },
   {
    "duration": 12,
    "start_time": "2023-04-03T08:47:28.273Z"
   },
   {
    "duration": 17,
    "start_time": "2023-04-03T08:47:35.175Z"
   },
   {
    "duration": 11,
    "start_time": "2023-04-03T08:48:17.152Z"
   },
   {
    "duration": 456,
    "start_time": "2023-04-03T08:48:24.786Z"
   },
   {
    "duration": 137,
    "start_time": "2023-04-03T08:48:25.244Z"
   },
   {
    "duration": 4,
    "start_time": "2023-04-03T08:48:25.383Z"
   },
   {
    "duration": 13,
    "start_time": "2023-04-03T08:48:25.389Z"
   },
   {
    "duration": 13728,
    "start_time": "2023-04-03T08:48:25.403Z"
   },
   {
    "duration": 3,
    "start_time": "2023-04-03T08:48:39.133Z"
   },
   {
    "duration": 52,
    "start_time": "2023-04-03T08:48:39.137Z"
   },
   {
    "duration": 15,
    "start_time": "2023-04-03T08:48:39.191Z"
   },
   {
    "duration": 3,
    "start_time": "2023-04-03T08:48:39.208Z"
   },
   {
    "duration": 11,
    "start_time": "2023-04-03T08:48:39.214Z"
   },
   {
    "duration": 7,
    "start_time": "2023-04-03T08:48:39.226Z"
   },
   {
    "duration": 6,
    "start_time": "2023-04-03T08:48:39.234Z"
   },
   {
    "duration": 13,
    "start_time": "2023-04-03T08:48:39.242Z"
   },
   {
    "duration": 21,
    "start_time": "2023-04-03T08:48:39.257Z"
   },
   {
    "duration": 21,
    "start_time": "2023-04-03T08:48:39.280Z"
   },
   {
    "duration": 41,
    "start_time": "2023-04-03T08:48:39.303Z"
   },
   {
    "duration": 7,
    "start_time": "2023-04-03T08:48:39.346Z"
   },
   {
    "duration": 24,
    "start_time": "2023-04-03T08:48:39.355Z"
   },
   {
    "duration": 31,
    "start_time": "2023-04-03T08:48:39.380Z"
   },
   {
    "duration": 20,
    "start_time": "2023-04-03T08:48:39.413Z"
   },
   {
    "duration": 22,
    "start_time": "2023-04-03T08:48:39.435Z"
   },
   {
    "duration": 10,
    "start_time": "2023-04-03T08:48:39.459Z"
   },
   {
    "duration": 12,
    "start_time": "2023-04-03T08:49:00.081Z"
   },
   {
    "duration": 12,
    "start_time": "2023-04-03T08:49:39.945Z"
   },
   {
    "duration": 13,
    "start_time": "2023-04-03T08:50:09.585Z"
   },
   {
    "duration": 204,
    "start_time": "2023-04-03T08:50:26.152Z"
   },
   {
    "duration": 666,
    "start_time": "2023-04-03T08:50:38.921Z"
   },
   {
    "duration": 11,
    "start_time": "2023-04-03T08:51:29.556Z"
   },
   {
    "duration": 11,
    "start_time": "2023-04-03T08:51:34.861Z"
   },
   {
    "duration": 124,
    "start_time": "2023-04-03T08:52:30.581Z"
   },
   {
    "duration": 158,
    "start_time": "2023-04-03T08:52:36.873Z"
   },
   {
    "duration": 122,
    "start_time": "2023-04-03T08:52:50.412Z"
   },
   {
    "duration": 140,
    "start_time": "2023-04-03T09:09:07.756Z"
   },
   {
    "duration": 15,
    "start_time": "2023-04-03T09:09:42.963Z"
   },
   {
    "duration": 196,
    "start_time": "2023-04-03T09:10:31.613Z"
   },
   {
    "duration": 15,
    "start_time": "2023-04-03T09:11:03.023Z"
   },
   {
    "duration": 15,
    "start_time": "2023-04-03T09:11:35.884Z"
   },
   {
    "duration": 15,
    "start_time": "2023-04-03T09:12:08.460Z"
   },
   {
    "duration": 17,
    "start_time": "2023-04-03T09:12:31.826Z"
   },
   {
    "duration": 3,
    "start_time": "2023-04-03T09:12:50.419Z"
   },
   {
    "duration": 154,
    "start_time": "2023-04-03T09:13:15.379Z"
   },
   {
    "duration": 15,
    "start_time": "2023-04-03T09:54:58.533Z"
   },
   {
    "duration": 439,
    "start_time": "2023-04-03T12:00:17.167Z"
   },
   {
    "duration": 145,
    "start_time": "2023-04-03T12:00:17.609Z"
   },
   {
    "duration": 3,
    "start_time": "2023-04-03T12:00:17.756Z"
   },
   {
    "duration": 9,
    "start_time": "2023-04-03T12:00:17.761Z"
   },
   {
    "duration": 9818,
    "start_time": "2023-04-03T12:00:17.775Z"
   },
   {
    "duration": 2,
    "start_time": "2023-04-03T12:00:27.596Z"
   },
   {
    "duration": 67,
    "start_time": "2023-04-03T12:00:27.600Z"
   },
   {
    "duration": 16,
    "start_time": "2023-04-03T12:00:27.669Z"
   },
   {
    "duration": 2,
    "start_time": "2023-04-03T12:00:27.687Z"
   },
   {
    "duration": 12,
    "start_time": "2023-04-03T12:00:27.690Z"
   },
   {
    "duration": 6,
    "start_time": "2023-04-03T12:00:27.704Z"
   },
   {
    "duration": 4,
    "start_time": "2023-04-03T12:00:27.712Z"
   },
   {
    "duration": 11,
    "start_time": "2023-04-03T12:00:27.717Z"
   },
   {
    "duration": 7,
    "start_time": "2023-04-03T12:00:27.731Z"
   },
   {
    "duration": 6,
    "start_time": "2023-04-03T12:00:27.739Z"
   },
   {
    "duration": 51,
    "start_time": "2023-04-03T12:00:27.746Z"
   },
   {
    "duration": 9,
    "start_time": "2023-04-03T12:00:27.800Z"
   },
   {
    "duration": 9,
    "start_time": "2023-04-03T12:00:27.811Z"
   },
   {
    "duration": 18,
    "start_time": "2023-04-03T12:00:27.822Z"
   },
   {
    "duration": 9,
    "start_time": "2023-04-03T12:00:27.842Z"
   },
   {
    "duration": 31,
    "start_time": "2023-04-03T12:00:27.853Z"
   },
   {
    "duration": 17,
    "start_time": "2023-04-03T12:00:27.886Z"
   },
   {
    "duration": 14,
    "start_time": "2023-04-03T12:00:27.905Z"
   },
   {
    "duration": 395,
    "start_time": "2023-04-03T12:01:09.736Z"
   },
   {
    "duration": 142,
    "start_time": "2023-04-03T12:01:10.133Z"
   },
   {
    "duration": 2,
    "start_time": "2023-04-03T12:01:10.277Z"
   },
   {
    "duration": 5,
    "start_time": "2023-04-03T12:01:10.282Z"
   },
   {
    "duration": 8636,
    "start_time": "2023-04-03T12:01:10.289Z"
   },
   {
    "duration": 2,
    "start_time": "2023-04-03T12:01:18.927Z"
   },
   {
    "duration": 50,
    "start_time": "2023-04-03T12:01:18.931Z"
   },
   {
    "duration": 15,
    "start_time": "2023-04-03T12:01:18.983Z"
   },
   {
    "duration": 13,
    "start_time": "2023-04-03T12:01:18.999Z"
   },
   {
    "duration": 29,
    "start_time": "2023-04-03T12:01:19.014Z"
   },
   {
    "duration": 11,
    "start_time": "2023-04-03T12:01:19.045Z"
   },
   {
    "duration": 14,
    "start_time": "2023-04-03T12:01:19.057Z"
   },
   {
    "duration": 13,
    "start_time": "2023-04-03T12:01:19.073Z"
   },
   {
    "duration": 26,
    "start_time": "2023-04-03T12:01:19.088Z"
   },
   {
    "duration": 5,
    "start_time": "2023-04-03T12:01:19.115Z"
   },
   {
    "duration": 28,
    "start_time": "2023-04-03T12:01:19.122Z"
   },
   {
    "duration": 8,
    "start_time": "2023-04-03T12:01:19.151Z"
   },
   {
    "duration": 9,
    "start_time": "2023-04-03T12:01:19.161Z"
   },
   {
    "duration": 19,
    "start_time": "2023-04-03T12:01:19.171Z"
   },
   {
    "duration": 28,
    "start_time": "2023-04-03T12:01:19.192Z"
   },
   {
    "duration": 20,
    "start_time": "2023-04-03T12:01:19.222Z"
   },
   {
    "duration": 25,
    "start_time": "2023-04-03T12:01:19.244Z"
   },
   {
    "duration": 12,
    "start_time": "2023-04-03T12:01:19.271Z"
   },
   {
    "duration": 3,
    "start_time": "2023-04-03T12:02:03.728Z"
   },
   {
    "duration": 169,
    "start_time": "2023-04-03T12:19:05.218Z"
   },
   {
    "duration": 125,
    "start_time": "2023-04-03T12:19:32.447Z"
   },
   {
    "duration": 18,
    "start_time": "2023-04-03T12:19:49.091Z"
   },
   {
    "duration": 16,
    "start_time": "2023-04-03T12:20:00.573Z"
   },
   {
    "duration": 381,
    "start_time": "2023-04-03T12:20:07.419Z"
   },
   {
    "duration": 134,
    "start_time": "2023-04-03T12:20:07.801Z"
   },
   {
    "duration": 3,
    "start_time": "2023-04-03T12:20:07.937Z"
   },
   {
    "duration": 24,
    "start_time": "2023-04-03T12:20:07.942Z"
   },
   {
    "duration": 9539,
    "start_time": "2023-04-03T12:20:07.968Z"
   },
   {
    "duration": 2,
    "start_time": "2023-04-03T12:20:17.509Z"
   },
   {
    "duration": 46,
    "start_time": "2023-04-03T12:20:17.513Z"
   },
   {
    "duration": 15,
    "start_time": "2023-04-03T12:20:17.561Z"
   },
   {
    "duration": 3,
    "start_time": "2023-04-03T12:20:17.578Z"
   },
   {
    "duration": 10,
    "start_time": "2023-04-03T12:20:17.584Z"
   },
   {
    "duration": 7,
    "start_time": "2023-04-03T12:20:17.596Z"
   },
   {
    "duration": 4,
    "start_time": "2023-04-03T12:20:17.604Z"
   },
   {
    "duration": 10,
    "start_time": "2023-04-03T12:20:17.609Z"
   },
   {
    "duration": 8,
    "start_time": "2023-04-03T12:20:17.621Z"
   },
   {
    "duration": 33,
    "start_time": "2023-04-03T12:20:17.631Z"
   },
   {
    "duration": 29,
    "start_time": "2023-04-03T12:20:17.666Z"
   },
   {
    "duration": 8,
    "start_time": "2023-04-03T12:20:17.697Z"
   },
   {
    "duration": 6,
    "start_time": "2023-04-03T12:20:17.707Z"
   },
   {
    "duration": 38,
    "start_time": "2023-04-03T12:20:17.715Z"
   },
   {
    "duration": 9,
    "start_time": "2023-04-03T12:20:17.754Z"
   },
   {
    "duration": 13,
    "start_time": "2023-04-03T12:20:17.765Z"
   },
   {
    "duration": 15,
    "start_time": "2023-04-03T12:20:17.780Z"
   },
   {
    "duration": 16,
    "start_time": "2023-04-03T12:20:17.797Z"
   },
   {
    "duration": 18,
    "start_time": "2023-04-03T12:20:17.815Z"
   },
   {
    "duration": 17,
    "start_time": "2023-04-03T12:20:58.062Z"
   },
   {
    "duration": 16,
    "start_time": "2023-04-03T12:21:02.874Z"
   },
   {
    "duration": 203,
    "start_time": "2023-04-03T12:24:54.210Z"
   },
   {
    "duration": 17,
    "start_time": "2023-04-03T12:24:57.686Z"
   },
   {
    "duration": 414,
    "start_time": "2023-04-03T13:02:37.774Z"
   },
   {
    "duration": 134,
    "start_time": "2023-04-03T13:02:38.190Z"
   },
   {
    "duration": 3,
    "start_time": "2023-04-03T13:02:38.325Z"
   },
   {
    "duration": 8,
    "start_time": "2023-04-03T13:02:38.330Z"
   },
   {
    "duration": 8371,
    "start_time": "2023-04-03T13:02:38.341Z"
   },
   {
    "duration": 3,
    "start_time": "2023-04-03T13:02:46.714Z"
   },
   {
    "duration": 108,
    "start_time": "2023-04-03T13:02:46.719Z"
   },
   {
    "duration": 15,
    "start_time": "2023-04-03T13:02:46.829Z"
   },
   {
    "duration": 6,
    "start_time": "2023-04-03T13:02:46.845Z"
   },
   {
    "duration": 11,
    "start_time": "2023-04-03T13:02:46.853Z"
   },
   {
    "duration": 6,
    "start_time": "2023-04-03T13:02:46.866Z"
   },
   {
    "duration": 3,
    "start_time": "2023-04-03T13:02:46.874Z"
   },
   {
    "duration": 17,
    "start_time": "2023-04-03T13:02:46.879Z"
   },
   {
    "duration": 6,
    "start_time": "2023-04-03T13:02:46.899Z"
   },
   {
    "duration": 10,
    "start_time": "2023-04-03T13:02:46.907Z"
   },
   {
    "duration": 27,
    "start_time": "2023-04-03T13:02:46.918Z"
   },
   {
    "duration": 8,
    "start_time": "2023-04-03T13:02:46.946Z"
   },
   {
    "duration": 19,
    "start_time": "2023-04-03T13:02:46.955Z"
   },
   {
    "duration": 19,
    "start_time": "2023-04-03T13:02:46.976Z"
   },
   {
    "duration": 8,
    "start_time": "2023-04-03T13:02:46.996Z"
   },
   {
    "duration": 26,
    "start_time": "2023-04-03T13:02:47.005Z"
   },
   {
    "duration": 20,
    "start_time": "2023-04-03T13:02:47.032Z"
   },
   {
    "duration": 12,
    "start_time": "2023-04-03T13:02:47.053Z"
   },
   {
    "duration": 23,
    "start_time": "2023-04-03T13:02:47.067Z"
   },
   {
    "duration": 17,
    "start_time": "2023-04-03T13:03:00.330Z"
   },
   {
    "duration": 16,
    "start_time": "2023-04-03T13:03:10.943Z"
   },
   {
    "duration": 16,
    "start_time": "2023-04-03T13:03:16.503Z"
   },
   {
    "duration": 18,
    "start_time": "2023-04-03T13:03:20.618Z"
   },
   {
    "duration": 15,
    "start_time": "2023-04-03T14:17:21.079Z"
   },
   {
    "duration": 162,
    "start_time": "2023-04-03T14:32:06.699Z"
   },
   {
    "duration": 792,
    "start_time": "2023-04-03T14:32:28.482Z"
   },
   {
    "duration": 30,
    "start_time": "2023-04-03T14:32:44.251Z"
   },
   {
    "duration": 43,
    "start_time": "2023-04-04T07:00:57.566Z"
   },
   {
    "duration": 385,
    "start_time": "2023-04-04T07:01:02.662Z"
   },
   {
    "duration": 113,
    "start_time": "2023-04-04T07:01:03.048Z"
   },
   {
    "duration": 6,
    "start_time": "2023-04-04T07:01:03.162Z"
   },
   {
    "duration": 3,
    "start_time": "2023-04-04T07:01:03.170Z"
   },
   {
    "duration": 8605,
    "start_time": "2023-04-04T07:01:03.176Z"
   },
   {
    "duration": 3,
    "start_time": "2023-04-04T07:01:11.783Z"
   },
   {
    "duration": 52,
    "start_time": "2023-04-04T07:01:11.788Z"
   },
   {
    "duration": 12,
    "start_time": "2023-04-04T07:01:11.841Z"
   },
   {
    "duration": 15,
    "start_time": "2023-04-04T07:01:11.854Z"
   },
   {
    "duration": 9,
    "start_time": "2023-04-04T07:01:11.871Z"
   },
   {
    "duration": 5,
    "start_time": "2023-04-04T07:01:11.881Z"
   },
   {
    "duration": 5,
    "start_time": "2023-04-04T07:01:11.887Z"
   },
   {
    "duration": 8,
    "start_time": "2023-04-04T07:01:11.893Z"
   },
   {
    "duration": 6,
    "start_time": "2023-04-04T07:01:11.903Z"
   },
   {
    "duration": 2,
    "start_time": "2023-04-04T07:01:11.910Z"
   },
   {
    "duration": 20,
    "start_time": "2023-04-04T07:01:11.913Z"
   },
   {
    "duration": 6,
    "start_time": "2023-04-04T07:01:11.934Z"
   },
   {
    "duration": 27,
    "start_time": "2023-04-04T07:01:11.941Z"
   },
   {
    "duration": 12,
    "start_time": "2023-04-04T07:01:11.969Z"
   },
   {
    "duration": 5,
    "start_time": "2023-04-04T07:01:11.983Z"
   },
   {
    "duration": 9,
    "start_time": "2023-04-04T07:01:11.990Z"
   },
   {
    "duration": 34,
    "start_time": "2023-04-04T07:01:12.001Z"
   },
   {
    "duration": 18,
    "start_time": "2023-04-04T07:01:12.036Z"
   },
   {
    "duration": 10,
    "start_time": "2023-04-04T07:01:12.056Z"
   },
   {
    "duration": 21,
    "start_time": "2023-04-04T07:01:12.067Z"
   },
   {
    "duration": 14,
    "start_time": "2023-04-04T07:01:12.090Z"
   },
   {
    "duration": 71,
    "start_time": "2023-04-04T07:01:12.106Z"
   },
   {
    "duration": 19,
    "start_time": "2023-04-04T07:01:36.306Z"
   },
   {
    "duration": 381,
    "start_time": "2023-04-04T07:01:41.677Z"
   },
   {
    "duration": 138,
    "start_time": "2023-04-04T07:01:42.059Z"
   },
   {
    "duration": 2,
    "start_time": "2023-04-04T07:01:42.199Z"
   },
   {
    "duration": 8,
    "start_time": "2023-04-04T07:01:42.203Z"
   },
   {
    "duration": 8363,
    "start_time": "2023-04-04T07:01:42.212Z"
   },
   {
    "duration": 3,
    "start_time": "2023-04-04T07:01:50.576Z"
   },
   {
    "duration": 45,
    "start_time": "2023-04-04T07:01:50.581Z"
   },
   {
    "duration": 13,
    "start_time": "2023-04-04T07:01:50.629Z"
   },
   {
    "duration": 2,
    "start_time": "2023-04-04T07:01:50.646Z"
   },
   {
    "duration": 11,
    "start_time": "2023-04-04T07:01:50.650Z"
   },
   {
    "duration": 8,
    "start_time": "2023-04-04T07:01:50.663Z"
   },
   {
    "duration": 8,
    "start_time": "2023-04-04T07:01:50.673Z"
   },
   {
    "duration": 13,
    "start_time": "2023-04-04T07:01:50.682Z"
   },
   {
    "duration": 11,
    "start_time": "2023-04-04T07:01:50.696Z"
   },
   {
    "duration": 4,
    "start_time": "2023-04-04T07:01:50.710Z"
   },
   {
    "duration": 42,
    "start_time": "2023-04-04T07:01:50.716Z"
   },
   {
    "duration": 6,
    "start_time": "2023-04-04T07:01:50.760Z"
   },
   {
    "duration": 3,
    "start_time": "2023-04-04T07:01:50.768Z"
   },
   {
    "duration": 19,
    "start_time": "2023-04-04T07:01:50.773Z"
   },
   {
    "duration": 7,
    "start_time": "2023-04-04T07:01:50.794Z"
   },
   {
    "duration": 15,
    "start_time": "2023-04-04T07:01:50.803Z"
   },
   {
    "duration": 41,
    "start_time": "2023-04-04T07:01:50.820Z"
   },
   {
    "duration": 29,
    "start_time": "2023-04-04T07:01:50.863Z"
   },
   {
    "duration": 11,
    "start_time": "2023-04-04T07:01:50.894Z"
   },
   {
    "duration": 20,
    "start_time": "2023-04-04T07:01:50.907Z"
   },
   {
    "duration": 19,
    "start_time": "2023-04-04T07:01:50.929Z"
   },
   {
    "duration": 71,
    "start_time": "2023-04-04T07:01:50.953Z"
   },
   {
    "duration": 449,
    "start_time": "2023-04-04T07:02:08.758Z"
   },
   {
    "duration": 124,
    "start_time": "2023-04-04T07:02:09.209Z"
   },
   {
    "duration": 2,
    "start_time": "2023-04-04T07:02:09.335Z"
   },
   {
    "duration": 19,
    "start_time": "2023-04-04T07:02:09.339Z"
   },
   {
    "duration": 8523,
    "start_time": "2023-04-04T07:02:09.360Z"
   },
   {
    "duration": 4,
    "start_time": "2023-04-04T07:02:17.884Z"
   },
   {
    "duration": 48,
    "start_time": "2023-04-04T07:02:17.889Z"
   },
   {
    "duration": 18,
    "start_time": "2023-04-04T07:02:17.939Z"
   },
   {
    "duration": 3,
    "start_time": "2023-04-04T07:02:17.959Z"
   },
   {
    "duration": 18,
    "start_time": "2023-04-04T07:02:17.964Z"
   },
   {
    "duration": 8,
    "start_time": "2023-04-04T07:02:17.984Z"
   },
   {
    "duration": 7,
    "start_time": "2023-04-04T07:02:17.994Z"
   },
   {
    "duration": 15,
    "start_time": "2023-04-04T07:02:18.003Z"
   },
   {
    "duration": 7,
    "start_time": "2023-04-04T07:02:18.022Z"
   },
   {
    "duration": 5,
    "start_time": "2023-04-04T07:02:18.031Z"
   },
   {
    "duration": 27,
    "start_time": "2023-04-04T07:02:18.038Z"
   },
   {
    "duration": 9,
    "start_time": "2023-04-04T07:02:18.069Z"
   },
   {
    "duration": 5,
    "start_time": "2023-04-04T07:02:18.079Z"
   },
   {
    "duration": 14,
    "start_time": "2023-04-04T07:02:18.086Z"
   },
   {
    "duration": 6,
    "start_time": "2023-04-04T07:02:18.101Z"
   },
   {
    "duration": 10,
    "start_time": "2023-04-04T07:02:18.109Z"
   },
   {
    "duration": 22,
    "start_time": "2023-04-04T07:02:18.120Z"
   },
   {
    "duration": 36,
    "start_time": "2023-04-04T07:02:18.143Z"
   },
   {
    "duration": 11,
    "start_time": "2023-04-04T07:02:18.180Z"
   },
   {
    "duration": 14,
    "start_time": "2023-04-04T07:02:18.193Z"
   },
   {
    "duration": 12,
    "start_time": "2023-04-04T07:02:18.208Z"
   },
   {
    "duration": 73,
    "start_time": "2023-04-04T07:02:18.222Z"
   },
   {
    "duration": 22,
    "start_time": "2023-04-04T07:02:29.506Z"
   },
   {
    "duration": 16,
    "start_time": "2023-04-04T07:02:59.121Z"
   },
   {
    "duration": 158,
    "start_time": "2023-04-04T07:03:13.205Z"
   },
   {
    "duration": 19,
    "start_time": "2023-04-04T07:03:16.853Z"
   },
   {
    "duration": 112,
    "start_time": "2023-04-04T07:03:32.029Z"
   },
   {
    "duration": 19,
    "start_time": "2023-04-04T07:03:36.085Z"
   },
   {
    "duration": 16,
    "start_time": "2023-04-04T07:04:20.256Z"
   },
   {
    "duration": 341,
    "start_time": "2023-04-04T07:04:26.507Z"
   },
   {
    "duration": 118,
    "start_time": "2023-04-04T07:04:26.850Z"
   },
   {
    "duration": 3,
    "start_time": "2023-04-04T07:04:26.970Z"
   },
   {
    "duration": 4,
    "start_time": "2023-04-04T07:04:26.975Z"
   },
   {
    "duration": 8683,
    "start_time": "2023-04-04T07:04:26.981Z"
   },
   {
    "duration": 3,
    "start_time": "2023-04-04T07:04:35.666Z"
   },
   {
    "duration": 52,
    "start_time": "2023-04-04T07:04:35.670Z"
   },
   {
    "duration": 15,
    "start_time": "2023-04-04T07:04:35.724Z"
   },
   {
    "duration": 14,
    "start_time": "2023-04-04T07:04:35.740Z"
   },
   {
    "duration": 10,
    "start_time": "2023-04-04T07:04:35.756Z"
   },
   {
    "duration": 6,
    "start_time": "2023-04-04T07:04:35.767Z"
   },
   {
    "duration": 3,
    "start_time": "2023-04-04T07:04:35.775Z"
   },
   {
    "duration": 11,
    "start_time": "2023-04-04T07:04:35.780Z"
   },
   {
    "duration": 7,
    "start_time": "2023-04-04T07:04:35.793Z"
   },
   {
    "duration": 5,
    "start_time": "2023-04-04T07:04:35.802Z"
   },
   {
    "duration": 29,
    "start_time": "2023-04-04T07:04:35.808Z"
   },
   {
    "duration": 7,
    "start_time": "2023-04-04T07:04:35.838Z"
   },
   {
    "duration": 6,
    "start_time": "2023-04-04T07:04:35.846Z"
   },
   {
    "duration": 12,
    "start_time": "2023-04-04T07:04:35.869Z"
   },
   {
    "duration": 6,
    "start_time": "2023-04-04T07:04:35.883Z"
   },
   {
    "duration": 16,
    "start_time": "2023-04-04T07:04:35.890Z"
   },
   {
    "duration": 20,
    "start_time": "2023-04-04T07:04:35.907Z"
   },
   {
    "duration": 11,
    "start_time": "2023-04-04T07:04:35.928Z"
   },
   {
    "duration": 11,
    "start_time": "2023-04-04T07:04:35.940Z"
   },
   {
    "duration": 16,
    "start_time": "2023-04-04T07:04:35.953Z"
   },
   {
    "duration": 11,
    "start_time": "2023-04-04T07:04:35.970Z"
   },
   {
    "duration": 71,
    "start_time": "2023-04-04T07:04:35.983Z"
   },
   {
    "duration": 15,
    "start_time": "2023-04-04T07:04:50.509Z"
   },
   {
    "duration": 20,
    "start_time": "2023-04-04T07:17:16.022Z"
   },
   {
    "duration": 225,
    "start_time": "2023-04-04T07:17:33.192Z"
   },
   {
    "duration": 25,
    "start_time": "2023-04-04T07:18:01.062Z"
   },
   {
    "duration": 28,
    "start_time": "2023-04-04T07:38:58.228Z"
   },
   {
    "duration": 347,
    "start_time": "2023-04-04T07:39:31.328Z"
   },
   {
    "duration": 176,
    "start_time": "2023-04-04T07:39:35.013Z"
   },
   {
    "duration": 23,
    "start_time": "2023-04-04T07:39:48.345Z"
   },
   {
    "duration": 19,
    "start_time": "2023-04-04T07:40:55.352Z"
   },
   {
    "duration": 53,
    "start_time": "2023-04-04T07:41:12.911Z"
   },
   {
    "duration": 118,
    "start_time": "2023-04-04T07:41:23.071Z"
   },
   {
    "duration": 20,
    "start_time": "2023-04-04T07:41:51.112Z"
   },
   {
    "duration": 14,
    "start_time": "2023-04-04T07:42:35.476Z"
   },
   {
    "duration": 15,
    "start_time": "2023-04-04T07:42:38.016Z"
   },
   {
    "duration": 98,
    "start_time": "2023-04-04T07:43:26.784Z"
   },
   {
    "duration": 111,
    "start_time": "2023-04-04T07:43:39.532Z"
   },
   {
    "duration": 109,
    "start_time": "2023-04-04T08:13:21.865Z"
   },
   {
    "duration": 105,
    "start_time": "2023-04-04T08:13:44.948Z"
   },
   {
    "duration": 21,
    "start_time": "2023-04-04T08:13:55.056Z"
   },
   {
    "duration": 23,
    "start_time": "2023-04-04T08:14:05.377Z"
   },
   {
    "duration": 22,
    "start_time": "2023-04-04T08:14:27.228Z"
   },
   {
    "duration": 142,
    "start_time": "2023-04-04T08:14:46.145Z"
   },
   {
    "duration": 21,
    "start_time": "2023-04-04T08:15:14.840Z"
   },
   {
    "duration": 120,
    "start_time": "2023-04-04T09:47:43.574Z"
   },
   {
    "duration": 50,
    "start_time": "2023-04-04T09:47:51.386Z"
   },
   {
    "duration": 355,
    "start_time": "2023-04-04T09:49:01.388Z"
   },
   {
    "duration": 116,
    "start_time": "2023-04-04T09:49:01.744Z"
   },
   {
    "duration": 3,
    "start_time": "2023-04-04T09:49:01.861Z"
   },
   {
    "duration": 17,
    "start_time": "2023-04-04T09:49:01.871Z"
   },
   {
    "duration": 9442,
    "start_time": "2023-04-04T09:49:01.890Z"
   },
   {
    "duration": 2,
    "start_time": "2023-04-04T09:49:11.334Z"
   },
   {
    "duration": 57,
    "start_time": "2023-04-04T09:49:11.338Z"
   },
   {
    "duration": 18,
    "start_time": "2023-04-04T09:49:11.397Z"
   },
   {
    "duration": 10,
    "start_time": "2023-04-04T09:49:11.417Z"
   },
   {
    "duration": 16,
    "start_time": "2023-04-04T09:49:11.429Z"
   },
   {
    "duration": 6,
    "start_time": "2023-04-04T09:49:11.446Z"
   },
   {
    "duration": 29,
    "start_time": "2023-04-04T09:49:11.454Z"
   },
   {
    "duration": 22,
    "start_time": "2023-04-04T09:49:11.485Z"
   },
   {
    "duration": 20,
    "start_time": "2023-04-04T09:49:11.508Z"
   },
   {
    "duration": 4,
    "start_time": "2023-04-04T09:49:11.529Z"
   },
   {
    "duration": 28,
    "start_time": "2023-04-04T09:49:11.534Z"
   },
   {
    "duration": 13,
    "start_time": "2023-04-04T09:49:11.564Z"
   },
   {
    "duration": 21,
    "start_time": "2023-04-04T09:49:11.586Z"
   },
   {
    "duration": 28,
    "start_time": "2023-04-04T09:49:11.609Z"
   },
   {
    "duration": 13,
    "start_time": "2023-04-04T09:49:11.639Z"
   },
   {
    "duration": 36,
    "start_time": "2023-04-04T09:49:11.653Z"
   },
   {
    "duration": 24,
    "start_time": "2023-04-04T09:49:11.691Z"
   },
   {
    "duration": 24,
    "start_time": "2023-04-04T09:49:11.716Z"
   },
   {
    "duration": 14,
    "start_time": "2023-04-04T09:49:11.742Z"
   },
   {
    "duration": 37,
    "start_time": "2023-04-04T09:49:11.758Z"
   },
   {
    "duration": 34,
    "start_time": "2023-04-04T09:49:11.797Z"
   },
   {
    "duration": 11,
    "start_time": "2023-04-04T09:49:11.833Z"
   },
   {
    "duration": 72,
    "start_time": "2023-04-04T09:49:41.887Z"
   },
   {
    "duration": 74,
    "start_time": "2023-04-04T09:49:43.683Z"
   },
   {
    "duration": 177,
    "start_time": "2023-04-04T09:50:10.082Z"
   },
   {
    "duration": 19,
    "start_time": "2023-04-04T09:50:20.510Z"
   },
   {
    "duration": 401,
    "start_time": "2023-04-04T09:51:20.284Z"
   },
   {
    "duration": 115,
    "start_time": "2023-04-04T09:51:20.687Z"
   },
   {
    "duration": 3,
    "start_time": "2023-04-04T09:51:20.803Z"
   },
   {
    "duration": 14,
    "start_time": "2023-04-04T09:51:20.807Z"
   },
   {
    "duration": 9128,
    "start_time": "2023-04-04T09:51:20.823Z"
   },
   {
    "duration": 2,
    "start_time": "2023-04-04T09:51:29.953Z"
   },
   {
    "duration": 56,
    "start_time": "2023-04-04T09:51:29.956Z"
   },
   {
    "duration": 15,
    "start_time": "2023-04-04T09:51:30.014Z"
   },
   {
    "duration": 4,
    "start_time": "2023-04-04T09:51:30.030Z"
   },
   {
    "duration": 11,
    "start_time": "2023-04-04T09:51:30.035Z"
   },
   {
    "duration": 7,
    "start_time": "2023-04-04T09:51:30.048Z"
   },
   {
    "duration": 10,
    "start_time": "2023-04-04T09:51:30.057Z"
   },
   {
    "duration": 29,
    "start_time": "2023-04-04T09:51:30.074Z"
   },
   {
    "duration": 17,
    "start_time": "2023-04-04T09:51:30.106Z"
   },
   {
    "duration": 42,
    "start_time": "2023-04-04T09:51:30.124Z"
   },
   {
    "duration": 89,
    "start_time": "2023-04-04T09:51:30.167Z"
   },
   {
    "duration": 26,
    "start_time": "2023-04-04T09:51:30.258Z"
   },
   {
    "duration": 40,
    "start_time": "2023-04-04T09:51:30.286Z"
   },
   {
    "duration": 69,
    "start_time": "2023-04-04T09:51:30.327Z"
   },
   {
    "duration": 31,
    "start_time": "2023-04-04T09:51:30.398Z"
   },
   {
    "duration": 50,
    "start_time": "2023-04-04T09:51:30.430Z"
   },
   {
    "duration": 57,
    "start_time": "2023-04-04T09:51:30.483Z"
   },
   {
    "duration": 59,
    "start_time": "2023-04-04T09:51:30.541Z"
   },
   {
    "duration": 18,
    "start_time": "2023-04-04T09:51:30.602Z"
   },
   {
    "duration": 38,
    "start_time": "2023-04-04T09:51:30.622Z"
   },
   {
    "duration": 48,
    "start_time": "2023-04-04T09:51:30.662Z"
   },
   {
    "duration": 42,
    "start_time": "2023-04-04T09:51:30.711Z"
   }
  ],
  "kernelspec": {
   "display_name": "Python 3 (ipykernel)",
   "language": "python",
   "name": "python3"
  },
  "language_info": {
   "codemirror_mode": {
    "name": "ipython",
    "version": 3
   },
   "file_extension": ".py",
   "mimetype": "text/x-python",
   "name": "python",
   "nbconvert_exporter": "python",
   "pygments_lexer": "ipython3",
   "version": "3.9.5"
  },
  "toc": {
   "base_numbering": 1,
   "nav_menu": {},
   "number_sections": true,
   "sideBar": true,
   "skip_h1_title": true,
   "title_cell": "Table of Contents",
   "title_sidebar": "Contents",
   "toc_cell": false,
   "toc_position": {
    "height": "calc(100% - 180px)",
    "left": "10px",
    "top": "150px",
    "width": "165px"
   },
   "toc_section_display": true,
   "toc_window_display": false
  }
 },
 "nbformat": 4,
 "nbformat_minor": 2
}
